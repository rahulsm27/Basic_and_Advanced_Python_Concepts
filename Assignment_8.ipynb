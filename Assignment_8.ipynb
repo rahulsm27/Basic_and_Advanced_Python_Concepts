{
 "cells": [
  {
   "cell_type": "code",
   "execution_count": null,
   "metadata": {},
   "outputs": [],
   "source": [
    "# 1. Is the Python Standard Library included with PyInputPlus?\n",
    "# PyInput plus is not standard library. Need to install with pip and import it\n",
    "\n"
   ]
  },
  {
   "cell_type": "code",
   "execution_count": null,
   "metadata": {},
   "outputs": [],
   "source": [
    "# 2. Why is PyInputPlus commonly imported with import pyinputplus as pypi?\n",
    "#!pip install pyinputplus\n",
    "import pyinputplus as pypi\n",
    "\n"
   ]
  },
  {
   "cell_type": "code",
   "execution_count": null,
   "metadata": {},
   "outputs": [],
   "source": [
    "\n",
    "# 3. How do you distinguish between inputInt() and inputFloat()?\n",
    "\n",
    "pyip.inputInt() # accepts only integer values\n",
    "pyip.inputFloat() # accepts float value\n",
    "\n",
    "# 4. Using PyInputPlus, how do you ensure that the user enters a whole number between 0 and 99?\n",
    "pyip.inputInt(min=0,max=99)\n",
    "\n"
   ]
  },
  {
   "cell_type": "code",
   "execution_count": null,
   "metadata": {},
   "outputs": [],
   "source": [
    "# 5. What is transferred to the keyword arguments allowRegexes and blockRegexes?\n",
    "# allowRegex -  It will validate againste the regex expression and only allow input which satisfy those values\n",
    "\n",
    "#blockRegex -  It will validate against the regex expression and only allow input which do not satisfy those values\n",
    "\n",
    "# 6. If a blank input is entered three times, what does inputStr(limit=3) do?\n",
    "# It will throw retry limit exception\n",
    "\n",
    "\n",
    "# 7. If blank input is entered three times, what does inputStr(limit=3, default='hello') do?\n",
    "# When you use limit keyword arguments and also pass a default keyword argument, the function returns the default value instead of raising an exception\n"
   ]
  }
 ],
 "metadata": {
  "kernelspec": {
   "display_name": "Python 3",
   "language": "python",
   "name": "python3"
  },
  "language_info": {
   "codemirror_mode": {
    "name": "ipython",
    "version": 3
   },
   "file_extension": ".py",
   "mimetype": "text/x-python",
   "name": "python",
   "nbconvert_exporter": "python",
   "pygments_lexer": "ipython3",
   "version": "3.11.3"
  }
 },
 "nbformat": 4,
 "nbformat_minor": 4
}
