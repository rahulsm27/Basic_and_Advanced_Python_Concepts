{
 "cells": [
  {
   "cell_type": "code",
   "execution_count": 5,
   "metadata": {},
   "outputs": [
    {
     "name": "stdout",
     "output_type": "stream",
     "text": [
      "in... in... incredible\n"
     ]
    }
   ],
   "source": [
    "# Question1. Write a function that stutters a word as if someone is struggling to read it. The\n",
    "# first two letters are repeated twice with an ellipsis ... and space after each, and then the\n",
    "# word is pronounced with a question mark ?.\n",
    "# Examples\n",
    "# stutter(&quot;incredible&quot;) ➞ &quot;in... in... incredible?&quot;\n",
    "# stutter(&quot;enthusiastic&quot;) ➞ &quot;en... en... enthusiastic?&quot;\n",
    "# stutter(&quot;outstanding&quot;) ➞ &quot;ou... ou... outstanding?&quot;\n",
    "\n",
    "# Hint :- Assume all input is in lower case and at least two characters long.\n",
    "\n",
    "s= \"incredible\"\n",
    "shuter = s[0:2]+\"... \"\n",
    "shuter = shuter * 2 + s\n",
    "print(shuter)\n",
    "\n"
   ]
  },
  {
   "cell_type": "code",
   "execution_count": 6,
   "metadata": {},
   "outputs": [
    {
     "name": "stdout",
     "output_type": "stream",
     "text": [
      "degree = 114.59165581759555\n"
     ]
    }
   ],
   "source": [
    "\n",
    "# Question 2.Create a function that takes an angle in radians and returns the corresponding\n",
    "# angle in degrees rounded to one decimal place.\n",
    "# Examples\n",
    "# radians_to_degrees(1) ➞ 57.3\n",
    "# radians_to_degrees(20) ➞ 1145.9\n",
    "# radians_to_degrees(50) ➞ 2864.8\n",
    "\n",
    "# Function for convertion\n",
    "def radians_to_degrees(radian):\n",
    "    pi = 3.14159\n",
    "    #formula\n",
    "    degree = radian * (180/pi)\n",
    "    return degree\n",
    "radian = float(input('Enter the Radian : '))\n",
    "print(\"degree =\",(radians_to_degrees(radian)))"
   ]
  },
  {
   "cell_type": "code",
   "execution_count": 7,
   "metadata": {},
   "outputs": [
    {
     "name": "stdout",
     "output_type": "stream",
     "text": [
      "5 is Curzon Number\n"
     ]
    }
   ],
   "source": [
    "# Question 3. In this challenge, establish if a given integer num is a Curzon number. If 1 plus\n",
    "# 2 elevated to num is exactly divisible by 1 plus 2 multiplied by num, then num is a Curzon\n",
    "# number.\n",
    "# Given a non-negative integer num, implement a function that returns True if num is a Curzon\n",
    "# number, or False otherwise.\n",
    "# Examples\n",
    "# is_curzon(5) ➞ True\n",
    "# # 2 ** 5 + 1 = 33\n",
    "# # 2 * 5 + 1 = 11\n",
    "# # 33 is a multiple of 11\n",
    "# is_curzon(10) ➞ False\n",
    "# # 2 ** 10 + 1 = 1025\n",
    "# # 2 * 10 + 1 = 21\n",
    "# # 1025 is not a multiple of 21\n",
    "# is_curzon(14) ➞ True\n",
    "# # 2 ** 14 + 1 = 16385\n",
    "# # 2 * 14 + 1 = 29\n",
    "# # 16385 is a multiple of 29\n",
    "def checkIfCurzonNumber(n):\n",
    " \n",
    "    power, product = 0, 0\n",
    " \n",
    "    # Find 2**n + 1\n",
    "    power = pow(2, n) + 1\n",
    " \n",
    "    # Find 2*n + 1\n",
    "    product = 2 * n + 1\n",
    " \n",
    "    # Check for divisibility\n",
    "    if (power % product == 0):\n",
    "        print(n, \"is Curzon Number\")\n",
    "    else:\n",
    "        print(n, \"is not a Curzon Number\")\n",
    "        \n",
    "n = int(input('Enter a number : '))\n",
    "checkIfCurzonNumber(n)"
   ]
  },
  {
   "cell_type": "code",
   "execution_count": 12,
   "metadata": {},
   "outputs": [
    {
     "name": "stdout",
     "output_type": "stream",
     "text": [
      "Area :  2.598076211353316\n"
     ]
    }
   ],
   "source": [
    "# Question 4.Given the side length x find the area of a hexagon.\n",
    "\n",
    "# Examples\n",
    "# area_of_hexagon(1) ➞ 2.6\n",
    "# area_of_hexagon(2) ➞ 10.4\n",
    "# area_of_hexagon(3) ➞ 23.4\n",
    "\n",
    "# Area = (3 √3(n*n) ) / 2\n",
    "import math\n",
    "def area_of_hexagon(s):     \n",
    "    return ((3 * math.sqrt(3) * sideLength * sideLength) / 2);\n",
    "     \n",
    "#length of a side.\n",
    "sideLength = float(input('Enter the length : '))\n",
    "\n",
    "print(\"Area : \",area_of_hexagon(sideLength))\n"
   ]
  },
  {
   "cell_type": "code",
   "execution_count": 15,
   "metadata": {},
   "outputs": [],
   "source": [
    "# Question 5. Create a function that returns a base-2 (binary) representation of a base-10\n",
    "# (decimal) string number. To convert is simple: ((2) means base-2 and (10) means base-10)\n",
    "# 010101001(2) = 1 + 8 + 32 + 128.\n",
    "# Going from right to left, the value of the most right bit is 1, now from that every bit to the left\n",
    "# will be x2 the value, value of an 8 bit binary numbers are (256, 128, 64, 32, 16, 8, 4, 2, 1).\n",
    "# Examples\n",
    "# binary(1) ➞ &quot;1&quot;\n",
    "# # 1*1 = 1\n",
    "# binary(5) ➞ &quot;101&quot;\n",
    "# # 1*1 + 1*4 = 5\n",
    "# binary(10) ➞ &quot;1010&quot;\n",
    "# # 1*2 + 1*8 = 10\n",
    "\n",
    "def dec2bin(n):\n",
    "\n",
    "    if n == 0:\n",
    "        return \n",
    "\n",
    "    dec2bin (n//2)\n",
    "    print  ( n%2, end=\"\")\n",
    "\n"
   ]
  },
  {
   "cell_type": "code",
   "execution_count": 17,
   "metadata": {},
   "outputs": [
    {
     "name": "stdout",
     "output_type": "stream",
     "text": [
      "101"
     ]
    }
   ],
   "source": [
    "dec2bin(5)"
   ]
  },
  {
   "cell_type": "code",
   "execution_count": null,
   "metadata": {},
   "outputs": [],
   "source": []
  }
 ],
 "metadata": {
  "kernelspec": {
   "display_name": "Python 3",
   "language": "python",
   "name": "python3"
  },
  "language_info": {
   "name": "python",
   "version": "3.11.3"
  },
  "orig_nbformat": 4
 },
 "nbformat": 4,
 "nbformat_minor": 2
}
