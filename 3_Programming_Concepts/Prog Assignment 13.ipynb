{
 "cells": [
  {
   "cell_type": "code",
   "execution_count": null,
   "metadata": {},
   "outputs": [],
   "source": [
    "# Question 1:\n",
    "\n",
    "# Write a program that calculates and prints the value according to the given formula:\n",
    "\n",
    "# Q = Square root of [(2 * C * D)/H]\n",
    "\n",
    "# Following are the fixed values of C and H:\n",
    "\n",
    "# C is 50. H is 30.\n",
    "\n",
    "# D is the variable whose values should be input to your program in a comma-separated sequence.\n",
    "\n",
    "# Example\n",
    "\n",
    "# Let us assume the following comma separated input sequence is given to the program:\n",
    "\n",
    "# 100,150,180\n",
    "\n",
    "# The output of the program should be:\n",
    "\n",
    "# 18,22,24\n"
   ]
  },
  {
   "cell_type": "code",
   "execution_count": 4,
   "metadata": {},
   "outputs": [
    {
     "name": "stdout",
     "output_type": "stream",
     "text": [
      "['1', '2', '3']\n",
      "2,3,3\n"
     ]
    }
   ],
   "source": [
    "import math\n",
    "\n",
    "numb = input(\"Provide sequence in with comma separated: \")\n",
    "numb= numb.split(',')\n",
    "\n",
    "result_list = []\n",
    "result_string = ''\n",
    "for D in numb:\n",
    "    Q = round(math.sqrt(2 * 50 * int(D) / 30))\n",
    "    result_list.append(str(Q))\n",
    "    \n",
    "print(','.join(result_list))"
   ]
  },
  {
   "cell_type": "code",
   "execution_count": 3,
   "metadata": {},
   "outputs": [
    {
     "data": {
      "text/plain": [
       "'a'"
      ]
     },
     "execution_count": 3,
     "metadata": {},
     "output_type": "execute_result"
    }
   ],
   "source": [
    "# Question 2:\n",
    "# Write a program which takes 2 digits, X,Y as input and generates a 2-dimensional array. The element value in the i-th row and j-th column of the array should be i*j.\n",
    "\n",
    "# Note: i=0,1.., X-1; j=0,1,¡¬Y-1.\n",
    "\n",
    "# Example\n",
    "\n",
    "# Suppose the following inputs are given to the program:\n",
    "\n",
    "# 3,5\n",
    "\n",
    "# Then, the output of the program should be:\n",
    "\n",
    "# [[0, 0, 0, 0, 0], [0, 1, 2, 3, 4], [0, 2, 4, 6, 8]] "
   ]
  },
  {
   "cell_type": "code",
   "execution_count": 9,
   "metadata": {},
   "outputs": [
    {
     "name": "stdout",
     "output_type": "stream",
     "text": [
      "[[0. 0. 0. 0. 0.]\n",
      " [0. 1. 2. 3. 4.]\n",
      " [0. 2. 4. 6. 8.]]\n"
     ]
    }
   ],
   "source": [
    "import numpy as np\n",
    "x = int(input(\"Enter x : \"))\n",
    "y = int(input(\"enter y : \"))\n",
    "\n",
    "ans = np.zeros((x,y))\n",
    "\n",
    "for i in range(x):\n",
    "    for j in range(y):\n",
    "        ans[i][j] = i*j\n",
    "\n",
    "print(ans)\n"
   ]
  },
  {
   "cell_type": "code",
   "execution_count": 11,
   "metadata": {},
   "outputs": [
    {
     "name": "stdout",
     "output_type": "stream",
     "text": [
      "bag,hello,without,world\n"
     ]
    }
   ],
   "source": [
    "\n",
    "\n",
    "# Question 3:\n",
    "# Write a program that accepts a comma separated sequence of words as input and prints the words in a comma-separated sequence after sorting them alphabetically.\n",
    "\n",
    "# Suppose the following input is supplied to the program:\n",
    "\n",
    "# without,hello,bag,world\n",
    "\n",
    "# Then, the output should be:\n",
    "\n",
    "# bag,hello,without,world\n",
    "\n",
    "x = input('Enter comma seperated words ')\n",
    "x = x.split(\",\")\n",
    "x = sorted(x)\n",
    "x = \",\".join(x)\n",
    "print(x)\n"
   ]
  },
  {
   "cell_type": "code",
   "execution_count": 12,
   "metadata": {},
   "outputs": [
    {
     "name": "stdout",
     "output_type": "stream",
     "text": [
      "again and hello makes perfect practice world\n"
     ]
    }
   ],
   "source": [
    "# Question 4:\n",
    "# Write a program that accepts a sequence of whitespace separated words as input and prints the words after removing all duplicate words and sorting them alphanumerically.\n",
    "\n",
    "# Suppose the following input is supplied to the program:\n",
    "\n",
    "# hello world and practice makes perfect and hello world again\n",
    "\n",
    "# Then, the output should be:\n",
    "\n",
    "# again and hello makes perfect practice world\n",
    "\n",
    "x = input('Enter whitespace seperated words ')\n",
    "x = x.split(\" \")\n",
    "x = sorted(list(set(x)))\n",
    "x = \" \".join(x)\n",
    "\n",
    "print(x)"
   ]
  },
  {
   "cell_type": "code",
   "execution_count": 14,
   "metadata": {},
   "outputs": [
    {
     "name": "stdout",
     "output_type": "stream",
     "text": [
      "Letters 10\n",
      "Digits 4\n"
     ]
    }
   ],
   "source": [
    "# Question 5:\n",
    "# Write a program that accepts a sentence and calculate the number of letters and digits.\n",
    "\n",
    "# Suppose the following input is supplied to the program:\n",
    "\n",
    "# hello world! 123\n",
    "\n",
    "# Then, the output should be:\n",
    "\n",
    "# LETTERS 10\n",
    "\n",
    "# DIGITS 3\n",
    "\n",
    "s = input(\"Enter the sequence\")\n",
    "digits =0\n",
    "letters = 0\n",
    "for i in s:\n",
    "    if i.isdigit():\n",
    "        digits += 1\n",
    "    elif i.isalpha():\n",
    "        letters += 1\n",
    "    else:\n",
    "        pass\n",
    "print(\"Letters\", letters)\n",
    "print(\"Digits\", digits)"
   ]
  },
  {
   "cell_type": "code",
   "execution_count": null,
   "metadata": {},
   "outputs": [],
   "source": []
  },
  {
   "cell_type": "code",
   "execution_count": null,
   "metadata": {},
   "outputs": [],
   "source": []
  },
  {
   "cell_type": "code",
   "execution_count": null,
   "metadata": {},
   "outputs": [],
   "source": []
  },
  {
   "cell_type": "code",
   "execution_count": 17,
   "metadata": {},
   "outputs": [
    {
     "name": "stdout",
     "output_type": "stream",
     "text": [
      "['ABd1234@1']\n",
      "[]\n",
      "[]\n"
     ]
    }
   ],
   "source": [
    "\n",
    "\n",
    "\n",
    "\n",
    "\n",
    "\n",
    "# Question 6:\n",
    "# A website requires the users to input username and password to register. Write a program to check the validity of password input by users.\n",
    "\n",
    "# Following are the criteria for checking the password:\n",
    "\n",
    "# 1. At least 1 letter between [a-z]\n",
    "\n",
    "# 2. At least 1 number between [0-9]\n",
    "\n",
    "# 1. At least 1 letter between [A-Z]\n",
    "\n",
    "# 3. At least 1 character from [$#@]\n",
    "\n",
    "# 4. Minimum length of transaction password: 6\n",
    "\n",
    "# 5. Maximum length of transaction password: 12\n",
    "\n",
    "# Your program should accept a sequence of comma separated passwords and will check them according to the above criteria. Passwords that match the criteria are to be printed, each separated by a comma.\n",
    "\n",
    "# Example\n",
    "\n",
    "\n",
    "# If the following passwords are given as input to the program:\n",
    "\n",
    "# ABd1234@1,a F1#,2w3E*,2We3345\n",
    "\n",
    "# Then, the output of the program should be:\n",
    "\n",
    "# ABd1234@1\n",
    "\n",
    "password = ['ABd1234@1','a F1#','2w3E*,2We3345']\n",
    "import re\n",
    "pattern = r\"^(?=[^a-z]*[a-z])(?=[^A-Z]*[A-Z])(?=\\D*\\d)(?=[^$#@]*[$#@])[a-zA-Z0-9$#@]{6,12}\"\n",
    "for i in password:\n",
    "    x= re.findall(pattern,i)\n",
    "    print(x)"
   ]
  },
  {
   "cell_type": "code",
   "execution_count": null,
   "metadata": {},
   "outputs": [],
   "source": []
  },
  {
   "cell_type": "code",
   "execution_count": null,
   "metadata": {},
   "outputs": [],
   "source": []
  },
  {
   "cell_type": "code",
   "execution_count": null,
   "metadata": {},
   "outputs": [],
   "source": []
  },
  {
   "cell_type": "code",
   "execution_count": null,
   "metadata": {},
   "outputs": [],
   "source": []
  },
  {
   "cell_type": "code",
   "execution_count": null,
   "metadata": {},
   "outputs": [],
   "source": []
  }
 ],
 "metadata": {
  "kernelspec": {
   "display_name": "Python 3",
   "language": "python",
   "name": "python3"
  },
  "language_info": {
   "codemirror_mode": {
    "name": "ipython",
    "version": 3
   },
   "file_extension": ".py",
   "mimetype": "text/x-python",
   "name": "python",
   "nbconvert_exporter": "python",
   "pygments_lexer": "ipython3",
   "version": "3.11.3"
  },
  "orig_nbformat": 4
 },
 "nbformat": 4,
 "nbformat_minor": 2
}
