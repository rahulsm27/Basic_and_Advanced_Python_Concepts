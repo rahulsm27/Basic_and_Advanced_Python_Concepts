{
 "cells": [
  {
   "cell_type": "code",
   "execution_count": 1,
   "metadata": {},
   "outputs": [
    {
     "name": "stdout",
     "output_type": "stream",
     "text": [
      "[1, 2, 3]\n"
     ]
    }
   ],
   "source": [
    "\n",
    "# Question1\n",
    "# Create a function that takes a list of strings and integers, and filters out the list so that it\n",
    "# returns a list of integers only.\n",
    "# Examples\n",
    "# filter_list([1, 2, 3, 'a', 'b', 4]) ➞ [1, 2, 3, 4]\n",
    "# filter_list(['A', 0, 'Edabit', 1729, 'Python', '1729']) ➞ [0, 1729]\n",
    "# filter_list(['Nothing', 'here']) ➞ []\n",
    "\n",
    "inp = [1,2,'a','b',3,'4']\n",
    "\n",
    "ans = [i for i in inp if type(i) == int]\n",
    "\n",
    "print(ans)\n"
   ]
  },
  {
   "cell_type": "code",
   "execution_count": 2,
   "metadata": {},
   "outputs": [
    {
     "data": {
      "text/plain": [
       "[1, 3, 5, 7, 9]"
      ]
     },
     "execution_count": 2,
     "metadata": {},
     "output_type": "execute_result"
    }
   ],
   "source": [
    "# Given a list of numbers, create a function which returns the list but with each element's\n",
    "# index in the list added to itself. This means you add 0 to the number at index 0, add 1 to the\n",
    "# number at index 1, etc...\n",
    "# Examples\n",
    "# add_indexes([0, 0, 0, 0, 0]) ➞ [0, 1, 2, 3, 4]\n",
    "# add_indexes([1, 2, 3, 4, 5]) ➞ [1, 3, 5, 7, 9]\n",
    "# add_indexes([5, 4, 3, 2, 1]) ➞ [5, 5, 5, 5, 5]\n",
    "\n",
    "\n",
    "def add_indexes(lst):\n",
    "    count = 0\n",
    "    index = []\n",
    "    for i in lst:\n",
    "        index.append(i+count)\n",
    "        count+=1\n",
    "    return index\n",
    "\n",
    "add_indexes([1, 2, 3, 4, 5])"
   ]
  },
  {
   "cell_type": "code",
   "execution_count": 3,
   "metadata": {},
   "outputs": [
    {
     "name": "stdout",
     "output_type": "stream",
     "text": [
      "Volume Of Cone :  314\n"
     ]
    }
   ],
   "source": [
    "# Question3\n",
    "# Create a function that takes the height and radius of a cone as arguments and returns the\n",
    "# volume of the cone rounded to the nearest hundredth. See the resources tab for the formula.\n",
    "\n",
    "# Examples\n",
    "# cone_volume(3, 2) ➞ 12.57\n",
    "\n",
    "# cone_volume(15, 6) ➞ 565.49\n",
    "# cone_volume(18, 0) ➞ 0\n",
    "\n",
    "import math\n",
    "pi = math.pi\n",
    " \n",
    "# Function to calculate Volume of Cone\n",
    "def cone_volume(r, h):\n",
    "    return round((1 / 3) * pi * r * r * h)\n",
    " \n",
    "\n",
    "# Driver Code\n",
    "radius = float(5)\n",
    "height = float(12)\n",
    "\n",
    "print( \"Volume Of Cone : \", cone_volume(radius, height) )\n"
   ]
  },
  {
   "cell_type": "code",
   "execution_count": 4,
   "metadata": {},
   "outputs": [
    {
     "data": {
      "text/plain": [
       "23220.0"
      ]
     },
     "execution_count": 4,
     "metadata": {},
     "output_type": "execute_result"
    }
   ],
   "source": [
    "# This Triangular Number Sequence is generated from a pattern of dots that form a triangle.\n",
    "# The first 5 numbers of the sequence, or dots, are:\n",
    "# 1, 3, 6, 10, 15\n",
    "# This means that the first triangle has just one dot, the second one has three dots, the third one\n",
    "# has 6 dots and so on.\n",
    "# Write a function that gives the number of dots with its corresponding triangle number of the\n",
    "# sequence.\n",
    "# Examples\n",
    "# triangle(1) ➞ 1\n",
    "# triangle(6) ➞ 21\n",
    "# triangle(215) ➞ 23220\n",
    "\n",
    "def triangle(n):\n",
    "    return n*(n+1)/2\n",
    "\n",
    "triangle(215)"
   ]
  },
  {
   "cell_type": "code",
   "execution_count": 5,
   "metadata": {},
   "outputs": [
    {
     "data": {
      "text/plain": [
       "10.0"
      ]
     },
     "execution_count": 5,
     "metadata": {},
     "output_type": "execute_result"
    }
   ],
   "source": [
    "# Question5\n",
    "# Create a function that takes a list of numbers between 1 and 10 (excluding one number) and\n",
    "# returns the missing number.\n",
    "# Examples\n",
    "# missing_num([1, 2, 3, 4, 6, 7, 8, 9, 10]) ➞ 5\n",
    "# missing_num([7, 2, 3, 6, 5, 9, 1, 4, 8]) ➞ 10\n",
    "# missing_num([10, 5, 1, 2, 4, 6, 8, 3, 9]) ➞ 7\n",
    "\n",
    "\n",
    "def missing(lst):\n",
    "    expected_len = len(lst) + 1\n",
    "    sum_list = sum(lst)\n",
    "    expected_sum = expected_len*(expected_len+1)/2\n",
    "\n",
    "    return expected_sum - sum_list\n",
    "\n",
    "missing([7, 2, 3, 6, 5, 9, 1, 4, 8])\n",
    "\n"
   ]
  },
  {
   "cell_type": "code",
   "execution_count": null,
   "metadata": {},
   "outputs": [],
   "source": []
  }
 ],
 "metadata": {
  "kernelspec": {
   "display_name": "Python 3",
   "language": "python",
   "name": "python3"
  },
  "language_info": {
   "codemirror_mode": {
    "name": "ipython",
    "version": 3
   },
   "file_extension": ".py",
   "mimetype": "text/x-python",
   "name": "python",
   "nbconvert_exporter": "python",
   "pygments_lexer": "ipython3",
   "version": "3.11.3"
  },
  "orig_nbformat": 4
 },
 "nbformat": 4,
 "nbformat_minor": 2
}
