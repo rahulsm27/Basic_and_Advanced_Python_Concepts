{
 "cells": [
  {
   "cell_type": "code",
   "execution_count": null,
   "metadata": {},
   "outputs": [],
   "source": [
    "# # 9. How do you make a function variable refer to the global variable?\n",
    "# # By using the global keyword\n",
    "\n",
    "\n",
    "# # Variables that are created outside of a function (as in all of the examples above) are known as global variables.\n",
    "\n",
    "# # Global variables can be used by everyone, both inside of functions and outside.\n",
    "\n",
    "# # x = \"awesome\"\n",
    "\n",
    "# # def myfunc():\n",
    "# #   print(\"Python is \" + x)\n",
    "\n",
    "# # myfunc()\n",
    "\n",
    "\n",
    "# Normally, when you create a variable inside a function, that variable is local, and can only be used inside that function.\n",
    "\n",
    "# To create a global variable inside a function, you can use the global keyword.\n",
    "\n",
    "# def myfunc():\n",
    "#   global x\n",
    "#   x = \"fantastic\"\n",
    "\n",
    "# myfunc()\n",
    "\n",
    "# print(\"Python is \" + x)\n",
    "\n",
    "\n",
    "# use the global keyword if you want to change a global variable inside a function.\n",
    "\n",
    "# x = \"awesome\"\n",
    "\n",
    "# def myfunc():\n",
    "#   global x\n",
    "#   x = \"fantastic\"\n",
    "\n",
    "# myfunc()\n",
    "\n",
    "# print(\"Python is \" + x)\n"
   ]
  },
  {
   "cell_type": "code",
   "execution_count": null,
   "metadata": {},
   "outputs": [],
   "source": [
    "# 10. What is the data type of None?\n",
    "#NoneType\n"
   ]
  }
 ],
 "metadata": {
  "kernelspec": {
   "display_name": "Python 3",
   "language": "python",
   "name": "python3"
  },
  "language_info": {
   "codemirror_mode": {
    "name": "ipython",
    "version": 3
   },
   "file_extension": ".py",
   "mimetype": "text/x-python",
   "name": "python",
   "nbconvert_exporter": "python",
   "pygments_lexer": "ipython3",
   "version": "3.8.0"
  }
 },
 "nbformat": 4,
 "nbformat_minor": 4
}
