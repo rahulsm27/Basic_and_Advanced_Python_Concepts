{
 "cells": [
  {
   "cell_type": "code",
   "execution_count": null,
   "metadata": {},
   "outputs": [],
   "source": [
    "# Assignment 1- 6"
   ]
  },
  {
   "cell_type": "code",
   "execution_count": null,
   "metadata": {},
   "outputs": [],
   "source": [
    "# # 9. How do you make a function variable refer to the global variable?\n",
    "# # By using the global keyword\n",
    "\n",
    "\n",
    "# # Variables that are created outside of a function (as in all of the examples above) are known as global variables.\n",
    "\n",
    "# # Global variables can be used by everyone, both inside of functions and outside.\n",
    "\n",
    "# # x = \"awesome\"\n",
    "\n",
    "# # def myfunc():\n",
    "# #   print(\"Python is \" + x)\n",
    "\n",
    "# # myfunc()\n",
    "\n",
    "\n",
    "# Normally, when you create a variable inside a function, that variable is local, and can only be used inside that function.\n",
    "\n",
    "# To create a global variable inside a function, you can use the global keyword.\n",
    "\n",
    "# def myfunc():\n",
    "#   global x\n",
    "#   x = \"fantastic\"\n",
    "\n",
    "# myfunc()\n",
    "\n",
    "# print(\"Python is \" + x)\n",
    "\n",
    "\n",
    "# use the global keyword if you want to change a global variable inside a function.\n",
    "\n",
    "# x = \"awesome\"\n",
    "\n",
    "# def myfunc():\n",
    "#   global x\n",
    "#   x = \"fantastic\"\n",
    "\n",
    "# myfunc()\n",
    "\n",
    "# print(\"Python is \" + x)\n"
   ]
  },
  {
   "cell_type": "code",
   "execution_count": null,
   "metadata": {},
   "outputs": [],
   "source": [
    "# 10. What is the data type of None?\n",
    "#NoneType\n"
   ]
  },
  {
   "cell_type": "code",
   "execution_count": null,
   "metadata": {},
   "outputs": [],
   "source": [
    "# 9. What are the list concatenation and list replication operators?\n",
    "# Concatenation is +\n",
    "# Replication is *"
   ]
  },
  {
   "cell_type": "code",
   "execution_count": null,
   "metadata": {},
   "outputs": [],
   "source": [
    "# 12. Describe how list values and string values are identical.\n",
    "\n",
    "# Both lists and strings can be passed to len()\n",
    "# Have indexes and slices\n",
    "# Can be used in for loops\n",
    "# Can be concatenated or replicated\n",
    "# Can be used with the in and not in operators\n"
   ]
  },
  {
   "cell_type": "code",
   "execution_count": null,
   "metadata": {},
   "outputs": [],
   "source": [
    "# 14. How do you type a tuple value that only contains the integer 42?\n",
    "example = (42,)\n",
    "type(example)\n",
    "\n"
   ]
  },
  {
   "cell_type": "code",
   "execution_count": null,
   "metadata": {},
   "outputs": [],
   "source": [
    "# 17. How do you distinguish between copy.copy() and copy.deepcopy()?\n",
    "\n",
    "# The copy.copy() function will do a shallow copy of a list . Any changes in orignal list will affect the copied list as well\n",
    "# The copy.deepcopy() function will do a deep copy of a list. only copy.deepcopy() will duplicate any lists inside the list"
   ]
  },
  {
   "cell_type": "code",
   "execution_count": null,
   "metadata": {},
   "outputs": [],
   "source": [
    "# 13. What can you do to save a programme from crashing if it encounters an error?\n",
    " # try except clause"
   ]
  },
  {
   "cell_type": "code",
   "execution_count": null,
   "metadata": {},
   "outputs": [],
   "source": [
    "# 8. How do you \"pretty print\" dictionary values using which module and function?\n",
    "\n",
    "import pprint\n",
    "dct = [{'Name': 'Rahul', 'Age':'23'},{'Name': 'XYZ', 'Age':'32'},{'Name': 'Rahul', 'Age':'23'},{'Name': 'XYZ', 'Age':'32'},{'Name': 'Rahul', 'Age':'23'},{'Name': 'XYZ', 'Age':'32'},{'Name': 'Rahul', 'Age':'23'},{'Name': 'XYZ', 'Age':'32'}]\n",
    "pprint.pprint(dct)\n",
    "print(dct)"
   ]
  },
  {
   "cell_type": "code",
   "execution_count": null,
   "metadata": {},
   "outputs": [],
   "source": [
    "# 7. What is a shortcut for the following code?\n",
    "# if 'color' not in spam:\n",
    "# spam['color'] = 'black'\n",
    "\n",
    "# If the key exist, this parameter has no effect.\n",
    "# If the key does not exist, this value becomes the key's value\n",
    "# Default value None\n",
    "spam.setdefault('color','black')"
   ]
  },
  {
   "cell_type": "code",
   "execution_count": null,
   "metadata": {},
   "outputs": [],
   "source": [
    "# 1. What are escape characters, and how do you use them?\n",
    "\n",
    "# An escape sequence is a sequence of characters that, when used inside a character or string, does not represent itself but is converted into another character or series of characters that may be difficult or impossible to express directly, like newline (\\n), tab (\\t), and so on.\n",
    "\n",
    "# In the escape sequence, a character is preceded by a backslash (\\) followed by the character you want to represent for the new line. We have something like this \\\\\\n."
   ]
  },
  {
   "cell_type": "code",
   "execution_count": null,
   "metadata": {},
   "outputs": [],
   "source": [
    "# 9. What are the methods for right-justifying, left-justifying, and centering a string?\n",
    "text = 'example'\n",
    "print(text.ljust(40,\"-\"))\n",
    "\n",
    "print(text.rjust(40,\"-\"))\n",
    "\n",
    "print(text.center(40,\"-\"))\n"
   ]
  },
  {
   "cell_type": "code",
   "execution_count": null,
   "metadata": {},
   "outputs": [],
   "source": [
    "# 2. What do the escape characters n and t stand for?\n",
    "\n",
    "# n - For new line\n",
    "# t - For tab\n",
    "\n",
    "# 3. What is the way to include backslash characters in a string?\n",
    "# using another backslah\n",
    "print(\"test\\\\blackslash\")\n",
    "\n",
    "\n",
    "\n"
   ]
  },
  {
   "cell_type": "code",
   "execution_count": 1,
   "metadata": {},
   "outputs": [
    {
     "data": {
      "text/plain": [
       "['a']"
      ]
     },
     "execution_count": 1,
     "metadata": {},
     "output_type": "execute_result"
    }
   ],
   "source": [
    "import re\n",
    "pattern = 'a'\n",
    "string = 'test for a'\n",
    "re.findall(pattern,string)"
   ]
  },
  {
   "cell_type": "code",
   "execution_count": null,
   "metadata": {},
   "outputs": [],
   "source": [
    "# All of Assignment 7 - Regex"
   ]
  },
  {
   "cell_type": "code",
   "execution_count": null,
   "metadata": {},
   "outputs": [],
   "source": [
    "# All of assignment 8 - PyInputPlus"
   ]
  },
  {
   "cell_type": "code",
   "execution_count": null,
   "metadata": {},
   "outputs": [],
   "source": [
    "# All of assignment 9 and 10 - OS module\n",
    "\n",
    "# Assignment 11 - Logging and Debugging\n",
    "\n",
    "# Assignment 12 - Word and PDF\n",
    "\n",
    "# Assignment 13- CSV and JSOn\n",
    "\n",
    "# Aggingment 14- pillow module"
   ]
  },
  {
   "cell_type": "code",
   "execution_count": null,
   "metadata": {},
   "outputs": [],
   "source": [
    "import docx2txt\n",
    "my_text = docx2txt.process(\"Assignment_1.docx\")\n",
    "print(my_text)"
   ]
  },
  {
   "cell_type": "code",
   "execution_count": 3,
   "metadata": {},
   "outputs": [],
   "source": [
    "# Assignment 15\n",
    "\n",
    "#Write a generator, genPrimes, that returns the sequence of prime numbers on successive calls to its next() method: 2, 3, 5, 7, 11, ...\n",
    "\n",
    "def genprimes():\n",
    "    n = 2\n",
    "    primelist =[]\n",
    "    while True:\n",
    "        for p in primelist:\n",
    "            if n%p == 0:\n",
    "                break\n",
    "        else:\n",
    "            primelist.append(n)\n",
    "            yield n\n",
    "        n = n + 1\n",
    "x = genprimes()\n",
    "\n"
   ]
  },
  {
   "cell_type": "code",
   "execution_count": 4,
   "metadata": {},
   "outputs": [
    {
     "data": {
      "text/plain": [
       "2"
      ]
     },
     "execution_count": 4,
     "metadata": {},
     "output_type": "execute_result"
    }
   ],
   "source": [
    "next(x)"
   ]
  },
  {
   "cell_type": "code",
   "execution_count": null,
   "metadata": {},
   "outputs": [],
   "source": [
    "# Assignment 17\n",
    "\n",
    "\n",
    "# 10. Define an exception called OopsException. Raise this exception to see what happens. Then write the code to catch this exception and print 'Caught an oops'.\n",
    "\n",
    "class OopsException(Exception):\n",
    "    pass\n",
    "\n",
    "def raiseException(num):\n",
    "    if num < 0:\n",
    "        raise OopsException(num)\n",
    "\n",
    "try:\n",
    "    raiseException(-1)\n",
    "except OopsException as err:\n",
    "    print('Caught an oops')"
   ]
  },
  {
   "cell_type": "code",
   "execution_count": null,
   "metadata": {},
   "outputs": [],
   "source": [
    "\n",
    "# 11. Use zip() to make a dictionary called movies that pairs these lists: titles = ['Creature of Habit', 'Crewel Fate'] and plots = ['A nun turns into a monster', 'A haunted yarn shop']\n",
    "\n",
    "titles = ['Creature of Habit', 'Crewel Fate']\n",
    "plots = ['A nun turns into a monster', 'A haunted yarn shop']\n",
    "movies = dict(zip(titles, plots))\n",
    "print(movies)\n"
   ]
  },
  {
   "cell_type": "code",
   "execution_count": 5,
   "metadata": {},
   "outputs": [
    {
     "name": "stdout",
     "output_type": "stream",
     "text": [
      "Got 0\n",
      "Got 1\n",
      "Got 2\n",
      "Got 3\n",
      "Got 4\n",
      "Got 5\n",
      "Got 6\n",
      "Got 7\n",
      "Got 8\n",
      "Got 9\n"
     ]
    }
   ],
   "source": [
    "# 7. Use a generator comprehension to return the string 'Got ' and a number for the numbers in range(10). Iterate through this by using a for loop.\n",
    "gen_string = ('Got ' + str(num) for num in range(10))\n",
    "for num in gen_string:\n",
    "    print(num)\n",
    "\n",
    "\n"
   ]
  },
  {
   "cell_type": "code",
   "execution_count": null,
   "metadata": {},
   "outputs": [],
   "source": [
    "# Assignment 18 nothing"
   ]
  },
  {
   "cell_type": "code",
   "execution_count": 6,
   "metadata": {},
   "outputs": [
    {
     "data": {
      "text/plain": [
       "'H'"
      ]
     },
     "execution_count": 6,
     "metadata": {},
     "output_type": "execute_result"
    }
   ],
   "source": [
    "# Assignment 19\n",
    "\n",
    "\n",
    "# 4. Create an Element class with the instance attributes name, symbol, and number. Create a class object with the values 'Hydrogen,' 'H,' and 1.\n",
    "\n",
    "class Element:\n",
    "    def __init__(self,name,symbol,number) -> None:\n",
    "        self.name = name\n",
    "        self.symbol = symbol\n",
    "        self.number = number\n",
    "\n",
    "\n",
    "Hydrogen = Element('Hydrogen','H',1)\n",
    "\n",
    "\n",
    "\n",
    "dict = {'name':'Hydrogen', 'symbol':'H','number': 1}\n",
    "hydrogen = Element(**dict) # using dictionary unpacking **\n",
    "hydrogen.symbol\n",
    "     "
   ]
  },
  {
   "cell_type": "code",
   "execution_count": null,
   "metadata": {},
   "outputs": [],
   "source": []
  },
  {
   "cell_type": "code",
   "execution_count": null,
   "metadata": {},
   "outputs": [],
   "source": []
  },
  {
   "cell_type": "code",
   "execution_count": null,
   "metadata": {},
   "outputs": [],
   "source": []
  }
 ],
 "metadata": {
  "kernelspec": {
   "display_name": "Python 3",
   "language": "python",
   "name": "python3"
  },
  "language_info": {
   "codemirror_mode": {
    "name": "ipython",
    "version": 3
   },
   "file_extension": ".py",
   "mimetype": "text/x-python",
   "name": "python",
   "nbconvert_exporter": "python",
   "pygments_lexer": "ipython3",
   "version": "3.11.3"
  }
 },
 "nbformat": 4,
 "nbformat_minor": 4
}
