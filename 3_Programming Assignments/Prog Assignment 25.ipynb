{
 "cells": [
  {
   "cell_type": "code",
   "execution_count": 4,
   "metadata": {},
   "outputs": [
    {
     "data": {
      "text/plain": [
       "0"
      ]
     },
     "execution_count": 4,
     "metadata": {},
     "output_type": "execute_result"
    }
   ],
   "source": [
    "# Question1\n",
    "# Create a function that takes three integer arguments (a, b, c) and returns the amount of\n",
    "# integers which are of equal value.\n",
    "# Examples\n",
    "# equal(3, 4, 3) ➞ 2\n",
    "# equal(1, 1, 1) ➞ 3\n",
    "# equal(3, 4, 1) ➞ 0\n",
    "# Notes\n",
    "# Your function must return 0, 2 or 3.\n",
    "\n",
    "def equal(a,b,c):\n",
    "    if a==b and b==c:\n",
    "        return 3\n",
    "    elif a==b or b==c or c==a:\n",
    "        return 2\n",
    "    else :\n",
    "        return 0\n",
    "\n",
    "equal(1, 2, 3)\n"
   ]
  },
  {
   "cell_type": "code",
   "execution_count": 5,
   "metadata": {},
   "outputs": [
    {
     "data": {
      "text/plain": [
       "[('likes', 2), ('dislikes', 3), ('followers', 10)]"
      ]
     },
     "execution_count": 5,
     "metadata": {},
     "output_type": "execute_result"
    }
   ],
   "source": [
    "# Write a function that converts a dictionary into a list of keys-values tuples.\n",
    "# Examples\n",
    "# dict_to_list({\n",
    "# 'D': 1,\n",
    "# 'B': 2,\n",
    "# 'C': 3\n",
    "# }) ➞ [('B', 2), ('C', 3), ('D', 1)]\n",
    "# dict_to_list({\n",
    "# 'likes': 2,\n",
    "# 'dislikes': 3,\n",
    "# 'followers': 10\n",
    "# }) ➞ [('dislikes', 3), ('followers', 10), ('likes', 2)]\n",
    "# Notes\n",
    "# Return the elements in the list in alphabetical order.\n",
    "\n",
    "def dict_to_list(d):\n",
    "    return [(k,v) for k,v in d.items()]\n",
    "\n",
    "dict_to_list({\n",
    "    'likes': 2,\n",
    "    'dislikes': 3,\n",
    "    'followers': 10\n",
    "    })\n"
   ]
  },
  {
   "cell_type": "code",
   "execution_count": 6,
   "metadata": {},
   "outputs": [
    {
     "data": {
      "text/plain": [
       "{'a': 'A', 'v': 'V', 'y': 'Y', 'z': 'Z'}"
      ]
     },
     "execution_count": 6,
     "metadata": {},
     "output_type": "execute_result"
    }
   ],
   "source": [
    "# Question3\n",
    "# Write a function that creates a dictionary with each (key, value) pair being the (lower case,\n",
    "# upper case) versions of a letter, respectively.\n",
    "# Examples\n",
    "# mapping(['p', 's']) ➞ { 'p': 'P', 's': 'S' }\n",
    "\n",
    "# mapping(['a', 'b', 'c']) ➞ { 'a': 'A', 'b': 'B', 'c': 'C' }\n",
    "# mapping(['a', 'v', 'y', 'z']) ➞ { 'a': 'A', 'v': 'V', 'y': 'Y', 'z': 'Z' }\n",
    "# Notes\n",
    "# All of the letters in the input list will always be lowercase.\n",
    "\n",
    "def mapping(lst):\n",
    "    return {k.lower():k.upper() for k in lst}\n",
    "\n",
    "\n",
    "mapping(['a', 'v', 'y', 'z'])\n"
   ]
  },
  {
   "cell_type": "code",
   "execution_count": 8,
   "metadata": {},
   "outputs": [
    {
     "data": {
      "text/plain": [
       "'chooso cossorolo'"
      ]
     },
     "execution_count": 8,
     "metadata": {},
     "output_type": "execute_result"
    }
   ],
   "source": [
    "\n",
    "# Question4\n",
    "# Write a function, that replaces all vowels in a string with a specified vowel.\n",
    "# Examples\n",
    "# vow_replace('apples and bananas', 'u') ➞ 'upplus und bununus'\n",
    "# vow_replace('cheese casserole', 'o') ➞ 'chooso cossorolo'\n",
    "# vow_replace('stuffed jalapeno poppers', 'e') ➞ 'steffed jelepene peppers'\n",
    "# Notes\n",
    "# All words will be lowercase. Y is not considered a vowel.\n",
    "\n",
    "def vow_replace(s,ch):\n",
    "    vowel ='AEIOUaeiuo'\n",
    "    s1 = []\n",
    "    for i in range(len(s)):\n",
    "        if s[i] in vowel:\n",
    "            s1.append(ch)\n",
    "        else:\n",
    "            s1.append(s[i])\n",
    "\n",
    "    return ''.join((s1))\n",
    "\n",
    "vow_replace('cheese casserole', 'o')"
   ]
  },
  {
   "cell_type": "code",
   "execution_count": null,
   "metadata": {},
   "outputs": [],
   "source": []
  },
  {
   "cell_type": "code",
   "execution_count": 7,
   "metadata": {},
   "outputs": [
    {
     "data": {
      "text/plain": [
       "'THe LiTTLe meRmaiD'"
      ]
     },
     "execution_count": 7,
     "metadata": {},
     "output_type": "execute_result"
    }
   ],
   "source": [
    "# Question5\n",
    "# Create a function that takes a string as input and capitalizes a letter if its ASCII code is even\n",
    "# and returns its lower case version if its ASCII code is odd.\n",
    "# Examples\n",
    "# ascii_capitalize('to be or not to be!') ➞ 'To Be oR NoT To Be!'\n",
    "# ascii_capitalize('THE LITTLE MERMAID') ➞ 'THe LiTTLe meRmaiD'\n",
    "# ascii_capitalize('Oh what a beautiful morning.') ➞ 'oH wHaT a BeauTiFuL\n",
    "# moRNiNg.'\n",
    "def ascii_capitalize(s):\n",
    "    ans = [i.lower() if ord(i) % 2 != 0 else i.upper() for i in s]\n",
    "\n",
    "    return \"\".join(ans)\n",
    "\n",
    "\n",
    "ascii_capitalize('THE LITTLE MERMAID')"
   ]
  },
  {
   "cell_type": "code",
   "execution_count": null,
   "metadata": {},
   "outputs": [],
   "source": []
  }
 ],
 "metadata": {
  "kernelspec": {
   "display_name": "Python 3",
   "language": "python",
   "name": "python3"
  },
  "language_info": {
   "codemirror_mode": {
    "name": "ipython",
    "version": 3
   },
   "file_extension": ".py",
   "mimetype": "text/x-python",
   "name": "python",
   "nbconvert_exporter": "python",
   "pygments_lexer": "ipython3",
   "version": "3.11.3"
  },
  "orig_nbformat": 4
 },
 "nbformat": 4,
 "nbformat_minor": 2
}
