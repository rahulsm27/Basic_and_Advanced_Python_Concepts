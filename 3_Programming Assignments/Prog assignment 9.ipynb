{
 "cells": [
  {
   "cell_type": "code",
   "execution_count": 1,
   "metadata": {},
   "outputs": [],
   "source": [
    "# 1.\tWrite a Python program to check if the given number is a Disarium Number?\n",
    "# 2.\tWrite a Python program to print all disarium numbers between 1 to 100?\n",
    "# 3.\tWrite a Python program to check if the given number is Happy Number?\n",
    "# 4.\tWrite a Python program to print all happy numbers between 1 and 100?\n",
    "# 5.\tWrite a Python program to determine whether the given number is a Harshad Number?\n",
    "# 6.\tWrite a Python program to print all pronic numbers between 1 and 100?\n"
   ]
  },
  {
   "cell_type": "code",
   "execution_count": 27,
   "metadata": {},
   "outputs": [
    {
     "name": "stdout",
     "output_type": "stream",
     "text": [
      "Enter number to check Disarium : 135\n",
      "The number is Disarium number\n"
     ]
    }
   ],
   "source": [
    "#1\n",
    "\n",
    "a = int(input(\"Enter number to check Disarium : \"))\n",
    "\n",
    "def check_disarium(a):\n",
    "    \n",
    "    initial = a\n",
    "    sum_of = 0\n",
    "\n",
    "    len_of = len(str(a))\n",
    "\n",
    "\n",
    "    while (a != 0):\n",
    "\n",
    "        sum_of = sum_of + (a%10) ** len_of\n",
    "        \n",
    "        a = a//10\n",
    "        len_of = len_of-1\n",
    "      \n",
    "  \n",
    "    if sum_of == initial:\n",
    "        return True\n",
    "    else:\n",
    "        return False\n",
    "    \n",
    "if check_disarium(a):\n",
    "    print (\"The number is Disarium number\")\n",
    "else:\n",
    "    print (\"The number is not Disarium number\")\n"
   ]
  },
  {
   "cell_type": "code",
   "execution_count": 31,
   "metadata": {},
   "outputs": [
    {
     "name": "stdout",
     "output_type": "stream",
     "text": [
      "[1, 2, 3, 4, 5, 6, 7, 8, 9, 89]\n"
     ]
    }
   ],
   "source": [
    "# 2\n",
    "\n",
    "list_of_nos =[i for i in range(1,101)]\n",
    "ans = list(filter(check_disarium, list_of_nos))\n",
    "print(ans)"
   ]
  },
  {
   "cell_type": "code",
   "execution_count": 40,
   "metadata": {},
   "outputs": [
    {
     "name": "stdout",
     "output_type": "stream",
     "text": [
      "Enter number to check Happy Number : 2\n",
      "The number is not Happy  number\n"
     ]
    }
   ],
   "source": [
    "# 3\n",
    "\n",
    "def happy(n):\n",
    "    flag = ''\n",
    "    check = True\n",
    "    squareset= []\n",
    "    while check:\n",
    "        new_num = 0\n",
    "        while (n != 0):\n",
    "            new_num = new_num + (n%10)**2\n",
    "            n = n//10\n",
    "        n = new_num\n",
    "       \n",
    "        if n == 1 :\n",
    "            flag = True\n",
    "            break\n",
    "        elif n in squareset:\n",
    "            flag = False\n",
    "            break\n",
    "        squareset.append(n)\n",
    "      \n",
    "#            print(new_num)\n",
    "            \n",
    "    return flag\n",
    "\n",
    "\n",
    "a = int(input(\"Enter number to check Happy Number : \"))\n",
    "\n",
    "if happy(a):\n",
    "    print (\"The number is Happy number\")\n",
    "else:\n",
    "    print (\"The number is not Happy  number\")"
   ]
  },
  {
   "cell_type": "code",
   "execution_count": 41,
   "metadata": {},
   "outputs": [
    {
     "name": "stdout",
     "output_type": "stream",
     "text": [
      "[1, 7, 10, 13, 19, 23, 28, 31, 32, 44, 49, 68, 70, 79, 82, 86, 91, 94, 97, 100]\n"
     ]
    }
   ],
   "source": [
    "# 4\n",
    "\n",
    "list_of_nos =[i for i in range(1,101)]\n",
    "ans = list(filter(happy, list_of_nos))\n",
    "print(ans)"
   ]
  },
  {
   "cell_type": "code",
   "execution_count": 46,
   "metadata": {},
   "outputs": [
    {
     "name": "stdout",
     "output_type": "stream",
     "text": [
      "Enter number to check if it is Harshad or not : 18\n",
      "The number is Harshad number\n"
     ]
    }
   ],
   "source": [
    "# 5\n",
    "\n",
    "def harshad(a):\n",
    "    \n",
    "    initial = a\n",
    "    sum_of = 0\n",
    "\n",
    "   \n",
    "\n",
    "    while (a != 0):\n",
    "\n",
    "        sum_of = sum_of + (a%10) \n",
    "        \n",
    "        a = a//10\n",
    "        \n",
    "      \n",
    "  \n",
    "    if (initial % sum_of) == 0:\n",
    "        return True\n",
    "    else:\n",
    "        return False\n",
    "    \n",
    "a = int(input(\"Enter number to check if it is Harshad or not : \"))\n",
    "\n",
    "if harshad(a):\n",
    "    print (\"The number is Harshad number\")\n",
    "else:\n",
    "    print (\"The number is not Harshad number\")"
   ]
  },
  {
   "cell_type": "code",
   "execution_count": 48,
   "metadata": {},
   "outputs": [
    {
     "name": "stdout",
     "output_type": "stream",
     "text": [
      "[1, 2, 3, 4, 5, 6, 7, 8, 9, 10, 12, 18, 20, 21, 24, 27, 30, 36, 40, 42, 45, 48, 50, 54, 60, 63, 70, 72, 80, 81, 84, 90, 100]\n"
     ]
    }
   ],
   "source": [
    "# 6\n",
    "\n",
    "list_of_nos =[i for i in range(1,101)]\n",
    "ans = list(filter(harshad, list_of_nos))\n",
    "print(ans)"
   ]
  },
  {
   "cell_type": "code",
   "execution_count": null,
   "metadata": {},
   "outputs": [],
   "source": []
  }
 ],
 "metadata": {
  "kernelspec": {
   "display_name": "Python 3",
   "language": "python",
   "name": "python3"
  },
  "language_info": {
   "codemirror_mode": {
    "name": "ipython",
    "version": 3
   },
   "file_extension": ".py",
   "mimetype": "text/x-python",
   "name": "python",
   "nbconvert_exporter": "python",
   "pygments_lexer": "ipython3",
   "version": "3.7.6"
  }
 },
 "nbformat": 4,
 "nbformat_minor": 4
}
