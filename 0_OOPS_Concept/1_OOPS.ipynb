{
 "cells": [
  {
   "cell_type": "code",
   "execution_count": null,
   "metadata": {},
   "outputs": [],
   "source": [
    "# 1. OOPS"
   ]
  },
  {
   "cell_type": "code",
   "execution_count": null,
   "metadata": {},
   "outputs": [],
   "source": [
    "# Class - Real world entity or object\n",
    "# helps in modular coding\n",
    "# functionality wise coding\n",
    "\n",
    "#Functions are one of the most important concepts in Python and are used to organize and reuse code.\n",
    "\n",
    "#Modules are a great way to organize and reuse your Python code and can help make your code more readable, maintainable, and efficient.\n",
    "\n",
    "#Classes are importan With classes, you can define the characteristics and behavior of a type of object, and then create instances of that object.\n",
    "\n",
    "#OOP combines data and instructions for processing that data into an object that can be used within the program. It aims to implement real-world entities like inheritance, hiding, and polymorphism in programming.\n",
    "\n",
    "#OOP allows objects to interact with each other using these four basic principles: Encapsulation, Inheritance, Polymorphism, Abstraction. \n",
    "\n"
   ]
  },
  {
   "cell_type": "code",
   "execution_count": null,
   "metadata": {},
   "outputs": [],
   "source": [
    "# self is reference..you can take  anthing."
   ]
  },
  {
   "cell_type": "code",
   "execution_count": null,
   "metadata": {},
   "outputs": [],
   "source": []
  },
  {
   "cell_type": "code",
   "execution_count": null,
   "metadata": {},
   "outputs": [],
   "source": []
  },
  {
   "cell_type": "code",
   "execution_count": null,
   "metadata": {},
   "outputs": [],
   "source": [
    "# 2 Polymorphism"
   ]
  },
  {
   "cell_type": "code",
   "execution_count": null,
   "metadata": {},
   "outputs": [],
   "source": [
    "\n",
    "\n",
    "# In object-oriented-based Python programming, Polymorphism means the same function name is being used for different types\n",
    "\n",
    "#One example of polymorphism is the use of the print() function in Python. This function can be used to print objects of any type, including strings, integers, floats, and lists. The print() function does not need to know the specific type of the object it is printing, as it can handle all types of objects in the same way."
   ]
  },
  {
   "cell_type": "code",
   "execution_count": null,
   "metadata": {},
   "outputs": [],
   "source": [
    "# Operator Overloading\n",
    "# This is a type of overloading where an operator can be used in multiple ways beyond its predefined default behavior. In other words, the same operator can be used for different purposes.\n",
    "\n",
    "# Method Overloading\n",
    "# This type of overloading means a class contains multiple methods with the same name but different arguments. Please note that Python does not support method overloading.\n",
    "\n",
    "# Method overriding\n",
    "\n",
    "#Polymorphism with Inheritance\n",
    "#As we have already understood, Polymorphism in Python allows us to define functions (methods) that are the same as functions in the parent classes."
   ]
  },
  {
   "cell_type": "code",
   "execution_count": 1,
   "metadata": {},
   "outputs": [],
   "source": [
    "# multiple state"
   ]
  },
  {
   "cell_type": "code",
   "execution_count": 2,
   "metadata": {},
   "outputs": [
    {
     "data": {
      "text/plain": [
       "9"
      ]
     },
     "execution_count": 2,
     "metadata": {},
     "output_type": "execute_result"
    }
   ],
   "source": [
    "def test(a,b):\n",
    "    return a+b \n",
    "\n",
    "test(4,5)"
   ]
  },
  {
   "cell_type": "code",
   "execution_count": 3,
   "metadata": {},
   "outputs": [
    {
     "data": {
      "text/plain": [
       "'rahulmahajan'"
      ]
     },
     "execution_count": 3,
     "metadata": {},
     "output_type": "execute_result"
    }
   ],
   "source": [
    "test('rahul','mahajan')"
   ]
  },
  {
   "cell_type": "code",
   "execution_count": 9,
   "metadata": {},
   "outputs": [
    {
     "name": "stdout",
     "output_type": "stream",
     "text": [
      "hi this is boy\n",
      "hi this is girl\n"
     ]
    }
   ],
   "source": [
    "class boy:\n",
    "    def info(self):\n",
    "        print(\"hi this is boy\")\n",
    "\n",
    "class girl:\n",
    "    def info(self):\n",
    "        print(\"hi this is girl\")\n",
    "\n",
    "\n",
    "b= boy()\n",
    "g = girl()\n",
    "\n",
    "for i in [b,g]:\n",
    "    i.info()"
   ]
  },
  {
   "cell_type": "code",
   "execution_count": null,
   "metadata": {},
   "outputs": [],
   "source": []
  },
  {
   "cell_type": "code",
   "execution_count": null,
   "metadata": {},
   "outputs": [],
   "source": []
  },
  {
   "cell_type": "code",
   "execution_count": null,
   "metadata": {},
   "outputs": [],
   "source": [
    "# 3 Encapsulation\n",
    "\n",
    "# avoid direct access or modification of data\n",
    "# This puts restrictions on accessing variables and methods directly and can prevent the accidental modification of data\n",
    "# makes __ as private"
   ]
  },
  {
   "cell_type": "code",
   "execution_count": 26,
   "metadata": {},
   "outputs": [],
   "source": [
    "# we use get and set method to allow access to users\n",
    "class car:\n",
    "\n",
    "    def __init__(self,year, make, model, speed):\n",
    "        self.__year = year\n",
    "        self.__make = make\n",
    "        self.__model = model \n",
    "        self.__speed = speed\n",
    "\n",
    "    def set_speed(self, speed):\n",
    "        self.__speed = 0 if speed < 0 else speed\n",
    "\n",
    "\n",
    "    def get_speed(self):\n",
    "        return self.__speed\n",
    "\n",
    "\n",
    "\n"
   ]
  },
  {
   "cell_type": "code",
   "execution_count": 27,
   "metadata": {},
   "outputs": [],
   "source": [
    "obj_car = car(2021, \"Toyota\", \"innova\", 12)"
   ]
  },
  {
   "cell_type": "code",
   "execution_count": 28,
   "metadata": {},
   "outputs": [
    {
     "data": {
      "text/plain": [
       "12"
      ]
     },
     "execution_count": 28,
     "metadata": {},
     "output_type": "execute_result"
    }
   ],
   "source": [
    "obj_car.get_speed()"
   ]
  },
  {
   "cell_type": "code",
   "execution_count": 17,
   "metadata": {},
   "outputs": [
    {
     "ename": "AttributeError",
     "evalue": "'car' object has no attribute '__year'",
     "output_type": "error",
     "traceback": [
      "\u001b[0;31m---------------------------------------------------------------------------\u001b[0m",
      "\u001b[0;31mAttributeError\u001b[0m                            Traceback (most recent call last)",
      "\u001b[1;32m/Users/rahulmahajan/Desktop/Projects/DS/2. Tech Neuron/Tech Neuron Assignments/1. Python Basics/1_OOPS_Concept/1_notes.ipynb Cell 18\u001b[0m line \u001b[0;36m1\n\u001b[0;32m----> <a href='vscode-notebook-cell:/Users/rahulmahajan/Desktop/Projects/DS/2.%20Tech%20Neuron/Tech%20Neuron%20Assignments/1.%20Python%20Basics/1_OOPS_Concept/1_notes.ipynb#X46sZmlsZQ%3D%3D?line=0'>1</a>\u001b[0m obj_car\u001b[39m.\u001b[39;49m__year\n",
      "\u001b[0;31mAttributeError\u001b[0m: 'car' object has no attribute '__year'"
     ]
    }
   ],
   "source": [
    "obj_car.__year # as a outsider you will not be able to access "
   ]
  },
  {
   "cell_type": "code",
   "execution_count": 14,
   "metadata": {},
   "outputs": [
    {
     "data": {
      "text/plain": [
       "2021"
      ]
     },
     "execution_count": 14,
     "metadata": {},
     "output_type": "execute_result"
    }
   ],
   "source": [
    "# through only class i can see\n",
    "obj_car._car__year # as a owner who knows class name and varialbe will be able to access"
   ]
  },
  {
   "cell_type": "code",
   "execution_count": null,
   "metadata": {},
   "outputs": [],
   "source": [
    "# use of _ (single underscore)\n",
    "# Although the protected variable can be accessed out of the class as well as in the derived class (modified too in derived class), it is customary(convention not a rule) to not access the protected out the class body."
   ]
  },
  {
   "cell_type": "code",
   "execution_count": 18,
   "metadata": {},
   "outputs": [],
   "source": [
    "class car2:\n",
    "\n",
    "    def __init__(self,year, make, model, speed):\n",
    "        self._year = year\n",
    "        self._make = make\n",
    "        self._model = model \n",
    "        self._speed = 0\n",
    "\n",
    "    def set_speed(self, speed):\n",
    "        self._speed = 0 if speed < 0 else speed\n",
    "\n",
    "\n"
   ]
  },
  {
   "cell_type": "code",
   "execution_count": 19,
   "metadata": {},
   "outputs": [],
   "source": [
    "obj = car2(2023,\"maruti\",\"baleno\",12)"
   ]
  },
  {
   "cell_type": "code",
   "execution_count": 20,
   "metadata": {},
   "outputs": [
    {
     "data": {
      "text/plain": [
       "'maruti'"
      ]
     },
     "execution_count": 20,
     "metadata": {},
     "output_type": "execute_result"
    }
   ],
   "source": [
    "# able to access\n",
    "obj._make"
   ]
  },
  {
   "cell_type": "code",
   "execution_count": null,
   "metadata": {},
   "outputs": [],
   "source": [
    "# you cannnot access __ veriables. but you can access _ in case of inheritance"
   ]
  },
  {
   "cell_type": "code",
   "execution_count": 31,
   "metadata": {},
   "outputs": [
    {
     "name": "stdout",
     "output_type": "stream",
     "text": [
      "GeeksforGeeks\n",
      "Calling private member of base class: \n"
     ]
    },
    {
     "ename": "AttributeError",
     "evalue": "'Derived' object has no attribute '_Derived__c'",
     "output_type": "error",
     "traceback": [
      "\u001b[0;31m---------------------------------------------------------------------------\u001b[0m",
      "\u001b[0;31mAttributeError\u001b[0m                            Traceback (most recent call last)",
      "\u001b[1;32m/Users/rahulmahajan/Desktop/Projects/DS/2. Tech Neuron/Tech Neuron Assignments/1. Python Basics/1_OOPS_Concept/1_notes.ipynb Cell 26\u001b[0m line \u001b[0;36m2\n\u001b[1;32m     <a href='vscode-notebook-cell:/Users/rahulmahajan/Desktop/Projects/DS/2.%20Tech%20Neuron/Tech%20Neuron%20Assignments/1.%20Python%20Basics/1_OOPS_Concept/1_notes.ipynb#X36sZmlsZQ%3D%3D?line=23'>24</a>\u001b[0m obj1 \u001b[39m=\u001b[39m Base() \n\u001b[1;32m     <a href='vscode-notebook-cell:/Users/rahulmahajan/Desktop/Projects/DS/2.%20Tech%20Neuron/Tech%20Neuron%20Assignments/1.%20Python%20Basics/1_OOPS_Concept/1_notes.ipynb#X36sZmlsZQ%3D%3D?line=24'>25</a>\u001b[0m \u001b[39mprint\u001b[39m(obj1\u001b[39m.\u001b[39ma) \n\u001b[0;32m---> <a href='vscode-notebook-cell:/Users/rahulmahajan/Desktop/Projects/DS/2.%20Tech%20Neuron/Tech%20Neuron%20Assignments/1.%20Python%20Basics/1_OOPS_Concept/1_notes.ipynb#X36sZmlsZQ%3D%3D?line=26'>27</a>\u001b[0m obj2 \u001b[39m=\u001b[39m Derived()\n\u001b[1;32m     <a href='vscode-notebook-cell:/Users/rahulmahajan/Desktop/Projects/DS/2.%20Tech%20Neuron/Tech%20Neuron%20Assignments/1.%20Python%20Basics/1_OOPS_Concept/1_notes.ipynb#X36sZmlsZQ%3D%3D?line=28'>29</a>\u001b[0m \u001b[39m# Uncommenting print(obj1.c) will \u001b[39;00m\n\u001b[1;32m     <a href='vscode-notebook-cell:/Users/rahulmahajan/Desktop/Projects/DS/2.%20Tech%20Neuron/Tech%20Neuron%20Assignments/1.%20Python%20Basics/1_OOPS_Concept/1_notes.ipynb#X36sZmlsZQ%3D%3D?line=29'>30</a>\u001b[0m \u001b[39m# raise an AttributeError \u001b[39;00m\n\u001b[1;32m     <a href='vscode-notebook-cell:/Users/rahulmahajan/Desktop/Projects/DS/2.%20Tech%20Neuron/Tech%20Neuron%20Assignments/1.%20Python%20Basics/1_OOPS_Concept/1_notes.ipynb#X36sZmlsZQ%3D%3D?line=30'>31</a>\u001b[0m  \n\u001b[0;32m   (...)\u001b[0m\n\u001b[1;32m     <a href='vscode-notebook-cell:/Users/rahulmahajan/Desktop/Projects/DS/2.%20Tech%20Neuron/Tech%20Neuron%20Assignments/1.%20Python%20Basics/1_OOPS_Concept/1_notes.ipynb#X36sZmlsZQ%3D%3D?line=33'>34</a>\u001b[0m \u001b[39m# private member of base class \u001b[39;00m\n\u001b[1;32m     <a href='vscode-notebook-cell:/Users/rahulmahajan/Desktop/Projects/DS/2.%20Tech%20Neuron/Tech%20Neuron%20Assignments/1.%20Python%20Basics/1_OOPS_Concept/1_notes.ipynb#X36sZmlsZQ%3D%3D?line=34'>35</a>\u001b[0m \u001b[39m# is called inside derived class \u001b[39;00m\n",
      "\u001b[1;32m/Users/rahulmahajan/Desktop/Projects/DS/2. Tech Neuron/Tech Neuron Assignments/1. Python Basics/1_OOPS_Concept/1_notes.ipynb Cell 26\u001b[0m line \u001b[0;36m2\n\u001b[1;32m     <a href='vscode-notebook-cell:/Users/rahulmahajan/Desktop/Projects/DS/2.%20Tech%20Neuron/Tech%20Neuron%20Assignments/1.%20Python%20Basics/1_OOPS_Concept/1_notes.ipynb#X36sZmlsZQ%3D%3D?line=17'>18</a>\u001b[0m Base\u001b[39m.\u001b[39m\u001b[39m__init__\u001b[39m(\u001b[39mself\u001b[39m) \n\u001b[1;32m     <a href='vscode-notebook-cell:/Users/rahulmahajan/Desktop/Projects/DS/2.%20Tech%20Neuron/Tech%20Neuron%20Assignments/1.%20Python%20Basics/1_OOPS_Concept/1_notes.ipynb#X36sZmlsZQ%3D%3D?line=18'>19</a>\u001b[0m \u001b[39mprint\u001b[39m(\u001b[39m\"\u001b[39m\u001b[39mCalling private member of base class: \u001b[39m\u001b[39m\"\u001b[39m) \n\u001b[0;32m---> <a href='vscode-notebook-cell:/Users/rahulmahajan/Desktop/Projects/DS/2.%20Tech%20Neuron/Tech%20Neuron%20Assignments/1.%20Python%20Basics/1_OOPS_Concept/1_notes.ipynb#X36sZmlsZQ%3D%3D?line=19'>20</a>\u001b[0m \u001b[39mprint\u001b[39m(\u001b[39mself\u001b[39;49m\u001b[39m.\u001b[39;49m__c)\n",
      "\u001b[0;31mAttributeError\u001b[0m: 'Derived' object has no attribute '_Derived__c'"
     ]
    }
   ],
   "source": [
    " #Python program to \n",
    "# demonstrate private members \n",
    "  \n",
    "# Creating a Base class \n",
    "  \n",
    "  \n",
    "class Base: \n",
    "    def __init__(self): \n",
    "        self.a = \"GeeksforGeeks\"\n",
    "        self.__c = \"GeeksforGeeks\"\n",
    "  \n",
    "# Creating a derived class \n",
    "class Derived(Base): \n",
    "    def __init__(self): \n",
    "  \n",
    "        # Calling constructor of \n",
    "        # Base class \n",
    "        Base.__init__(self) \n",
    "        print(\"Calling private member of base class: \") \n",
    "        print(self.__c) \n",
    "  \n",
    "  \n",
    "# Driver code \n",
    "obj1 = Base() \n",
    "print(obj1.a) \n",
    "\n",
    "obj2 = Derived()\n",
    "  \n",
    "# Uncommenting print(obj1.c) will \n",
    "# raise an AttributeError \n",
    "  \n",
    "# Uncommenting obj2 = Derived() will \n",
    "# also raise an AttributeError as \n",
    "# private member of base class \n",
    "# is called inside derived class "
   ]
  },
  {
   "cell_type": "code",
   "execution_count": 32,
   "metadata": {},
   "outputs": [
    {
     "name": "stdout",
     "output_type": "stream",
     "text": [
      "Calling protected member of base class:  2\n",
      "Calling modified protected member outside class:  3\n",
      "Accessing protected member of obj1:  3\n",
      "Accessing protected member of obj2:  2\n"
     ]
    }
   ],
   "source": [
    "# Python program to \n",
    "# demonstrate protected members \n",
    "  \n",
    "# Creating a base class \n",
    "class Base: \n",
    "    def __init__(self): \n",
    "  \n",
    "        # Protected member \n",
    "        self._a = 2\n",
    "  \n",
    "# Creating a derived class \n",
    "class Derived(Base): \n",
    "    def __init__(self): \n",
    "  \n",
    "        # Calling constructor of \n",
    "        # Base class \n",
    "        Base.__init__(self) \n",
    "        print(\"Calling protected member of base class: \",  \n",
    "              self._a) \n",
    "  \n",
    "        # Modify the protected variable: \n",
    "        self._a = 3\n",
    "        print(\"Calling modified protected member outside class: \", \n",
    "              self._a) \n",
    "  \n",
    "  \n",
    "obj1 = Derived() \n",
    "  \n",
    "obj2 = Base() \n",
    "  \n",
    "# Calling protected member \n",
    "# Can be accessed but should not be done due to convention \n",
    "print(\"Accessing protected member of obj1: \", obj1._a) \n",
    "  \n",
    "# Accessing the protected variable outside \n",
    "print(\"Accessing protected member of obj2: \", obj2._a) "
   ]
  },
  {
   "cell_type": "code",
   "execution_count": null,
   "metadata": {},
   "outputs": [],
   "source": []
  },
  {
   "cell_type": "code",
   "execution_count": null,
   "metadata": {},
   "outputs": [],
   "source": []
  },
  {
   "cell_type": "code",
   "execution_count": null,
   "metadata": {},
   "outputs": [],
   "source": [
    "# 4 .Inheritance\n",
    "# single \n",
    "# multilevel\n",
    "# multiple\n",
    "# hirarchical "
   ]
  },
  {
   "cell_type": "code",
   "execution_count": null,
   "metadata": {},
   "outputs": [],
   "source": [
    "#  Inheritance is the concept in OOPs in which one class inherits the attributes and methods of another class. The class whose properties and methods are inherited is known as the Parent class. And the class that inherits the properties from the parent class is the Child class.\n",
    "\n",
    "# Inheritance provides code reusability, abstraction, etc. Because of inheritance, we can even inherit abstract classes, classes with constructors"
   ]
  },
  {
   "cell_type": "code",
   "execution_count": 33,
   "metadata": {},
   "outputs": [],
   "source": [
    "# 1. multilevel inheritance\n",
    "# Class -> Class b -> Class C"
   ]
  },
  {
   "cell_type": "code",
   "execution_count": 41,
   "metadata": {},
   "outputs": [],
   "source": [
    "class class1:\n",
    "    def test_class(self):\n",
    "        print(\"this is my class1\")\n",
    "\n",
    "class class2(class1):\n",
    "    def test_class(self):\n",
    "        print(\"this is my class2\")\n",
    "\n",
    "\n",
    "\n",
    "class class3(class2):\n",
    "    def test_class3(self):\n",
    "        print(\"this is my class3\")\n",
    "\n",
    "\n",
    "\n"
   ]
  },
  {
   "cell_type": "code",
   "execution_count": 42,
   "metadata": {},
   "outputs": [],
   "source": [
    "x = class3()"
   ]
  },
  {
   "cell_type": "code",
   "execution_count": 43,
   "metadata": {},
   "outputs": [
    {
     "name": "stdout",
     "output_type": "stream",
     "text": [
      "this is my class2\n"
     ]
    }
   ],
   "source": [
    "x.test_class()"
   ]
  },
  {
   "cell_type": "code",
   "execution_count": 40,
   "metadata": {},
   "outputs": [
    {
     "name": "stdout",
     "output_type": "stream",
     "text": [
      "this is my class2\n"
     ]
    }
   ],
   "source": [
    "x.test_class()"
   ]
  },
  {
   "cell_type": "code",
   "execution_count": null,
   "metadata": {},
   "outputs": [],
   "source": []
  },
  {
   "cell_type": "code",
   "execution_count": null,
   "metadata": {},
   "outputs": [],
   "source": [
    "# Multiple inheritance\n",
    "# class1 and class2\n",
    "# class3 inherits from class 1 and class2\n",
    "\n",
    "# In multiple inheritances, the child class first searches for the method in its own class. If not found, then it searches in the parent classes depth_first and left-right order."
   ]
  },
  {
   "cell_type": "code",
   "execution_count": 48,
   "metadata": {},
   "outputs": [],
   "source": [
    "class class1:\n",
    "    def test_class(self):\n",
    "        print(\"this is my class1\")\n",
    "\n",
    "class class2:\n",
    "    def test_class(self):\n",
    "        print(\"this is my class2\")\n",
    "\n",
    "\n",
    "\n",
    "class class3(class1,class2):\n",
    "    def test_class3(self):\n",
    "        print(\"this is my class3\")\n",
    "\n",
    "\n",
    "class class4(class2,class1):\n",
    "    def test_class3(self):\n",
    "        print(\"this is my class4\")\n",
    "\n",
    "\n"
   ]
  },
  {
   "cell_type": "code",
   "execution_count": 49,
   "metadata": {},
   "outputs": [
    {
     "name": "stdout",
     "output_type": "stream",
     "text": [
      "this is my class1\n",
      "this is my class2\n"
     ]
    }
   ],
   "source": [
    "x = class3()\n",
    "x.test_class()\n",
    "\n",
    "x= class4()\n",
    "x.test_class()"
   ]
  },
  {
   "cell_type": "code",
   "execution_count": null,
   "metadata": {},
   "outputs": [],
   "source": [
    "#But for complicated inheritance problems, it gets tough to identify the order. So the actual way of doing this is called Method Resolution Order (MRO) in Python. We can find the MRO of any class using the attribute __mro__."
   ]
  },
  {
   "cell_type": "code",
   "execution_count": 55,
   "metadata": {},
   "outputs": [],
   "source": [
    "class Parent_1:\n",
    "    pass\n",
    "\n",
    "class Parent_2:\n",
    "    pass\n",
    "\n",
    "class Parent_3:\n",
    "    pass\n",
    "\n",
    "class Parent_4:\n",
    "    pass\n",
    "\n",
    "class Child_1(Parent_1,Parent_2):\n",
    "    pass\n",
    "\n",
    "class Child_2(Parent_3,Parent_4):\n",
    "    pass\n",
    "\n",
    "class Child_3(Child_1,Child_2):\n",
    "    pass"
   ]
  },
  {
   "cell_type": "code",
   "execution_count": 56,
   "metadata": {},
   "outputs": [
    {
     "data": {
      "text/plain": [
       "(__main__.Child_3,\n",
       " __main__.Child_1,\n",
       " __main__.Parent_1,\n",
       " __main__.Parent_2,\n",
       " __main__.Child_2,\n",
       " __main__.Parent_3,\n",
       " __main__.Parent_4,\n",
       " object)"
      ]
     },
     "execution_count": 56,
     "metadata": {},
     "output_type": "execute_result"
    }
   ],
   "source": [
    "Child_3.__mro__"
   ]
  },
  {
   "cell_type": "code",
   "execution_count": null,
   "metadata": {},
   "outputs": [],
   "source": [
    "# The super() function in Python returns a proxy object that references the parent class using the super keyword. This super() keyword is basically useful in accessing the overridden methods of the parent class."
   ]
  },
  {
   "cell_type": "code",
   "execution_count": 57,
   "metadata": {},
   "outputs": [
    {
     "name": "stdout",
     "output_type": "stream",
     "text": [
      "Function of Parent class.\n",
      "Function of Child class.\n"
     ]
    }
   ],
   "source": [
    "class Parent:\n",
    "  def f1(self):\n",
    "    print(\"Function of Parent class.\")\n",
    "\n",
    "class Child(Parent):\n",
    "  def f1(self):\n",
    "    super().f1()\n",
    "    print(\"Function of Child class.\")\n",
    "\n",
    "obj = Child()\n",
    "obj.f1()"
   ]
  },
  {
   "cell_type": "code",
   "execution_count": null,
   "metadata": {},
   "outputs": [],
   "source": []
  },
  {
   "cell_type": "code",
   "execution_count": null,
   "metadata": {},
   "outputs": [],
   "source": [
    "# # 5 Abstraction \n",
    "# By default, Python does not provide abstract classes. Python comes with a module that provides the base for defining Abstract Base classes(ABC) and that module name is ABC.\n",
    "\n",
    "# abstract classes are used to create a blueprint of our classes as they don't contain the method implementation.\n",
    "\n",
    "# Abstract classes are not complete, as they may have some methods that are not defined. So we cannot create an instance or object of an abstract class in Python. If we try to instantiate the abstract class, it raises an error.\n",
    "\n",
    "\n",
    "\n",
    "# ABC works by decorating methods of the base class as an abstract and then registering concrete classes as implementations of the abstract base. A method becomes abstract when decorated with the keyword @abstractmethod."
   ]
  },
  {
   "cell_type": "code",
   "execution_count": 72,
   "metadata": {},
   "outputs": [],
   "source": [
    "from abc import ABC, abstractmethod\n",
    "\n",
    "class base(ABC):\n",
    "\n",
    "    @abstractmethod\n",
    "    def test(self):\n",
    "        print(\"test\")\n",
    "        pass\n",
    "\n",
    "\n",
    "class inherit(base):\n",
    "    pass"
   ]
  },
  {
   "cell_type": "code",
   "execution_count": 73,
   "metadata": {},
   "outputs": [
    {
     "ename": "TypeError",
     "evalue": "Can't instantiate abstract class base with abstract method test",
     "output_type": "error",
     "traceback": [
      "\u001b[0;31m---------------------------------------------------------------------------\u001b[0m",
      "\u001b[0;31mTypeError\u001b[0m                                 Traceback (most recent call last)",
      "\u001b[1;32m/Users/rahulmahajan/Desktop/Projects/DS/2. Tech Neuron/Tech Neuron Assignments/1. Python Basics/1_OOPS_Concept/1_notes.ipynb Cell 49\u001b[0m line \u001b[0;36m1\n\u001b[0;32m----> <a href='vscode-notebook-cell:/Users/rahulmahajan/Desktop/Projects/DS/2.%20Tech%20Neuron/Tech%20Neuron%20Assignments/1.%20Python%20Basics/1_OOPS_Concept/1_notes.ipynb#Y102sZmlsZQ%3D%3D?line=0'>1</a>\u001b[0m y \u001b[39m=\u001b[39m base()\n",
      "\u001b[0;31mTypeError\u001b[0m: Can't instantiate abstract class base with abstract method test"
     ]
    }
   ],
   "source": [
    "y = base()"
   ]
  },
  {
   "cell_type": "code",
   "execution_count": 71,
   "metadata": {},
   "outputs": [
    {
     "name": "stdout",
     "output_type": "stream",
     "text": [
      "test\n"
     ]
    }
   ],
   "source": [
    "y.test()"
   ]
  },
  {
   "cell_type": "code",
   "execution_count": 67,
   "metadata": {},
   "outputs": [],
   "source": [
    "x = inherit()"
   ]
  },
  {
   "cell_type": "code",
   "execution_count": null,
   "metadata": {},
   "outputs": [],
   "source": [
    "x"
   ]
  },
  {
   "cell_type": "code",
   "execution_count": null,
   "metadata": {},
   "outputs": [],
   "source": []
  },
  {
   "cell_type": "code",
   "execution_count": null,
   "metadata": {},
   "outputs": [],
   "source": []
  },
  {
   "cell_type": "code",
   "execution_count": null,
   "metadata": {},
   "outputs": [],
   "source": []
  },
  {
   "cell_type": "code",
   "execution_count": null,
   "metadata": {},
   "outputs": [],
   "source": [
    "# 6. Decorators\n",
    "\n",
    "# the purpose of decorator is to perform some task before a function and after a fucntin. ex time calculation"
   ]
  },
  {
   "cell_type": "code",
   "execution_count": 75,
   "metadata": {},
   "outputs": [],
   "source": [
    "def deco(func):\n",
    "    def inner():\n",
    "        print('this is the start of my func')\n",
    "        func()\n",
    "        print(\"this is the end of my func\")\n",
    "    return inner\n",
    "\n",
    "@deco\n",
    "def test():\n",
    "    print(4+5)\n"
   ]
  },
  {
   "cell_type": "code",
   "execution_count": 76,
   "metadata": {},
   "outputs": [
    {
     "name": "stdout",
     "output_type": "stream",
     "text": [
      "this is the start of my func\n",
      "9\n",
      "this is the end of my func\n"
     ]
    }
   ],
   "source": [
    "test()"
   ]
  },
  {
   "cell_type": "code",
   "execution_count": null,
   "metadata": {},
   "outputs": [],
   "source": [
    "\n",
    "\n",
    "# defining a decorator\n",
    "def hello_decorator(func):\n",
    " \n",
    "    # inner1 is a Wrapper function in \n",
    "  \n",
    "    def inner1(*args, **kwargs): # *args, * kwargs required to pass values to func\n",
    "        print(\"Hello, this is before function execution\")\n",
    " \n",
    "        # calling the actual function now\n",
    "        # inside the wrapper function.\n",
    "        value = func(*args,**kwargs)\n",
    "        print(value)\n",
    "        print(\"This is after function execution\")\n",
    "\n",
    "        return value # if we want to return oringal function value\n",
    "         \n",
    "    return inner1 # returning wrapper function\n",
    " \n",
    " \n",
    "# defining a function, to be called inside wrapper\n",
    "@hello_decorator\n",
    "def function_to_be_used(a,b):\n",
    "    \n",
    "    print(\"This is inside the function !!\")\n",
    "    return (a+b)\n",
    " \n",
    " \n",
    "# passing 'function_to_be_used' inside the\n",
    "# decorator to control its behaviour\n",
    "\n",
    "function_to_be_used(1,2)  \n",
    "\n",
    "#without decorator we need to use as below\n",
    "# x = hello_decorator(functio_to_be_used) # note it returns a function\n",
    "# x becomes function\n",
    "# x (1,2)"
   ]
  },
  {
   "cell_type": "code",
   "execution_count": 77,
   "metadata": {},
   "outputs": [],
   "source": [
    "import time\n",
    "\n",
    "\n",
    "def timer_test(func):\n",
    "\n",
    "    def timer_test_inner():\n",
    "        start = time.time()\n",
    "        func()\n",
    "        end = time.time()\n",
    "        print(end-start)\n",
    "\n",
    "    return timer_test_inner\n",
    "@timer_test\n",
    "def test2():\n",
    "    print(45+67)\n",
    "\n",
    "\n",
    "\n",
    "\n",
    "\n"
   ]
  },
  {
   "cell_type": "code",
   "execution_count": 78,
   "metadata": {},
   "outputs": [
    {
     "name": "stdout",
     "output_type": "stream",
     "text": [
      "112\n",
      "0.0016148090362548828\n"
     ]
    }
   ],
   "source": [
    "test2()"
   ]
  },
  {
   "cell_type": "code",
   "execution_count": null,
   "metadata": {},
   "outputs": [],
   "source": []
  },
  {
   "cell_type": "code",
   "execution_count": null,
   "metadata": {},
   "outputs": [],
   "source": []
  },
  {
   "cell_type": "code",
   "execution_count": null,
   "metadata": {},
   "outputs": [],
   "source": [
    "# 7 . Class methods"
   ]
  },
  {
   "cell_type": "code",
   "execution_count": null,
   "metadata": {},
   "outputs": [],
   "source": [
    "# Class Methods\n",
    "# Let’s compare that to the second method, MyClass.classmethod. I marked this method with a @classmethod decorator to flag it as a class method.\n",
    "\n",
    "# Instead of accepting a self parameter, class methods take a cls parameter that points to the class—and not the object instance—when the method is called.\n",
    "\n",
    "# Because the class method only has access to this cls argument, it can’t modify object instance state. That would require access to self. However, class methods can still modify class state that applies across all instances of the class.\n",
    "\n",
    "# class methods are generally used of creting different objects by returnin cls"
   ]
  },
  {
   "cell_type": "code",
   "execution_count": 113,
   "metadata": {},
   "outputs": [],
   "source": [
    "class Pizza:\n",
    "    def __init__(self, ingredients):\n",
    "        self.ingredients = ingredients\n",
    "\n",
    "    def __repr__(self):\n",
    "        return f'Pizza({self.ingredients!r})'\n",
    "\n",
    "    @classmethod\n",
    "    def margherita(cls):\n",
    "        return cls(['mozzarella', 'tomatoes']) # this returns Pizza()\n",
    "\n",
    "    @classmethod\n",
    "    def prosciutto(cls):\n",
    "        return cls(['mozzarella', 'tomatoes', 'ham'])"
   ]
  },
  {
   "cell_type": "code",
   "execution_count": 115,
   "metadata": {},
   "outputs": [
    {
     "data": {
      "text/plain": [
       "Pizza(['mozzarella', 'tomatoes', 'ham'])"
      ]
     },
     "execution_count": 115,
     "metadata": {},
     "output_type": "execute_result"
    }
   ],
   "source": [
    "Pizza.margherita()\n",
    "\n",
    "Pizza.prosciutto()"
   ]
  },
  {
   "cell_type": "code",
   "execution_count": 101,
   "metadata": {},
   "outputs": [],
   "source": [
    "class Person:\n",
    "    mobile_number = 1122\n",
    "\n",
    "    def __init__(self,name,age):\n",
    "        self.name = name\n",
    "        self.age = age\n",
    "\n",
    "    @classmethod\n",
    "    def frombirthyear(cls, name,year):\n",
    "        if Person.mobile_number > 12:\n",
    "            return True\n",
    "        return cls(name, 2024-year)\n",
    "    \n",
    "\n",
    "    @staticmethod\n",
    "    def isAdult(age):\n",
    "        cls.mobile_number = 12\n",
    "        return Person.mobile_number\n",
    "        return age > 18\n",
    "    \n",
    "\n",
    "\n"
   ]
  },
  {
   "cell_type": "code",
   "execution_count": 114,
   "metadata": {},
   "outputs": [
    {
     "data": {
      "text/plain": [
       "Pizza(['mozzarella', 'tomatoes', 'ham'])"
      ]
     },
     "execution_count": 114,
     "metadata": {},
     "output_type": "execute_result"
    }
   ],
   "source": [
    "\n"
   ]
  },
  {
   "cell_type": "code",
   "execution_count": null,
   "metadata": {},
   "outputs": [],
   "source": []
  },
  {
   "cell_type": "code",
   "execution_count": 102,
   "metadata": {},
   "outputs": [],
   "source": [
    "x = Person('rahul', 12)"
   ]
  },
  {
   "cell_type": "code",
   "execution_count": 103,
   "metadata": {},
   "outputs": [
    {
     "ename": "NameError",
     "evalue": "name 'cls' is not defined",
     "output_type": "error",
     "traceback": [
      "\u001b[0;31m---------------------------------------------------------------------------\u001b[0m",
      "\u001b[0;31mNameError\u001b[0m                                 Traceback (most recent call last)",
      "\u001b[1;32m/Users/rahulmahajan/Desktop/Projects/DS/2. Tech Neuron/Tech Neuron Assignments/1. Python Basics/1_OOPS_Concept/1_notes.ipynb Cell 68\u001b[0m line \u001b[0;36m1\n\u001b[0;32m----> <a href='vscode-notebook-cell:/Users/rahulmahajan/Desktop/Projects/DS/2.%20Tech%20Neuron/Tech%20Neuron%20Assignments/1.%20Python%20Basics/1_OOPS_Concept/1_notes.ipynb#Y124sZmlsZQ%3D%3D?line=0'>1</a>\u001b[0m x\u001b[39m.\u001b[39;49misAdult(\u001b[39m12\u001b[39;49m)\n",
      "\u001b[1;32m/Users/rahulmahajan/Desktop/Projects/DS/2. Tech Neuron/Tech Neuron Assignments/1. Python Basics/1_OOPS_Concept/1_notes.ipynb Cell 68\u001b[0m line \u001b[0;36m1\n\u001b[1;32m     <a href='vscode-notebook-cell:/Users/rahulmahajan/Desktop/Projects/DS/2.%20Tech%20Neuron/Tech%20Neuron%20Assignments/1.%20Python%20Basics/1_OOPS_Concept/1_notes.ipynb#Y124sZmlsZQ%3D%3D?line=14'>15</a>\u001b[0m \u001b[39m@staticmethod\u001b[39m\n\u001b[1;32m     <a href='vscode-notebook-cell:/Users/rahulmahajan/Desktop/Projects/DS/2.%20Tech%20Neuron/Tech%20Neuron%20Assignments/1.%20Python%20Basics/1_OOPS_Concept/1_notes.ipynb#Y124sZmlsZQ%3D%3D?line=15'>16</a>\u001b[0m \u001b[39mdef\u001b[39;00m \u001b[39misAdult\u001b[39m(age):\n\u001b[0;32m---> <a href='vscode-notebook-cell:/Users/rahulmahajan/Desktop/Projects/DS/2.%20Tech%20Neuron/Tech%20Neuron%20Assignments/1.%20Python%20Basics/1_OOPS_Concept/1_notes.ipynb#Y124sZmlsZQ%3D%3D?line=16'>17</a>\u001b[0m     \u001b[39mcls\u001b[39;49m\u001b[39m.\u001b[39mmobile_number \u001b[39m=\u001b[39m \u001b[39m12\u001b[39m\n\u001b[1;32m     <a href='vscode-notebook-cell:/Users/rahulmahajan/Desktop/Projects/DS/2.%20Tech%20Neuron/Tech%20Neuron%20Assignments/1.%20Python%20Basics/1_OOPS_Concept/1_notes.ipynb#Y124sZmlsZQ%3D%3D?line=17'>18</a>\u001b[0m     \u001b[39mreturn\u001b[39;00m Person\u001b[39m.\u001b[39mmobile_number\n\u001b[1;32m     <a href='vscode-notebook-cell:/Users/rahulmahajan/Desktop/Projects/DS/2.%20Tech%20Neuron/Tech%20Neuron%20Assignments/1.%20Python%20Basics/1_OOPS_Concept/1_notes.ipynb#Y124sZmlsZQ%3D%3D?line=18'>19</a>\u001b[0m     \u001b[39mreturn\u001b[39;00m age \u001b[39m>\u001b[39m \u001b[39m18\u001b[39m\n",
      "\u001b[0;31mNameError\u001b[0m: name 'cls' is not defined"
     ]
    }
   ],
   "source": [
    "x.isAdult(12)"
   ]
  },
  {
   "cell_type": "code",
   "execution_count": 100,
   "metadata": {},
   "outputs": [
    {
     "data": {
      "text/plain": [
       "12"
      ]
     },
     "execution_count": 100,
     "metadata": {},
     "output_type": "execute_result"
    }
   ],
   "source": [
    "Person.mobile_number"
   ]
  },
  {
   "cell_type": "code",
   "execution_count": null,
   "metadata": {},
   "outputs": [],
   "source": [
    "# 8. Static method\n",
    "\n",
    "\n",
    "# A staticmethod is used to define a utility function that is related to the class, but does not require access to any instance or class data."
   ]
  },
  {
   "cell_type": "code",
   "execution_count": 111,
   "metadata": {},
   "outputs": [
    {
     "name": "stdout",
     "output_type": "stream",
     "text": [
      "Hello\n",
      "world\n",
      "world\n",
      "Hello\n",
      "Hello\n",
      "uses the class variable: Hello\n"
     ]
    }
   ],
   "source": [
    "\n",
    "class MyClass:\n",
    "    class_variable = \"Hello\"\n",
    "\n",
    "    def __init__(self, instance_variable):\n",
    "        self.instance_variable = instance_variable\n",
    "\n",
    "    @staticmethod\n",
    "    def static_method(t):\n",
    "        print(MyClass.class_variable)\n",
    "        print(t.instance_variable)\n",
    "        return MyClass(\"static\")\n",
    "        print(\"doesn't use the instance or class\")\n",
    "\n",
    "    @classmethod\n",
    "    def class_method(cls,t):\n",
    "        print(t.instance_variable)\n",
    "        print(MyClass.class_variable)\n",
    "        print(cls.class_variable)\n",
    "        print(\"uses the class variable:\", cls.class_variable)\n",
    "\n",
    "obj = MyClass(\"world\")\n",
    "t= obj.static_method(obj) \n",
    "# output: doesn't use the instance or class\n",
    "obj.class_method(obj) "
   ]
  },
  {
   "cell_type": "code",
   "execution_count": 112,
   "metadata": {},
   "outputs": [
    {
     "data": {
      "text/plain": [
       "'static'"
      ]
     },
     "execution_count": 112,
     "metadata": {},
     "output_type": "execute_result"
    }
   ],
   "source": [
    "t.instance_variable"
   ]
  },
  {
   "cell_type": "code",
   "execution_count": null,
   "metadata": {},
   "outputs": [],
   "source": []
  },
  {
   "cell_type": "code",
   "execution_count": null,
   "metadata": {},
   "outputs": [],
   "source": [
    "\"\"\" \n",
    "The __repr__() representation is intended to hold information about the object so that it may be created again. In contrast, the __str__() string representation is human-friendly and mainly used for logging reasons. Always utilize the str() and repr() functions instead of using these methods directly.\n",
    "\"\"\""
   ]
  },
  {
   "cell_type": "code",
   "execution_count": null,
   "metadata": {},
   "outputs": [],
   "source": [
    "\"\"\"\n",
    "# str() displays today’s date so that an end-user could understand it.\n",
    "# repr() prints the developer-friendly representation of the date object. This string is valid Python you can use to reconstruct the date object.\n",
    "\n",
    "When you call str() on an object, it calls the special method __str__ of the object.\n",
    "And when you call repr() on an object, it calls the special method __repr__ of the object.\n",
    "Also, when you call print() on an object, it calls __str__ method of the object. If __str__ is not implemented, the __repr__ is called as a fallback.\n",
    "\n",
    "\"\"\""
   ]
  },
  {
   "cell_type": "code",
   "execution_count": 136,
   "metadata": {},
   "outputs": [],
   "source": [
    "class Times:\n",
    "\n",
    "    def __init__(self,a):\n",
    "        self.a = a\n",
    "\n",
    "    def __str__(self) -> str:\n",
    "        return \"String\"\n",
    "    def __repr__(self) -> str:\n",
    "        return \"repr\""
   ]
  },
  {
   "cell_type": "code",
   "execution_count": 137,
   "metadata": {},
   "outputs": [],
   "source": [
    "a = Times('test')"
   ]
  },
  {
   "cell_type": "code",
   "execution_count": 138,
   "metadata": {},
   "outputs": [
    {
     "name": "stdout",
     "output_type": "stream",
     "text": [
      "String\n"
     ]
    }
   ],
   "source": [
    "print(a)"
   ]
  },
  {
   "cell_type": "code",
   "execution_count": 139,
   "metadata": {},
   "outputs": [
    {
     "data": {
      "text/plain": [
       "repr"
      ]
     },
     "execution_count": 139,
     "metadata": {},
     "output_type": "execute_result"
    }
   ],
   "source": [
    "a"
   ]
  },
  {
   "cell_type": "code",
   "execution_count": 141,
   "metadata": {},
   "outputs": [],
   "source": [
    "class Times1:\n",
    "\n",
    "    def __init__(self,a):\n",
    "        self.a = a\n",
    "\n",
    "  "
   ]
  },
  {
   "cell_type": "code",
   "execution_count": 142,
   "metadata": {},
   "outputs": [],
   "source": [
    "b =Times1('c')"
   ]
  },
  {
   "cell_type": "code",
   "execution_count": 144,
   "metadata": {},
   "outputs": [
    {
     "name": "stdout",
     "output_type": "stream",
     "text": [
      "<__main__.Times1 object at 0x113411a10>\n"
     ]
    }
   ],
   "source": [
    "print(b)"
   ]
  },
  {
   "cell_type": "code",
   "execution_count": 143,
   "metadata": {},
   "outputs": [
    {
     "data": {
      "text/plain": [
       "<__main__.Times1 at 0x113411a10>"
      ]
     },
     "execution_count": 143,
     "metadata": {},
     "output_type": "execute_result"
    }
   ],
   "source": [
    "b"
   ]
  },
  {
   "cell_type": "code",
   "execution_count": null,
   "metadata": {},
   "outputs": [],
   "source": [
    "p"
   ]
  },
  {
   "cell_type": "markdown",
   "metadata": {},
   "source": []
  },
  {
   "cell_type": "code",
   "execution_count": null,
   "metadata": {},
   "outputs": [],
   "source": [
    "# Python Magic methods are the methods starting and ending with double underscores ‘__’. They are defined by built-in classes in Python and commonly used for operator overloading. \n",
    "\n",
    "# They are also called Dunder methods, Dunder here means “Double Under (Underscores)”."
   ]
  },
  {
   "cell_type": "code",
   "execution_count": 145,
   "metadata": {},
   "outputs": [
    {
     "name": "stdout",
     "output_type": "stream",
     "text": [
      "['__abs__', '__add__', '__and__', '__bool__', '__ceil__', '__class__', '__delattr__', '__dir__', '__divmod__', '__doc__', '__eq__', '__float__', '__floor__', '__floordiv__', '__format__', '__ge__', '__getattribute__', '__getnewargs__', '__getstate__', '__gt__', '__hash__', '__index__', '__init__', '__init_subclass__', '__int__', '__invert__', '__le__', '__lshift__', '__lt__', '__mod__', '__mul__', '__ne__', '__neg__', '__new__', '__or__', '__pos__', '__pow__', '__radd__', '__rand__', '__rdivmod__', '__reduce__', '__reduce_ex__', '__repr__', '__rfloordiv__', '__rlshift__', '__rmod__', '__rmul__', '__ror__', '__round__', '__rpow__', '__rrshift__', '__rshift__', '__rsub__', '__rtruediv__', '__rxor__', '__setattr__', '__sizeof__', '__str__', '__sub__', '__subclasshook__', '__truediv__', '__trunc__', '__xor__', 'as_integer_ratio', 'bit_count', 'bit_length', 'conjugate', 'denominator', 'from_bytes', 'imag', 'numerator', 'real', 'to_bytes']\n"
     ]
    }
   ],
   "source": [
    "\n",
    "\n",
    "# code \n",
    "print(dir(int))"
   ]
  },
  {
   "cell_type": "code",
   "execution_count": 146,
   "metadata": {},
   "outputs": [
    {
     "data": {
      "text/plain": [
       "['__class__',\n",
       " '__delattr__',\n",
       " '__dict__',\n",
       " '__dir__',\n",
       " '__doc__',\n",
       " '__eq__',\n",
       " '__format__',\n",
       " '__ge__',\n",
       " '__getattribute__',\n",
       " '__getstate__',\n",
       " '__gt__',\n",
       " '__hash__',\n",
       " '__init__',\n",
       " '__init_subclass__',\n",
       " '__le__',\n",
       " '__lt__',\n",
       " '__module__',\n",
       " '__ne__',\n",
       " '__new__',\n",
       " '__reduce__',\n",
       " '__reduce_ex__',\n",
       " '__repr__',\n",
       " '__setattr__',\n",
       " '__sizeof__',\n",
       " '__str__',\n",
       " '__subclasshook__',\n",
       " '__weakref__']"
      ]
     },
     "execution_count": 146,
     "metadata": {},
     "output_type": "execute_result"
    }
   ],
   "source": [
    "dir(Times)"
   ]
  },
  {
   "cell_type": "code",
   "execution_count": null,
   "metadata": {},
   "outputs": [],
   "source": [
    "# 3. __add__ method\n",
    "# __add__ method in Python defines how will be the objects of a class added together. It is also known as overloaded addition operator."
   ]
  },
  {
   "cell_type": "code",
   "execution_count": 148,
   "metadata": {},
   "outputs": [
    {
     "name": "stdout",
     "output_type": "stream",
     "text": [
      "Helloworld\n"
     ]
    }
   ],
   "source": [
    "\n",
    "# declare our own string class \n",
    "class String: \n",
    "      \n",
    "    # magic method to initiate object \n",
    "    def __init__(self, string): \n",
    "        self.string = string  \n",
    "          \n",
    "    # print our string object \n",
    "    def __repr__(self): \n",
    "        return 'Object: {}'.format(self.string) \n",
    "          \n",
    "    def __add__(self, other): \n",
    "        return self.string + other.string\n",
    "  \n",
    "# Driver Code \n",
    "if __name__ == '__main__': \n",
    "      \n",
    "    # object creation \n",
    "    string1 = String('Hello') \n",
    "    string2 = String('world')\n",
    "      \n",
    "    # concatenate String object and a string \n",
    "    print(string1 + string2) "
   ]
  },
  {
   "cell_type": "code",
   "execution_count": null,
   "metadata": {},
   "outputs": [],
   "source": [
    "# 10 Property decorators - getters, setter and deletes\n",
    "\n",
    "# if we want to make a varialb private we neet to change to __. and create a getter and setter method..now any api or other programming trying to access the varialbe using house.price will have to make a lot of changes. as instead of house.price they will have to calll house.get_price (method name)\n",
    "\n",
    "# so we use @ property and @ setter method\n",
    "# note that the proerpty and setter method name are kept as price..while price is changed to __price. so that other api do not have to change..however we can keep any name then we need to use that name\n",
    "\n",
    "# note price_get and price_set becomes attribute and not method"
   ]
  },
  {
   "cell_type": "code",
   "execution_count": 232,
   "metadata": {},
   "outputs": [],
   "source": [
    "class House:\n",
    "\n",
    "    def __init__(self,price):\n",
    "        self.__price = price\n",
    "\n",
    "\n",
    "    @property\n",
    "    def price(self):\n",
    "        return self.__price\n",
    "    \n",
    "    @price.setter\n",
    "    def price(self,price):\n",
    "        print(\"HI\")\n",
    "        if price < 20:\n",
    "            self.__price  = 22\n",
    "        else :\n",
    "            self.__price = price\n",
    "\n",
    "    @price.deleter\n",
    "    def price(self):\n",
    "        del self.__price        \n",
    "\n",
    "\n"
   ]
  },
  {
   "cell_type": "code",
   "execution_count": 233,
   "metadata": {},
   "outputs": [],
   "source": [
    "d = House(10)"
   ]
  },
  {
   "cell_type": "code",
   "execution_count": 234,
   "metadata": {},
   "outputs": [
    {
     "data": {
      "text/plain": [
       "10"
      ]
     },
     "execution_count": 234,
     "metadata": {},
     "output_type": "execute_result"
    }
   ],
   "source": [
    "d.price"
   ]
  },
  {
   "cell_type": "code",
   "execution_count": 235,
   "metadata": {},
   "outputs": [
    {
     "name": "stdout",
     "output_type": "stream",
     "text": [
      "HI\n"
     ]
    }
   ],
   "source": [
    "d.price = 2"
   ]
  },
  {
   "cell_type": "code",
   "execution_count": 236,
   "metadata": {},
   "outputs": [
    {
     "data": {
      "text/plain": [
       "22"
      ]
     },
     "execution_count": 236,
     "metadata": {},
     "output_type": "execute_result"
    }
   ],
   "source": [
    "d.price"
   ]
  },
  {
   "cell_type": "code",
   "execution_count": 237,
   "metadata": {},
   "outputs": [
    {
     "name": "stdout",
     "output_type": "stream",
     "text": [
      "HI\n"
     ]
    }
   ],
   "source": [
    "d.price = 200"
   ]
  },
  {
   "cell_type": "code",
   "execution_count": 238,
   "metadata": {},
   "outputs": [
    {
     "data": {
      "text/plain": [
       "200"
      ]
     },
     "execution_count": 238,
     "metadata": {},
     "output_type": "execute_result"
    }
   ],
   "source": [
    "d.price"
   ]
  },
  {
   "cell_type": "code",
   "execution_count": 239,
   "metadata": {},
   "outputs": [],
   "source": [
    "del d.price"
   ]
  },
  {
   "cell_type": "code",
   "execution_count": 240,
   "metadata": {},
   "outputs": [
    {
     "ename": "AttributeError",
     "evalue": "'House' object has no attribute '_House__price'",
     "output_type": "error",
     "traceback": [
      "\u001b[0;31m---------------------------------------------------------------------------\u001b[0m",
      "\u001b[0;31mAttributeError\u001b[0m                            Traceback (most recent call last)",
      "\u001b[1;32m/Users/rahulmahajan/Desktop/Projects/DS/2. Tech Neuron/Tech Neuron Assignments/1. Python Basics/1_OOPS_Concept/1_notes.ipynb Cell 104\u001b[0m line \u001b[0;36m1\n\u001b[0;32m----> <a href='vscode-notebook-cell:/Users/rahulmahajan/Desktop/Projects/DS/2.%20Tech%20Neuron/Tech%20Neuron%20Assignments/1.%20Python%20Basics/1_OOPS_Concept/1_notes.ipynb#Y220sZmlsZQ%3D%3D?line=0'>1</a>\u001b[0m d\u001b[39m.\u001b[39;49mprice\n",
      "\u001b[1;32m/Users/rahulmahajan/Desktop/Projects/DS/2. Tech Neuron/Tech Neuron Assignments/1. Python Basics/1_OOPS_Concept/1_notes.ipynb Cell 104\u001b[0m line \u001b[0;36m9\n\u001b[1;32m      <a href='vscode-notebook-cell:/Users/rahulmahajan/Desktop/Projects/DS/2.%20Tech%20Neuron/Tech%20Neuron%20Assignments/1.%20Python%20Basics/1_OOPS_Concept/1_notes.ipynb#Y220sZmlsZQ%3D%3D?line=6'>7</a>\u001b[0m \u001b[39m@property\u001b[39m\n\u001b[1;32m      <a href='vscode-notebook-cell:/Users/rahulmahajan/Desktop/Projects/DS/2.%20Tech%20Neuron/Tech%20Neuron%20Assignments/1.%20Python%20Basics/1_OOPS_Concept/1_notes.ipynb#Y220sZmlsZQ%3D%3D?line=7'>8</a>\u001b[0m \u001b[39mdef\u001b[39;00m \u001b[39mprice\u001b[39m(\u001b[39mself\u001b[39m):\n\u001b[0;32m----> <a href='vscode-notebook-cell:/Users/rahulmahajan/Desktop/Projects/DS/2.%20Tech%20Neuron/Tech%20Neuron%20Assignments/1.%20Python%20Basics/1_OOPS_Concept/1_notes.ipynb#Y220sZmlsZQ%3D%3D?line=8'>9</a>\u001b[0m     \u001b[39mreturn\u001b[39;00m \u001b[39mself\u001b[39;49m\u001b[39m.\u001b[39;49m__price\n",
      "\u001b[0;31mAttributeError\u001b[0m: 'House' object has no attribute '_House__price'"
     ]
    }
   ],
   "source": [
    "d.price # erro as deleted"
   ]
  },
  {
   "cell_type": "code",
   "execution_count": 210,
   "metadata": {},
   "outputs": [],
   "source": [
    "class House1:\n",
    "\n",
    "    def __init__(self,price):\n",
    "        self.__price = price\n",
    "\n",
    "\n",
    "    @property\n",
    "    def price_get(self):\n",
    "        return self.__price\n",
    "    \n",
    "    @price_get.setter\n",
    "    def price_set(self,price):\n",
    "        print(\"HI\")\n",
    "        if price < 20:\n",
    "            self.__price  = 22\n",
    "        else :\n",
    "            self.__price = price\n",
    "\n",
    "    @price_get.deleter\n",
    "    def price_del(self):\n",
    "        del self.__price\n",
    "\n",
    "\n"
   ]
  },
  {
   "cell_type": "code",
   "execution_count": 211,
   "metadata": {},
   "outputs": [],
   "source": [
    "x = House1(219)"
   ]
  },
  {
   "cell_type": "code",
   "execution_count": 213,
   "metadata": {},
   "outputs": [
    {
     "data": {
      "text/plain": [
       "219"
      ]
     },
     "execution_count": 213,
     "metadata": {},
     "output_type": "execute_result"
    }
   ],
   "source": [
    "x.price_get"
   ]
  },
  {
   "cell_type": "code",
   "execution_count": 215,
   "metadata": {},
   "outputs": [
    {
     "name": "stdout",
     "output_type": "stream",
     "text": [
      "HI\n"
     ]
    }
   ],
   "source": [
    "x.price_set = 223"
   ]
  },
  {
   "cell_type": "code",
   "execution_count": 216,
   "metadata": {},
   "outputs": [
    {
     "data": {
      "text/plain": [
       "223"
      ]
     },
     "execution_count": 216,
     "metadata": {},
     "output_type": "execute_result"
    }
   ],
   "source": [
    "x.price_get"
   ]
  },
  {
   "cell_type": "code",
   "execution_count": null,
   "metadata": {},
   "outputs": [],
   "source": []
  },
  {
   "cell_type": "markdown",
   "metadata": {},
   "source": []
  }
 ],
 "metadata": {
  "kernelspec": {
   "display_name": "Python 3",
   "language": "python",
   "name": "python3"
  },
  "language_info": {
   "codemirror_mode": {
    "name": "ipython",
    "version": 3
   },
   "file_extension": ".py",
   "mimetype": "text/x-python",
   "name": "python",
   "nbconvert_exporter": "python",
   "pygments_lexer": "ipython3",
   "version": "3.11.3"
  },
  "orig_nbformat": 4
 },
 "nbformat": 4,
 "nbformat_minor": 2
}
