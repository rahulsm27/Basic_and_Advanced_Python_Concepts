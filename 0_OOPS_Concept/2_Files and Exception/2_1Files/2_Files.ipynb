{
 "cells": [
  {
   "cell_type": "code",
   "execution_count": null,
   "metadata": {},
   "outputs": [],
   "source": [
    "# 1. Wokring with files"
   ]
  },
  {
   "cell_type": "code",
   "execution_count": 9,
   "metadata": {},
   "outputs": [],
   "source": [
    "with open(\"t.txt\", 'a') as f:\n",
    "    f.write(\"test \\n test2\")\n"
   ]
  },
  {
   "cell_type": "code",
   "execution_count": 15,
   "metadata": {},
   "outputs": [
    {
     "name": "stdout",
     "output_type": "stream",
     "text": [
      "['testtest \\n', ' test2']\n"
     ]
    }
   ],
   "source": [
    "with open(\"t.txt\", 'r') as f:\n",
    " #   f.readlines()\n",
    "    print(f.readlines())"
   ]
  },
  {
   "cell_type": "code",
   "execution_count": 12,
   "metadata": {},
   "outputs": [
    {
     "ename": "ValueError",
     "evalue": "I/O operation on closed file.",
     "output_type": "error",
     "traceback": [
      "\u001b[0;31m---------------------------------------------------------------------------\u001b[0m",
      "\u001b[0;31mValueError\u001b[0m                                Traceback (most recent call last)",
      "\u001b[1;32m/Users/rahulmahajan/Desktop/Projects/DS/2. Tech Neuron/Tech Neuron Assignments/1. Python Basics/0_OOPS_Concept/2_Files.ipynb Cell 3\u001b[0m line \u001b[0;36m1\n\u001b[0;32m----> <a href='vscode-notebook-cell:/Users/rahulmahajan/Desktop/Projects/DS/2.%20Tech%20Neuron/Tech%20Neuron%20Assignments/1.%20Python%20Basics/0_OOPS_Concept/2_Files.ipynb#W5sZmlsZQ%3D%3D?line=0'>1</a>\u001b[0m f\u001b[39m.\u001b[39;49mreadlines()\n",
      "\u001b[0;31mValueError\u001b[0m: I/O operation on closed file."
     ]
    }
   ],
   "source": [
    "f.readlines()"
   ]
  },
  {
   "cell_type": "code",
   "execution_count": 3,
   "metadata": {},
   "outputs": [
    {
     "name": "stdout",
     "output_type": "stream",
     "text": [
      "1_OOPS.ipynb   2_Files.ipynb  t.txt\n"
     ]
    }
   ],
   "source": [
    "ls\n"
   ]
  },
  {
   "cell_type": "code",
   "execution_count": 4,
   "metadata": {},
   "outputs": [
    {
     "data": {
      "text/plain": [
       "'/Users/rahulmahajan/Desktop/Projects/DS/2. Tech Neuron/Tech Neuron Assignments/1. Python Basics/0_OOPS_Concept'"
      ]
     },
     "execution_count": 4,
     "metadata": {},
     "output_type": "execute_result"
    }
   ],
   "source": [
    "pwd"
   ]
  },
  {
   "cell_type": "code",
   "execution_count": 21,
   "metadata": {},
   "outputs": [
    {
     "name": "stdout",
     "output_type": "stream",
     "text": [
      "/Users/rahulmahajan/Desktop/Projects/DS/2. Tech Neuron/Tech Neuron Assignments/1. Python Basics\n",
      "['0_OOPS_Concept', '3_Programming Assignments', '1_Python_basic_assignment', '__pycache__', '2. Python Advanced', '.git']\n",
      "['myimage_cropped.jpg', '.DS_Store', 'dump.rdb', 'Assignment_.ipynb', 'Assignment_ copy 9.ipynb', 'Assignment_ copy 11.ipynb', 'today.txt', 'test.csv', 'zoo.py', 'test.jpg', 'books.csv', '.gitignore', 'Working_Business_Proposal.pdf', 'test.txt', 'Assignment_ copy.ipynb', 'books.db']\n",
      "-------------------\n",
      "/Users/rahulmahajan/Desktop/Projects/DS/2. Tech Neuron/Tech Neuron Assignments/1. Python Basics/0_OOPS_Concept\n",
      "[]\n",
      "['2_Files.ipynb', '1_OOPS.ipynb', 't.txt']\n",
      "-------------------\n",
      "/Users/rahulmahajan/Desktop/Projects/DS/2. Tech Neuron/Tech Neuron Assignments/1. Python Basics/3_Programming Assignments\n",
      "[]\n",
      "['Programming_Assingment25.docx', 'Programming_Assingment13.docx', 'Prog Assignment 18.ipynb', 'Prog Assignment 25.ipynb', 'Programming_Assingment1.docx', 'Programming_Assingment12.docx', 'Prog Assignment 21.ipynb', 'Prog assignment 9.ipynb', 'Prog Assignment 23.ipynb', 'Programming_Assingment24.docx', 'Programming_Assingment15.docx', 'Prog Assignment 24.ipynb', 'Programming_Assingment6.docx', 'Prog Assignment 19.ipynb', 'Programming_Assingment23.docx', 'Programming_Assingment19.docx', 'Prog assignment 8.ipynb', 'Programming_Assingment18.docx', 'Prog Assignment 22.ipynb', 'Programming_Assingment22.docx', 'Prog Assignment 20.ipynb', 'Programming_Assingment7.docx', 'Programming_Assingment14.docx', 'Prog Assignment 6.ipynb', 'Programming_Assingment17.docx', 'Prog assignment 11.ipynb', 'Programming_Assingment8.docx', 'Prog Assignment 13.ipynb', 'Programming_Assingment21.docx', 'Prog Assignment 4.ipynb', 'Programming_Assingment20.docx', 'Programming_Assingment9.docx', 'Prog Assignment 17.ipynb', 'Prog Assignment 15.ipynb', 'Prog Assignment 2.ipynb', 'Programming_Assingment16.docx', 'Prog Assignment 12.ipynb', 'List of Good Qs.ipynb', 'Prog Assignment 5.ipynb', 'Programming_Assingment2.docx', 'Prog Assignment 7.ipynb', 'Programming_Assingment11.docx', 'Prog Assignment 10.ipynb', 'Prog Assignment 14.ipynb', 'Programming_Assingment10.docx', 'Programming_Assingment3.docx', 'Prog Assignment 3.ipynb', 'Prog Assignment 1.ipynb', 'Prog Assignment 16.ipynb']\n",
      "-------------------\n",
      "/Users/rahulmahajan/Desktop/Projects/DS/2. Tech Neuron/Tech Neuron Assignments/1. Python Basics/1_Python_basic_assignment\n",
      "[]\n",
      "['Assignment_24.docx', 'Assignment_2.ipynb', 'Assignment_13.ipynb', 'Assignment_5.docx', '1. Good Questions.ipynb', 'Assignment_11.ipynb', 'Assignment_9.docx', 'Assignment_12.docx', 'Assignment_4.ipynb', 'Assignment_13.docx', 'Assignment_8.docx', 'Assignment_15.ipynb', 'Assignment_17.ipynb', 'Assignment_4.docx', 'Assignment_6.ipynb', 'Assignment_25.docx', 'Assignment_10.ipynb', 'Assignment_14.docx', 'Assignment_1.ipynb', 'Assignment_22.docx', 'Assignment_3.ipynb', 'Assignment_18.docx', 'Assignment_3.docx', 'Assignment_12.ipynb', 'Assignment_16.ipynb', 'Assignment_2.docx', 'Assignment_19.docx', 'Assignment_7.ipynb', 'Assignment_23.docx', 'Assignment_15.docx', 'Assignment_5.ipynb', 'Assignment_14.ipynb', 'Assignment_25.ipynb', 'Assignment_16.docx', 'Assignment_18.ipynb', 'Assignment_9.ipynb', 'Assignment_1.docx', 'Assignment_20.docx', 'Assignment_21.docx', 'Assignment_23.ipynb', 'Assignment_21.ipynb', 'Assignment_17.docx', 'Assignment_7.docx', 'Assignment_19.ipynb', 'Assignment_24.ipynb', 'Assignment_10.docx', 'Assignment_8.ipynb', 'Assignment_11.docx', 'Assignment_20.ipynb', 'Assignment_22.ipynb', 'Assignment_6.docx']\n",
      "-------------------\n",
      "/Users/rahulmahajan/Desktop/Projects/DS/2. Tech Neuron/Tech Neuron Assignments/1. Python Basics/__pycache__\n",
      "[]\n",
      "['zoo.cpython-311.pyc']\n",
      "-------------------\n",
      "/Users/rahulmahajan/Desktop/Projects/DS/2. Tech Neuron/Tech Neuron Assignments/1. Python Basics/2. Python Advanced\n",
      "[]\n",
      "['Assignment_24.docx', 'Assignment_2.ipynb', 'Assignment_13.ipynb', 'Assignment_5.docx', 'Assignment_11.ipynb', 'Assignment_9.docx', 'Assignment_12.docx', 'Assignment_4.ipynb', 'Assignment_13.docx', 'Assignment_8.docx', 'Assignment_15.ipynb', 'Assignment_17.ipynb', 'Assignment_4.docx', 'Assignment_6.ipynb', 'Assignment_25.docx', 'Assignment_10.ipynb', 'Assignment_14.docx', 'Assignment_1.ipynb', 'Assignment_22.docx', 'Assignment_3.ipynb', 'Assignment_18.docx', 'Assignment_3.docx', 'GOOD QUESTIONS.ipynb', 'Assignment_12.ipynb', 'Assignment_16.ipynb', 'Assignment_2.docx', 'Assignment_19.docx', 'Assignment_7.ipynb', 'Assignment_23.docx', 'Assignment_15.docx', 'Assignment_5.ipynb', 'Assignment_14.ipynb', 'Assignment_25.ipynb', 'Assignment_16.docx', 'Assignment_18.ipynb', 'Assignment_9.ipynb', 'Assignment_1.docx', 'mydata.db', 'Assignment_20.docx', 'Assignment_21.docx', 'Assignment_23.ipynb', 'Assignment_21.ipynb', 'Assignment_17.docx', 'Assignment_7.docx', 'Assignment_19.ipynb', 'Assignment_24.ipynb', 'Assignment_10.docx', 'Assignment_8.ipynb', 'Assignment_11.docx', 'Assignment_20.ipynb', 'Assignment_22.ipynb', 'Assignment_6.docx']\n",
      "-------------------\n",
      "/Users/rahulmahajan/Desktop/Projects/DS/2. Tech Neuron/Tech Neuron Assignments/1. Python Basics/.git\n",
      "['objects', 'info', 'logs', 'hooks', 'refs']\n",
      "['config', 'HEAD', 'description', 'index', 'COMMIT_EDITMSG']\n",
      "-------------------\n",
      "/Users/rahulmahajan/Desktop/Projects/DS/2. Tech Neuron/Tech Neuron Assignments/1. Python Basics/.git/objects\n",
      "['61', '0d', '95', '0c', '50', '3b', '03', '9e', '6a', '69', '3c', '67', '94', '0e', '34', '5a', '5f', '9d', '9c', 'a3', 'b2', 'ac', 'bb', 'be', 'b3', 'df', 'da', 'd1', 'bc', 'ae', 'e2', 'f3', 'eb', 'c7', 'fd', 'f2', 'f5', 'e3', 'fe', 'ed', 'ec', '4e', '20', '4b', 'pack', '7d', '7c', '89', '45', '73', '80', '74', '7b', '8f', '8a', '10', '75', '81', '72', '44', '2a', '2f', '9f', '07', '9a', '36', '5c', 'info', '65', '62', '96', '54', '30', '5e', '37', '08', '01', '06', '39', '99', '52', '55', '0f', '64', '90', 'd4', 'a9', 'd2', 'aa', 'af', 'b7', 'db', 'de', 'a1', 'ef', 'c3', 'e1', 'cc', 'e6', 'f0', 'fa', 'e9', 'f8', 'e0', '2c', '1b', '77', '84', '4a', '24', '23', '4f', '8d', '71', '76', '40', '2b', '47', '78', '8b', '7a', '14', '25']\n",
      "[]\n",
      "-------------------\n",
      "/Users/rahulmahajan/Desktop/Projects/DS/2. Tech Neuron/Tech Neuron Assignments/1. Python Basics/.git/objects/61\n",
      "[]\n",
      "['56f440ad9f12dab0ff283377143e59b691ddd5']\n",
      "-------------------\n",
      "/Users/rahulmahajan/Desktop/Projects/DS/2. Tech Neuron/Tech Neuron Assignments/1. Python Basics/.git/objects/0d\n",
      "[]\n",
      "['e52ebc5b5ed5cda3478c50780034cc1c04fd31', '8cfc74eea88fe56b00675d860e98a034a8a7b3']\n",
      "-------------------\n",
      "/Users/rahulmahajan/Desktop/Projects/DS/2. Tech Neuron/Tech Neuron Assignments/1. Python Basics/.git/objects/95\n",
      "[]\n",
      "['ef2f11097af908150cf31ede7cebb3e0609361', '1e17217617b4002ad6980af32b98051004722d']\n",
      "-------------------\n",
      "/Users/rahulmahajan/Desktop/Projects/DS/2. Tech Neuron/Tech Neuron Assignments/1. Python Basics/.git/objects/0c\n",
      "[]\n",
      "['02feb188fda88a7bb19aa99381687870f14e04']\n",
      "-------------------\n",
      "/Users/rahulmahajan/Desktop/Projects/DS/2. Tech Neuron/Tech Neuron Assignments/1. Python Basics/.git/objects/50\n",
      "[]\n",
      "['08ddfcf53c02e82d7eee2e57c38e5672ef89f6']\n",
      "-------------------\n",
      "/Users/rahulmahajan/Desktop/Projects/DS/2. Tech Neuron/Tech Neuron Assignments/1. Python Basics/.git/objects/3b\n",
      "[]\n",
      "['ed8656777a51843440bca540b8f85a97f079a8', 'c48fe0c5c9d31c3536d52d973f964b93305869']\n",
      "-------------------\n",
      "/Users/rahulmahajan/Desktop/Projects/DS/2. Tech Neuron/Tech Neuron Assignments/1. Python Basics/.git/objects/03\n",
      "[]\n",
      "['3a13621b66697dc3804d7dd881d70cf7f5de20']\n",
      "-------------------\n",
      "/Users/rahulmahajan/Desktop/Projects/DS/2. Tech Neuron/Tech Neuron Assignments/1. Python Basics/.git/objects/9e\n",
      "[]\n",
      "['33c351ee6f9a1634b12ef1a63ed974aa508cbb']\n",
      "-------------------\n",
      "/Users/rahulmahajan/Desktop/Projects/DS/2. Tech Neuron/Tech Neuron Assignments/1. Python Basics/.git/objects/6a\n",
      "[]\n",
      "['b7e53eac63dd61be35107b7f59ad0f3eb3e27c']\n",
      "-------------------\n",
      "/Users/rahulmahajan/Desktop/Projects/DS/2. Tech Neuron/Tech Neuron Assignments/1. Python Basics/.git/objects/69\n",
      "[]\n",
      "['1e2389731f1687b7894571fd2d26893544f445']\n",
      "-------------------\n",
      "/Users/rahulmahajan/Desktop/Projects/DS/2. Tech Neuron/Tech Neuron Assignments/1. Python Basics/.git/objects/3c\n",
      "[]\n",
      "['ddc510498a2dcac3544267513d6f5cc1e068f9', '965a0ca9ab5a9bcbb2eb0680835cd87f5dfe10']\n",
      "-------------------\n",
      "/Users/rahulmahajan/Desktop/Projects/DS/2. Tech Neuron/Tech Neuron Assignments/1. Python Basics/.git/objects/67\n",
      "[]\n",
      "['34ea2165dd6eb4fb2a73db798cf5014d89e083']\n",
      "-------------------\n",
      "/Users/rahulmahajan/Desktop/Projects/DS/2. Tech Neuron/Tech Neuron Assignments/1. Python Basics/.git/objects/94\n",
      "[]\n",
      "['37702a5914f0f92db70e22d6a98fafc0a2a612', '1bde63af333f20c591b0032691e89a90b92e98']\n",
      "-------------------\n",
      "/Users/rahulmahajan/Desktop/Projects/DS/2. Tech Neuron/Tech Neuron Assignments/1. Python Basics/.git/objects/0e\n",
      "[]\n",
      "['9927e1ccaecfa0b2d7265fe8415b179b7f13bf']\n",
      "-------------------\n",
      "/Users/rahulmahajan/Desktop/Projects/DS/2. Tech Neuron/Tech Neuron Assignments/1. Python Basics/.git/objects/34\n",
      "[]\n",
      "['b4740de24e7d333356a28ab779098f689941af']\n",
      "-------------------\n",
      "/Users/rahulmahajan/Desktop/Projects/DS/2. Tech Neuron/Tech Neuron Assignments/1. Python Basics/.git/objects/5a\n",
      "[]\n",
      "['56e2d7c47ab452d6d17da705f1a30aaf7e0ce3', '29542319301d0a4493fbecd5fb7093ef50c300']\n",
      "-------------------\n",
      "/Users/rahulmahajan/Desktop/Projects/DS/2. Tech Neuron/Tech Neuron Assignments/1. Python Basics/.git/objects/5f\n",
      "[]\n",
      "['fd38a547370baaa09cbff4a0289e0772a09600']\n",
      "-------------------\n",
      "/Users/rahulmahajan/Desktop/Projects/DS/2. Tech Neuron/Tech Neuron Assignments/1. Python Basics/.git/objects/9d\n",
      "[]\n",
      "['d4599fe0de16b920b6a5eddff6078338d1823a', 'e082b1fde3a7271f277d193bd3daffb2488b86']\n",
      "-------------------\n",
      "/Users/rahulmahajan/Desktop/Projects/DS/2. Tech Neuron/Tech Neuron Assignments/1. Python Basics/.git/objects/9c\n",
      "[]\n",
      "['132202eaae59783ec4ca964cb10e180fd52fd2']\n",
      "-------------------\n",
      "/Users/rahulmahajan/Desktop/Projects/DS/2. Tech Neuron/Tech Neuron Assignments/1. Python Basics/.git/objects/a3\n",
      "[]\n",
      "['ad4e03ca18f6ed4013e92f9f9c530bacd970fd', '309905285d079db63cd673e21b45a7232e48af']\n",
      "-------------------\n",
      "/Users/rahulmahajan/Desktop/Projects/DS/2. Tech Neuron/Tech Neuron Assignments/1. Python Basics/.git/objects/b2\n",
      "[]\n",
      "['ba28297e0d161b7509fa5dfd96c276b49711ad']\n",
      "-------------------\n",
      "/Users/rahulmahajan/Desktop/Projects/DS/2. Tech Neuron/Tech Neuron Assignments/1. Python Basics/.git/objects/ac\n",
      "[]\n",
      "['96eda74a4304d17b39f7578bdee571aa21f2e0', 'a771ee30958eb1c899a10727f5ecb8009ef833']\n",
      "-------------------\n",
      "/Users/rahulmahajan/Desktop/Projects/DS/2. Tech Neuron/Tech Neuron Assignments/1. Python Basics/.git/objects/bb\n",
      "[]\n",
      "['44e9619dc4486767e531bd5e04c747bc15c56b', '0383b6b7a402d51da3770ee22e1322c210ae53']\n",
      "-------------------\n",
      "/Users/rahulmahajan/Desktop/Projects/DS/2. Tech Neuron/Tech Neuron Assignments/1. Python Basics/.git/objects/be\n",
      "[]\n",
      "['f61cb94ff0307ef9ef511cce3d8871d79e4a9e', '851ce82bf9b004b3a064db85385fa0ec5ad7e2']\n",
      "-------------------\n",
      "/Users/rahulmahajan/Desktop/Projects/DS/2. Tech Neuron/Tech Neuron Assignments/1. Python Basics/.git/objects/b3\n",
      "[]\n",
      "['05bd59d89b18cb83619e0a1de3359755aae724']\n",
      "-------------------\n",
      "/Users/rahulmahajan/Desktop/Projects/DS/2. Tech Neuron/Tech Neuron Assignments/1. Python Basics/.git/objects/df\n",
      "[]\n",
      "['f64ec6c17eb00d0fda62c2157239eeafbb747f']\n",
      "-------------------\n",
      "/Users/rahulmahajan/Desktop/Projects/DS/2. Tech Neuron/Tech Neuron Assignments/1. Python Basics/.git/objects/da\n",
      "[]\n",
      "['fa4946974c50b195bf07fdd34226087fd3a5bb']\n",
      "-------------------\n",
      "/Users/rahulmahajan/Desktop/Projects/DS/2. Tech Neuron/Tech Neuron Assignments/1. Python Basics/.git/objects/d1\n",
      "[]\n",
      "['33581c60800508a70fd7186068104fb7ba582a']\n",
      "-------------------\n",
      "/Users/rahulmahajan/Desktop/Projects/DS/2. Tech Neuron/Tech Neuron Assignments/1. Python Basics/.git/objects/bc\n",
      "[]\n",
      "['8e038c8907b8afed610d286d4d5c00b5af2d72']\n",
      "-------------------\n",
      "/Users/rahulmahajan/Desktop/Projects/DS/2. Tech Neuron/Tech Neuron Assignments/1. Python Basics/.git/objects/ae\n",
      "[]\n",
      "['eaf643b6fb2d17019d123f6a7e17bf4feac006']\n",
      "-------------------\n",
      "/Users/rahulmahajan/Desktop/Projects/DS/2. Tech Neuron/Tech Neuron Assignments/1. Python Basics/.git/objects/e2\n",
      "[]\n",
      "['7dece6909e9cd1725ada79b07ccfe929ead791']\n",
      "-------------------\n",
      "/Users/rahulmahajan/Desktop/Projects/DS/2. Tech Neuron/Tech Neuron Assignments/1. Python Basics/.git/objects/f3\n",
      "[]\n",
      "['8ae0ca90418fd5bbe7ca0972e296f2318af449']\n",
      "-------------------\n",
      "/Users/rahulmahajan/Desktop/Projects/DS/2. Tech Neuron/Tech Neuron Assignments/1. Python Basics/.git/objects/eb\n",
      "[]\n",
      "['ebac81e6f4f7460d211346eef6b03dede8f3ac', '134ef8023542788028742f61f9391e8dedd59a']\n",
      "-------------------\n",
      "/Users/rahulmahajan/Desktop/Projects/DS/2. Tech Neuron/Tech Neuron Assignments/1. Python Basics/.git/objects/c7\n",
      "[]\n",
      "['5e2888757b61adf24ca5c3ea1c8c5b1da345d7']\n",
      "-------------------\n",
      "/Users/rahulmahajan/Desktop/Projects/DS/2. Tech Neuron/Tech Neuron Assignments/1. Python Basics/.git/objects/fd\n",
      "[]\n",
      "['d416e83bacf3c9caf89306f19c428790f904aa', '7ca06fe89c2add6bff7a9bed7e3be3f0f7273a', 'd4f566a0ec53278119529e3fea4b90c2cc8d50']\n",
      "-------------------\n",
      "/Users/rahulmahajan/Desktop/Projects/DS/2. Tech Neuron/Tech Neuron Assignments/1. Python Basics/.git/objects/f2\n",
      "[]\n",
      "['d6d95799e1a8b5ae5a19d70e9195013ff564b1', '558cd7ecdf12f19ecdcdc5ba1b8d1edbedc36e', 'bec66e6fc025d9683aafe99fdb451f59d4baf5']\n",
      "-------------------\n",
      "/Users/rahulmahajan/Desktop/Projects/DS/2. Tech Neuron/Tech Neuron Assignments/1. Python Basics/.git/objects/f5\n",
      "[]\n",
      "['8596f7a54ed0bc5e7b847ec9c2588d3e578bf9']\n",
      "-------------------\n",
      "/Users/rahulmahajan/Desktop/Projects/DS/2. Tech Neuron/Tech Neuron Assignments/1. Python Basics/.git/objects/e3\n",
      "[]\n",
      "['bbf3d66a7d24ad903594242d19e006a0f68250']\n",
      "-------------------\n",
      "/Users/rahulmahajan/Desktop/Projects/DS/2. Tech Neuron/Tech Neuron Assignments/1. Python Basics/.git/objects/fe\n",
      "[]\n",
      "['c87962ee9d7fbad2f270f83ec076042ad2f392']\n",
      "-------------------\n",
      "/Users/rahulmahajan/Desktop/Projects/DS/2. Tech Neuron/Tech Neuron Assignments/1. Python Basics/.git/objects/ed\n",
      "[]\n",
      "['a2c20726d4dacda09cab8bcee34a1e16c131d0']\n",
      "-------------------\n",
      "/Users/rahulmahajan/Desktop/Projects/DS/2. Tech Neuron/Tech Neuron Assignments/1. Python Basics/.git/objects/ec\n",
      "[]\n",
      "['250b901433f162a9c9a4910726b916154efecf', '4dc96972781556ad9438f4684353dd9a3fc9c9']\n",
      "-------------------\n",
      "/Users/rahulmahajan/Desktop/Projects/DS/2. Tech Neuron/Tech Neuron Assignments/1. Python Basics/.git/objects/4e\n",
      "[]\n",
      "['15f0e30258873fd8f3289a1620c8e83b171aee']\n",
      "-------------------\n",
      "/Users/rahulmahajan/Desktop/Projects/DS/2. Tech Neuron/Tech Neuron Assignments/1. Python Basics/.git/objects/20\n",
      "[]\n",
      "['b60ac482d01e06797084579f138349b74ee18e']\n",
      "-------------------\n",
      "/Users/rahulmahajan/Desktop/Projects/DS/2. Tech Neuron/Tech Neuron Assignments/1. Python Basics/.git/objects/4b\n",
      "[]\n",
      "['55151f94fbcd932fadfa35e7210ddf8e3246d9']\n",
      "-------------------\n",
      "/Users/rahulmahajan/Desktop/Projects/DS/2. Tech Neuron/Tech Neuron Assignments/1. Python Basics/.git/objects/pack\n",
      "[]\n",
      "[]\n",
      "-------------------\n",
      "/Users/rahulmahajan/Desktop/Projects/DS/2. Tech Neuron/Tech Neuron Assignments/1. Python Basics/.git/objects/7d\n",
      "[]\n",
      "['b5a9918f3ddb8434c7e9754b77e354fdd46f38']\n",
      "-------------------\n",
      "/Users/rahulmahajan/Desktop/Projects/DS/2. Tech Neuron/Tech Neuron Assignments/1. Python Basics/.git/objects/7c\n",
      "[]\n",
      "['fccba1b0d2240917ce3dde7ed063545ef6065e']\n",
      "-------------------\n",
      "/Users/rahulmahajan/Desktop/Projects/DS/2. Tech Neuron/Tech Neuron Assignments/1. Python Basics/.git/objects/89\n",
      "[]\n",
      "['7a54fb407b6383d1415c71b7ce93b7d435011e']\n",
      "-------------------\n",
      "/Users/rahulmahajan/Desktop/Projects/DS/2. Tech Neuron/Tech Neuron Assignments/1. Python Basics/.git/objects/45\n",
      "[]\n",
      "['9ea6a3bc70288277cf6e1284c55e3f55bbc9bc', '9b7655d6edcec65ce4b96a5654d5d0b63dfc21', 'fdf1b0610f2fc3418bbf4b4eb4dccd858c2b71']\n",
      "-------------------\n",
      "/Users/rahulmahajan/Desktop/Projects/DS/2. Tech Neuron/Tech Neuron Assignments/1. Python Basics/.git/objects/73\n",
      "[]\n",
      "['96114a8e6b1677e775d7df7026e5da5830728a']\n",
      "-------------------\n",
      "/Users/rahulmahajan/Desktop/Projects/DS/2. Tech Neuron/Tech Neuron Assignments/1. Python Basics/.git/objects/80\n",
      "[]\n",
      "['112d6f7e365e5ec0dfe2294f0af985a00fe66e']\n",
      "-------------------\n",
      "/Users/rahulmahajan/Desktop/Projects/DS/2. Tech Neuron/Tech Neuron Assignments/1. Python Basics/.git/objects/74\n",
      "[]\n",
      "['f1440db98f915b0c835ffa24e99989b72fc9cc']\n",
      "-------------------\n",
      "/Users/rahulmahajan/Desktop/Projects/DS/2. Tech Neuron/Tech Neuron Assignments/1. Python Basics/.git/objects/7b\n",
      "[]\n",
      "['10dcd7725cba0197d5c085a41122883cbeef4a']\n",
      "-------------------\n",
      "/Users/rahulmahajan/Desktop/Projects/DS/2. Tech Neuron/Tech Neuron Assignments/1. Python Basics/.git/objects/8f\n",
      "[]\n",
      "['9ad0923d4c682488a3d816ce385b57041c1255', '62476e431b240678efe0b63fb25acbf7488749']\n",
      "-------------------\n",
      "/Users/rahulmahajan/Desktop/Projects/DS/2. Tech Neuron/Tech Neuron Assignments/1. Python Basics/.git/objects/8a\n",
      "[]\n",
      "['eee8a4419d4823fe3dfec81975097824c6a0da']\n",
      "-------------------\n",
      "/Users/rahulmahajan/Desktop/Projects/DS/2. Tech Neuron/Tech Neuron Assignments/1. Python Basics/.git/objects/10\n",
      "[]\n",
      "['bbf8e1a3502f9e2a41a3d2e7b38acdf440d11e']\n",
      "-------------------\n",
      "/Users/rahulmahajan/Desktop/Projects/DS/2. Tech Neuron/Tech Neuron Assignments/1. Python Basics/.git/objects/75\n",
      "[]\n",
      "['721692329c1172b6a3bb177992883f4551b542']\n",
      "-------------------\n",
      "/Users/rahulmahajan/Desktop/Projects/DS/2. Tech Neuron/Tech Neuron Assignments/1. Python Basics/.git/objects/81\n",
      "[]\n",
      "['e19a53877b8de69a7af26c44ae5b23c8e3ccfa', 'dca5e4d0be973c77131d31788a728c1149695d']\n",
      "-------------------\n",
      "/Users/rahulmahajan/Desktop/Projects/DS/2. Tech Neuron/Tech Neuron Assignments/1. Python Basics/.git/objects/72\n",
      "[]\n",
      "['9087720a866c86d7a3768ccf03484e36e8b7c6', '756e1b9434575368d77494e0c681db7fe3158f']\n",
      "-------------------\n",
      "/Users/rahulmahajan/Desktop/Projects/DS/2. Tech Neuron/Tech Neuron Assignments/1. Python Basics/.git/objects/44\n",
      "[]\n",
      "['f0965c1114ce19c346fbc51d7beb4fab11929f']\n",
      "-------------------\n",
      "/Users/rahulmahajan/Desktop/Projects/DS/2. Tech Neuron/Tech Neuron Assignments/1. Python Basics/.git/objects/2a\n",
      "[]\n",
      "['6833951e0f551f34bbe91ac55c908ab5cf9655', 'fd72a9b02e23df6a2fd2e0da2d0d151994007b', '2a73dad1d33389450ea120aa4f7ae79eefdca7', '2ab6360416602d3d7989ba856d3f4c491f407f', '2cb0a06b005a50ff16315c57df780debaf3258']\n",
      "-------------------\n",
      "/Users/rahulmahajan/Desktop/Projects/DS/2. Tech Neuron/Tech Neuron Assignments/1. Python Basics/.git/objects/2f\n",
      "[]\n",
      "['9d0bfb1a2b63f89c50c690c070ad1f86bef02a']\n",
      "-------------------\n",
      "/Users/rahulmahajan/Desktop/Projects/DS/2. Tech Neuron/Tech Neuron Assignments/1. Python Basics/.git/objects/9f\n",
      "[]\n",
      "['f6d83139ea9fb0d143a3dca3828b22cfb0b269']\n",
      "-------------------\n",
      "/Users/rahulmahajan/Desktop/Projects/DS/2. Tech Neuron/Tech Neuron Assignments/1. Python Basics/.git/objects/07\n",
      "[]\n",
      "['1c2adc9e3b3c52c77c02de0190e3ac2251da61', 'ee109f25b6423c7dc13caa3b94cc96eae7a284']\n",
      "-------------------\n",
      "/Users/rahulmahajan/Desktop/Projects/DS/2. Tech Neuron/Tech Neuron Assignments/1. Python Basics/.git/objects/9a\n",
      "[]\n",
      "['f00bf8587c69c8eebeff9fca478d1a839d5e81']\n",
      "-------------------\n",
      "/Users/rahulmahajan/Desktop/Projects/DS/2. Tech Neuron/Tech Neuron Assignments/1. Python Basics/.git/objects/36\n",
      "[]\n",
      "['7ac073c1a120877d70dc2212e903b084006cdb', '9955062891955307a044865472e3dd21b84b68']\n",
      "-------------------\n",
      "/Users/rahulmahajan/Desktop/Projects/DS/2. Tech Neuron/Tech Neuron Assignments/1. Python Basics/.git/objects/5c\n",
      "[]\n",
      "['438b874530c69031c028e0a48a519fd7648b0b']\n",
      "-------------------\n",
      "/Users/rahulmahajan/Desktop/Projects/DS/2. Tech Neuron/Tech Neuron Assignments/1. Python Basics/.git/objects/info\n",
      "[]\n",
      "[]\n",
      "-------------------\n",
      "/Users/rahulmahajan/Desktop/Projects/DS/2. Tech Neuron/Tech Neuron Assignments/1. Python Basics/.git/objects/65\n",
      "[]\n",
      "['b1eb6cf9253bacaea5ea3f6f4d05de26f5c906']\n",
      "-------------------\n",
      "/Users/rahulmahajan/Desktop/Projects/DS/2. Tech Neuron/Tech Neuron Assignments/1. Python Basics/.git/objects/62\n",
      "[]\n",
      "['3582233f634f265a21c65ffdbb544d564cd1fc']\n",
      "-------------------\n",
      "/Users/rahulmahajan/Desktop/Projects/DS/2. Tech Neuron/Tech Neuron Assignments/1. Python Basics/.git/objects/96\n",
      "[]\n",
      "['b41fda5755df9e5913028a0a654c42d5ae12fe', 'bd380ad0aec089219f15662d2bfad4c27643d4']\n",
      "-------------------\n",
      "/Users/rahulmahajan/Desktop/Projects/DS/2. Tech Neuron/Tech Neuron Assignments/1. Python Basics/.git/objects/54\n",
      "[]\n",
      "['f8f0ebf5d440243309c28dd9d071daa84e6512']\n",
      "-------------------\n",
      "/Users/rahulmahajan/Desktop/Projects/DS/2. Tech Neuron/Tech Neuron Assignments/1. Python Basics/.git/objects/30\n",
      "[]\n",
      "['5bd8d911b009c39e0c1e3ef82eef73af56460c', 'f2cc57a0b80fac94d1566a50eed08d17a57112']\n",
      "-------------------\n",
      "/Users/rahulmahajan/Desktop/Projects/DS/2. Tech Neuron/Tech Neuron Assignments/1. Python Basics/.git/objects/5e\n",
      "[]\n",
      "['bdf3816edd2c252b1192fba584045bd743c430']\n",
      "-------------------\n",
      "/Users/rahulmahajan/Desktop/Projects/DS/2. Tech Neuron/Tech Neuron Assignments/1. Python Basics/.git/objects/37\n",
      "[]\n",
      "['589fe69677af966fa1ef75ac318be4294c4f8b']\n",
      "-------------------\n",
      "/Users/rahulmahajan/Desktop/Projects/DS/2. Tech Neuron/Tech Neuron Assignments/1. Python Basics/.git/objects/08\n",
      "[]\n",
      "['419cd9234e14c9f48cb7e1261bdfefe807900a', 'f7e6a58a80b62e89712e91c04ea48a55baffee']\n",
      "-------------------\n",
      "/Users/rahulmahajan/Desktop/Projects/DS/2. Tech Neuron/Tech Neuron Assignments/1. Python Basics/.git/objects/01\n",
      "[]\n",
      "['7505a01c6a13ea0e4e35e8d26988c44bad830e', '55ebeb04551a62dfeda5e0d0007e052d2563e3']\n",
      "-------------------\n",
      "/Users/rahulmahajan/Desktop/Projects/DS/2. Tech Neuron/Tech Neuron Assignments/1. Python Basics/.git/objects/06\n",
      "[]\n",
      "['886689865bfe04273cee6f67961bf4cb654752', '24586eae408e06128ae44f661b6785c942b82b']\n",
      "-------------------\n",
      "/Users/rahulmahajan/Desktop/Projects/DS/2. Tech Neuron/Tech Neuron Assignments/1. Python Basics/.git/objects/39\n",
      "[]\n",
      "['d2e4b373a116654c9f8d24fc69288ea887f861', '6f8ff5c658a5a6b424fedcefad255df8ef4990', '3d3d0f02dbe4a8f280db951810cfa023d2e60d']\n",
      "-------------------\n",
      "/Users/rahulmahajan/Desktop/Projects/DS/2. Tech Neuron/Tech Neuron Assignments/1. Python Basics/.git/objects/99\n",
      "[]\n",
      "['190540bc67bec2113f1d51f024401df92d4c0a']\n",
      "-------------------\n",
      "/Users/rahulmahajan/Desktop/Projects/DS/2. Tech Neuron/Tech Neuron Assignments/1. Python Basics/.git/objects/52\n",
      "[]\n",
      "['4173eac560107cea74583819cd7e200b918195', 'eb03086a501ce0eb7669f3e9be515036c443eb']\n",
      "-------------------\n",
      "/Users/rahulmahajan/Desktop/Projects/DS/2. Tech Neuron/Tech Neuron Assignments/1. Python Basics/.git/objects/55\n",
      "[]\n",
      "['6ce325d4749c781b60142a7a6c1f09eb9b03e6', '7e01bb0ef58bb4554f3c4fc7c468dbada81508', '1a9c4ee5558f23cd4109c8302e0a3700ca4fd9']\n",
      "-------------------\n",
      "/Users/rahulmahajan/Desktop/Projects/DS/2. Tech Neuron/Tech Neuron Assignments/1. Python Basics/.git/objects/0f\n",
      "[]\n",
      "['22f5d0dcc95eece852258c141c7ed1ba61bc66']\n",
      "-------------------\n",
      "/Users/rahulmahajan/Desktop/Projects/DS/2. Tech Neuron/Tech Neuron Assignments/1. Python Basics/.git/objects/64\n",
      "[]\n",
      "['82d62d6174664cf8552f1621084cbf8854f619']\n",
      "-------------------\n",
      "/Users/rahulmahajan/Desktop/Projects/DS/2. Tech Neuron/Tech Neuron Assignments/1. Python Basics/.git/objects/90\n",
      "[]\n",
      "['4f171c6d9ca4b819cb5b2c30f770bf7baadac1', 'e58c812be2a282c49a01272b3f1ed6cabcdca6']\n",
      "-------------------\n",
      "/Users/rahulmahajan/Desktop/Projects/DS/2. Tech Neuron/Tech Neuron Assignments/1. Python Basics/.git/objects/d4\n",
      "[]\n",
      "['7b86a260757a9b2f7929fe1f1ba0c591ca88f8']\n",
      "-------------------\n",
      "/Users/rahulmahajan/Desktop/Projects/DS/2. Tech Neuron/Tech Neuron Assignments/1. Python Basics/.git/objects/a9\n",
      "[]\n",
      "['7f590bb5b6e57f69fa568530f493e71909fdf7']\n",
      "-------------------\n",
      "/Users/rahulmahajan/Desktop/Projects/DS/2. Tech Neuron/Tech Neuron Assignments/1. Python Basics/.git/objects/d2\n",
      "[]\n",
      "['797c5ba6cb414d14b4da0664c5f3a71aa00fa1']\n",
      "-------------------\n",
      "/Users/rahulmahajan/Desktop/Projects/DS/2. Tech Neuron/Tech Neuron Assignments/1. Python Basics/.git/objects/aa\n",
      "[]\n",
      "['09f01db46144c2752659157e48bb2a3fa24eb0']\n",
      "-------------------\n",
      "/Users/rahulmahajan/Desktop/Projects/DS/2. Tech Neuron/Tech Neuron Assignments/1. Python Basics/.git/objects/af\n",
      "[]\n",
      "['e760d34e2fde6ed23f18aeabf21c6318fed958']\n",
      "-------------------\n",
      "/Users/rahulmahajan/Desktop/Projects/DS/2. Tech Neuron/Tech Neuron Assignments/1. Python Basics/.git/objects/b7\n",
      "[]\n",
      "['da14ba150ab98f79c1ff6d210371477e6e83b4']\n",
      "-------------------\n",
      "/Users/rahulmahajan/Desktop/Projects/DS/2. Tech Neuron/Tech Neuron Assignments/1. Python Basics/.git/objects/db\n",
      "[]\n",
      "['f7c9f5870a74770ed43d796d3869feb9250b46', 'f2298a8c4349c278cc629b5c8de38e994a6f4a']\n",
      "-------------------\n",
      "/Users/rahulmahajan/Desktop/Projects/DS/2. Tech Neuron/Tech Neuron Assignments/1. Python Basics/.git/objects/de\n",
      "[]\n",
      "['5985bc41a3a473a0d578e6113c57aafef51889', 'ffc6ee49e6ea6f1d28178edc1b343e0687e201']\n",
      "-------------------\n",
      "/Users/rahulmahajan/Desktop/Projects/DS/2. Tech Neuron/Tech Neuron Assignments/1. Python Basics/.git/objects/a1\n",
      "[]\n",
      "['6f9c870ce3a3b559660e6bfd7f02ba1b0b0192']\n",
      "-------------------\n",
      "/Users/rahulmahajan/Desktop/Projects/DS/2. Tech Neuron/Tech Neuron Assignments/1. Python Basics/.git/objects/ef\n",
      "[]\n",
      "['0aa62996555d646f5aa1c6adaf2757f93d7b4e']\n",
      "-------------------\n",
      "/Users/rahulmahajan/Desktop/Projects/DS/2. Tech Neuron/Tech Neuron Assignments/1. Python Basics/.git/objects/c3\n",
      "[]\n",
      "['b6ba2b277731121bdac281e1cc5e43265f62e1']\n",
      "-------------------\n",
      "/Users/rahulmahajan/Desktop/Projects/DS/2. Tech Neuron/Tech Neuron Assignments/1. Python Basics/.git/objects/e1\n",
      "[]\n",
      "['e56b6e310e9f53f81def1475478ea50069c7e3', 'ab935078ab2e8096a9553da0d35fca004c47c9', 'b343710017a1471283f3010ce63dae5dfe6fc5']\n",
      "-------------------\n",
      "/Users/rahulmahajan/Desktop/Projects/DS/2. Tech Neuron/Tech Neuron Assignments/1. Python Basics/.git/objects/cc\n",
      "[]\n",
      "['32156b92d500a05aca47931bbe2d7deec31689']\n",
      "-------------------\n",
      "/Users/rahulmahajan/Desktop/Projects/DS/2. Tech Neuron/Tech Neuron Assignments/1. Python Basics/.git/objects/e6\n",
      "[]\n",
      "['888f2e97e448aedbf00ad9b510ad2eb10e8886', '9de29bb2d1d6434b8b29ae775ad8c2e48c5391']\n",
      "-------------------\n",
      "/Users/rahulmahajan/Desktop/Projects/DS/2. Tech Neuron/Tech Neuron Assignments/1. Python Basics/.git/objects/f0\n",
      "[]\n",
      "['03dc32c038105702c9e822c636ef60bfaf81e7']\n",
      "-------------------\n",
      "/Users/rahulmahajan/Desktop/Projects/DS/2. Tech Neuron/Tech Neuron Assignments/1. Python Basics/.git/objects/fa\n",
      "[]\n",
      "['1f12b5caeff5a86206b74dbf5c13a8b5bb1977', '2163eade7544cc7b5257434c33162af8e17443']\n",
      "-------------------\n",
      "/Users/rahulmahajan/Desktop/Projects/DS/2. Tech Neuron/Tech Neuron Assignments/1. Python Basics/.git/objects/e9\n",
      "[]\n",
      "['7bf65a2387d47fb83102882f956cc73f14b666', 'd553c7d4ff9d8c32742872e4d4e8c861b066bb']\n",
      "-------------------\n",
      "/Users/rahulmahajan/Desktop/Projects/DS/2. Tech Neuron/Tech Neuron Assignments/1. Python Basics/.git/objects/f8\n",
      "[]\n",
      "['9775a0538b68d906f9e6d973e1fa5487f7eabe']\n",
      "-------------------\n",
      "/Users/rahulmahajan/Desktop/Projects/DS/2. Tech Neuron/Tech Neuron Assignments/1. Python Basics/.git/objects/e0\n",
      "[]\n",
      "['c4f6ddaebf56b65f94ba5a7d4e43ba0d3e0ab4']\n",
      "-------------------\n",
      "/Users/rahulmahajan/Desktop/Projects/DS/2. Tech Neuron/Tech Neuron Assignments/1. Python Basics/.git/objects/2c\n",
      "[]\n",
      "['660ae019894a7badcc0f2f5e78f819d5886ac8']\n",
      "-------------------\n",
      "/Users/rahulmahajan/Desktop/Projects/DS/2. Tech Neuron/Tech Neuron Assignments/1. Python Basics/.git/objects/1b\n",
      "[]\n",
      "['a6aa17209f2c0ec2d2c58341c689e519200234', 'ade36264c940031c33fbaa97e9a8688fb945f9']\n",
      "-------------------\n",
      "/Users/rahulmahajan/Desktop/Projects/DS/2. Tech Neuron/Tech Neuron Assignments/1. Python Basics/.git/objects/77\n",
      "[]\n",
      "['422cfcb9160bef8198a02452a3e9fb360b1006']\n",
      "-------------------\n",
      "/Users/rahulmahajan/Desktop/Projects/DS/2. Tech Neuron/Tech Neuron Assignments/1. Python Basics/.git/objects/84\n",
      "[]\n",
      "['270e7e6cec6b8e6736e6617f895397f19bb608']\n",
      "-------------------\n",
      "/Users/rahulmahajan/Desktop/Projects/DS/2. Tech Neuron/Tech Neuron Assignments/1. Python Basics/.git/objects/4a\n",
      "[]\n",
      "['7676fa9af8dc78ae960f624cc8e2685b865880']\n",
      "-------------------\n",
      "/Users/rahulmahajan/Desktop/Projects/DS/2. Tech Neuron/Tech Neuron Assignments/1. Python Basics/.git/objects/24\n",
      "[]\n",
      "['33e228eacab85d49fcdfbdb313ff04d6d08be4']\n",
      "-------------------\n",
      "/Users/rahulmahajan/Desktop/Projects/DS/2. Tech Neuron/Tech Neuron Assignments/1. Python Basics/.git/objects/23\n",
      "[]\n",
      "['e8640c6a2be8bf4750104171f04724671d334c', '48a6a1deb54faf11ef357cdeadbebaa476c58c']\n",
      "-------------------\n",
      "/Users/rahulmahajan/Desktop/Projects/DS/2. Tech Neuron/Tech Neuron Assignments/1. Python Basics/.git/objects/4f\n",
      "[]\n",
      "['ef91c6a91aee13ec76044849e379a56c0f3784']\n",
      "-------------------\n",
      "/Users/rahulmahajan/Desktop/Projects/DS/2. Tech Neuron/Tech Neuron Assignments/1. Python Basics/.git/objects/8d\n",
      "[]\n",
      "['cdee1a1466153a2f8379bc5b59d4b0a25746b4', 'd131a0a46a6cd2db166c0dea1e0ca0e633ab6a']\n",
      "-------------------\n",
      "/Users/rahulmahajan/Desktop/Projects/DS/2. Tech Neuron/Tech Neuron Assignments/1. Python Basics/.git/objects/71\n",
      "[]\n",
      "['febfd68104d8cf3f682c9d22a0ad7d1f4a315a', 'f7d29c99ff93c3c3a9665acc43bc4d3257e647']\n",
      "-------------------\n",
      "/Users/rahulmahajan/Desktop/Projects/DS/2. Tech Neuron/Tech Neuron Assignments/1. Python Basics/.git/objects/76\n",
      "[]\n",
      "['4510a5ed6ec719f2498b79cb7702769079d39f']\n",
      "-------------------\n",
      "/Users/rahulmahajan/Desktop/Projects/DS/2. Tech Neuron/Tech Neuron Assignments/1. Python Basics/.git/objects/40\n",
      "[]\n",
      "['0c928aaf98f2934954cf69c140dafdbe349544']\n",
      "-------------------\n",
      "/Users/rahulmahajan/Desktop/Projects/DS/2. Tech Neuron/Tech Neuron Assignments/1. Python Basics/.git/objects/2b\n",
      "[]\n",
      "['db889d12ce65417bfc2e96a98bd6485f47ba12']\n",
      "-------------------\n",
      "/Users/rahulmahajan/Desktop/Projects/DS/2. Tech Neuron/Tech Neuron Assignments/1. Python Basics/.git/objects/47\n",
      "[]\n",
      "['58714596befff4ff9e13551a715a62679ed389']\n",
      "-------------------\n",
      "/Users/rahulmahajan/Desktop/Projects/DS/2. Tech Neuron/Tech Neuron Assignments/1. Python Basics/.git/objects/78\n",
      "[]\n",
      "['a224cf84ea3d7f57c7a90561f25e20c3dffbcf']\n",
      "-------------------\n",
      "/Users/rahulmahajan/Desktop/Projects/DS/2. Tech Neuron/Tech Neuron Assignments/1. Python Basics/.git/objects/8b\n",
      "[]\n",
      "['0916a7101cd0155b01685af9b4441a635a69f0', 'bf7e19a41c62d9397b7278cab84a27352d18cd']\n",
      "-------------------\n",
      "/Users/rahulmahajan/Desktop/Projects/DS/2. Tech Neuron/Tech Neuron Assignments/1. Python Basics/.git/objects/7a\n",
      "[]\n",
      "['2263e39b0d354f87638473b1990c89b9ff598a', '78d3101bcbeffdaef099d64de2f3bea64084c9', 'ee03bb3d00c1dc945f99ec4d55107f928ab8cb']\n",
      "-------------------\n",
      "/Users/rahulmahajan/Desktop/Projects/DS/2. Tech Neuron/Tech Neuron Assignments/1. Python Basics/.git/objects/14\n",
      "[]\n",
      "['04e31c61943d8520f2700069a1e373164d937c']\n",
      "-------------------\n",
      "/Users/rahulmahajan/Desktop/Projects/DS/2. Tech Neuron/Tech Neuron Assignments/1. Python Basics/.git/objects/25\n",
      "[]\n",
      "['aad4a6d7ac8261e72e06ce385ab91ea0992b79', 'b9d014a027ae2b12d3d32d3f7288c264ef4832']\n",
      "-------------------\n",
      "/Users/rahulmahajan/Desktop/Projects/DS/2. Tech Neuron/Tech Neuron Assignments/1. Python Basics/.git/info\n",
      "[]\n",
      "['exclude']\n",
      "-------------------\n",
      "/Users/rahulmahajan/Desktop/Projects/DS/2. Tech Neuron/Tech Neuron Assignments/1. Python Basics/.git/logs\n",
      "['refs']\n",
      "['HEAD']\n",
      "-------------------\n",
      "/Users/rahulmahajan/Desktop/Projects/DS/2. Tech Neuron/Tech Neuron Assignments/1. Python Basics/.git/logs/refs\n",
      "['heads', 'remotes']\n",
      "[]\n",
      "-------------------\n",
      "/Users/rahulmahajan/Desktop/Projects/DS/2. Tech Neuron/Tech Neuron Assignments/1. Python Basics/.git/logs/refs/heads\n",
      "[]\n",
      "['master']\n",
      "-------------------\n",
      "/Users/rahulmahajan/Desktop/Projects/DS/2. Tech Neuron/Tech Neuron Assignments/1. Python Basics/.git/logs/refs/remotes\n",
      "['origin']\n",
      "[]\n",
      "-------------------\n",
      "/Users/rahulmahajan/Desktop/Projects/DS/2. Tech Neuron/Tech Neuron Assignments/1. Python Basics/.git/logs/refs/remotes/origin\n",
      "[]\n",
      "['master']\n",
      "-------------------\n",
      "/Users/rahulmahajan/Desktop/Projects/DS/2. Tech Neuron/Tech Neuron Assignments/1. Python Basics/.git/hooks\n",
      "[]\n",
      "['commit-msg.sample', 'pre-rebase.sample', 'sendemail-validate.sample', 'pre-commit.sample', 'applypatch-msg.sample', 'fsmonitor-watchman.sample', 'pre-receive.sample', 'prepare-commit-msg.sample', 'post-update.sample', 'pre-merge-commit.sample', 'pre-applypatch.sample', 'pre-push.sample', 'update.sample', 'push-to-checkout.sample']\n",
      "-------------------\n",
      "/Users/rahulmahajan/Desktop/Projects/DS/2. Tech Neuron/Tech Neuron Assignments/1. Python Basics/.git/refs\n",
      "['heads', 'tags', 'remotes']\n",
      "[]\n",
      "-------------------\n",
      "/Users/rahulmahajan/Desktop/Projects/DS/2. Tech Neuron/Tech Neuron Assignments/1. Python Basics/.git/refs/heads\n",
      "[]\n",
      "['master']\n",
      "-------------------\n",
      "/Users/rahulmahajan/Desktop/Projects/DS/2. Tech Neuron/Tech Neuron Assignments/1. Python Basics/.git/refs/tags\n",
      "[]\n",
      "[]\n",
      "-------------------\n",
      "/Users/rahulmahajan/Desktop/Projects/DS/2. Tech Neuron/Tech Neuron Assignments/1. Python Basics/.git/refs/remotes\n",
      "['origin']\n",
      "[]\n",
      "-------------------\n",
      "/Users/rahulmahajan/Desktop/Projects/DS/2. Tech Neuron/Tech Neuron Assignments/1. Python Basics/.git/refs/remotes/origin\n",
      "[]\n",
      "['master']\n",
      "-------------------\n"
     ]
    }
   ],
   "source": [
    "import os\n",
    "for dir_path, dir_name, file_names in os.walk('/Users/rahulmahajan/Desktop/Projects/DS/2. Tech Neuron/Tech Neuron Assignments/1. Python Basics'):\n",
    "    print (dir_path)\n",
    "    print (dir_name)\n",
    "    print ( file_names)\n",
    "    print (\"-------------------\")\n"
   ]
  },
  {
   "cell_type": "code",
   "execution_count": 26,
   "metadata": {},
   "outputs": [],
   "source": [
    "import shutil\n",
    "\n",
    "# shutil.copy() # compy files\n",
    "# shutil.copytree() # copy director\n",
    "\n",
    "# os.remove\n"
   ]
  },
  {
   "cell_type": "code",
   "execution_count": 30,
   "metadata": {},
   "outputs": [],
   "source": [
    "os.makedirs(\"test\",exist_ok=True)\n",
    "os.makedirs(\"test2\",exist_ok=True)"
   ]
  },
  {
   "cell_type": "code",
   "execution_count": 31,
   "metadata": {},
   "outputs": [
    {
     "data": {
      "text/plain": [
       "'./test/t2.txt'"
      ]
     },
     "execution_count": 31,
     "metadata": {},
     "output_type": "execute_result"
    }
   ],
   "source": [
    "shutil.copy('./t.txt',\"./test/t2.txt\") # destination can be file or folder"
   ]
  },
  {
   "cell_type": "code",
   "execution_count": 40,
   "metadata": {},
   "outputs": [
    {
     "data": {
      "text/plain": [
       "'./test/test2'"
      ]
     },
     "execution_count": 40,
     "metadata": {},
     "output_type": "execute_result"
    }
   ],
   "source": [
    "shutil.copytree(\"./test2\",\"./test/test2\")"
   ]
  },
  {
   "cell_type": "code",
   "execution_count": 44,
   "metadata": {},
   "outputs": [
    {
     "data": {
      "text/plain": [
       "['2_Files.ipynb', '1_OOPS.ipynb', 'test', 't.txt', 'test2']"
      ]
     },
     "execution_count": 44,
     "metadata": {},
     "output_type": "execute_result"
    }
   ],
   "source": [
    "os.listdir()"
   ]
  },
  {
   "cell_type": "code",
   "execution_count": 47,
   "metadata": {},
   "outputs": [
    {
     "name": "stdout",
     "output_type": "stream",
     "text": [
      "./ ['test', 'test2'] ['2_Files.ipynb', '1_OOPS.ipynb', 't.txt']\n",
      "./test ['test2'] ['t2.txt', 't.txt']\n",
      "./test/test2 [] ['f_test.text']\n",
      "./test2 [] ['f_test.text']\n"
     ]
    }
   ],
   "source": [
    "# to get all directors\n",
    "for rootdir, dir, files in os.walk(\"./\"):\n",
    "    print(rootdir, dir, files)"
   ]
  },
  {
   "cell_type": "code",
   "execution_count": 48,
   "metadata": {},
   "outputs": [
    {
     "data": {
      "text/plain": [
       "'/test2/t.txt'"
      ]
     },
     "execution_count": 48,
     "metadata": {},
     "output_type": "execute_result"
    }
   ],
   "source": [
    "os.path.join(\"/test2\",\"t.txt\")"
   ]
  },
  {
   "cell_type": "code",
   "execution_count": null,
   "metadata": {},
   "outputs": [],
   "source": []
  },
  {
   "cell_type": "code",
   "execution_count": null,
   "metadata": {},
   "outputs": [],
   "source": []
  },
  {
   "cell_type": "code",
   "execution_count": null,
   "metadata": {},
   "outputs": [],
   "source": []
  },
  {
   "cell_type": "code",
   "execution_count": null,
   "metadata": {},
   "outputs": [],
   "source": []
  },
  {
   "cell_type": "code",
   "execution_count": null,
   "metadata": {},
   "outputs": [],
   "source": []
  },
  {
   "cell_type": "code",
   "execution_count": null,
   "metadata": {},
   "outputs": [],
   "source": [
    "# 2 Working with files"
   ]
  },
  {
   "cell_type": "code",
   "execution_count": null,
   "metadata": {},
   "outputs": [],
   "source": [
    "# JSON file"
   ]
  },
  {
   "cell_type": "code",
   "execution_count": 49,
   "metadata": {},
   "outputs": [],
   "source": [
    "import json\n",
    "data ={\"a\" : \"abc\",\"b\":['test','test2']}\n",
    "\n",
    "with open(\"test1.json\",\"w\") as f:\n",
    "    json.dump(data,f)"
   ]
  },
  {
   "cell_type": "code",
   "execution_count": 50,
   "metadata": {},
   "outputs": [],
   "source": [
    "with open(\"test1.json\",'r') as f:\n",
    "    data1 = json.load(f)"
   ]
  },
  {
   "cell_type": "code",
   "execution_count": 51,
   "metadata": {},
   "outputs": [
    {
     "data": {
      "text/plain": [
       "{'a': 'abc', 'b': ['test', 'test2']}"
      ]
     },
     "execution_count": 51,
     "metadata": {},
     "output_type": "execute_result"
    }
   ],
   "source": [
    "data1"
   ]
  },
  {
   "cell_type": "code",
   "execution_count": null,
   "metadata": {},
   "outputs": [],
   "source": []
  },
  {
   "cell_type": "code",
   "execution_count": null,
   "metadata": {},
   "outputs": [],
   "source": [
    "# Yaml"
   ]
  },
  {
   "cell_type": "code",
   "execution_count": 56,
   "metadata": {},
   "outputs": [],
   "source": [
    "import yaml\n",
    "data ={\"a\" :\"abc\",\"b\" : \"cba\"}\n",
    "with open(\"config.yaml\", 'r') as f:\n",
    "    test = yaml.safe_load(f)"
   ]
  },
  {
   "cell_type": "code",
   "execution_count": 57,
   "metadata": {},
   "outputs": [
    {
     "name": "stdout",
     "output_type": "stream",
     "text": [
      "{'name': {'train': {'matrix': {'model': ['cnn', 'xgb'], 'feature': ['feature1', 'feature2', 'feature3']}, 'cmd': './train.py --feature ${item.feature} ${item.model}', 'outs': ['${item.model.pkl}']}}}\n"
     ]
    }
   ],
   "source": [
    "print(test)"
   ]
  },
  {
   "cell_type": "code",
   "execution_count": 58,
   "metadata": {},
   "outputs": [],
   "source": [
    "import yaml\n",
    "data ={\"a\" :\"abc\",\"b\" : \"cba\"}\n",
    "with open(\"config.yaml\", 'r') as f:\n",
    "    test = yaml.safe_dump(data)"
   ]
  },
  {
   "cell_type": "code",
   "execution_count": null,
   "metadata": {},
   "outputs": [],
   "source": []
  },
  {
   "cell_type": "code",
   "execution_count": null,
   "metadata": {},
   "outputs": [],
   "source": [
    "# CSV "
   ]
  },
  {
   "cell_type": "code",
   "execution_count": 1,
   "metadata": {},
   "outputs": [],
   "source": [
    "import csv\n",
    "\n",
    "data = [[\"name\",\"email_id\",\"number\"],[\"a\",\"b\",123]]\n",
    "\n",
    "with open('test3.csv' , \"w\") as f:\n",
    "    w = csv.writer(f)\n",
    "    for i in data:\n",
    "        w.writerow(i)"
   ]
  },
  {
   "cell_type": "code",
   "execution_count": null,
   "metadata": {},
   "outputs": [],
   "source": []
  },
  {
   "cell_type": "code",
   "execution_count": 6,
   "metadata": {},
   "outputs": [],
   "source": [
    "with open('test4.bin','wb') as f:\n",
    "    f.write(b\"\\abcd123&\")"
   ]
  },
  {
   "cell_type": "code",
   "execution_count": 23,
   "metadata": {},
   "outputs": [
    {
     "data": {
      "text/plain": [
       "b'\\xd3\\x92abcd123&'"
      ]
     },
     "execution_count": 23,
     "metadata": {},
     "output_type": "execute_result"
    }
   ],
   "source": [
    "\"Ӓabcd123&\".encode('utf-8')"
   ]
  },
  {
   "cell_type": "code",
   "execution_count": 21,
   "metadata": {},
   "outputs": [
    {
     "data": {
      "text/plain": [
       "'Ӓ'"
      ]
     },
     "execution_count": 21,
     "metadata": {},
     "output_type": "execute_result"
    }
   ],
   "source": [
    "chr(1234)"
   ]
  },
  {
   "cell_type": "code",
   "execution_count": 16,
   "metadata": {},
   "outputs": [
    {
     "data": {
      "text/plain": [
       "42"
      ]
     },
     "execution_count": 16,
     "metadata": {},
     "output_type": "execute_result"
    }
   ],
   "source": [
    "ord('*')"
   ]
  },
  {
   "cell_type": "code",
   "execution_count": null,
   "metadata": {},
   "outputs": [],
   "source": []
  },
  {
   "cell_type": "code",
   "execution_count": 24,
   "metadata": {},
   "outputs": [],
   "source": [
    "# 3 Buffer read and write operations\n",
    "\n",
    "import io"
   ]
  },
  {
   "cell_type": "code",
   "execution_count": 35,
   "metadata": {},
   "outputs": [],
   "source": [
    "# small chunks we can read and write if file size is huge\n",
    "\n",
    "with open(\"test_buffer.txt\",'wb') as f:\n",
    "    file = io.BufferedWriter(f)\n",
    "    file.write(b\"this is my buffer write\\n\")\n",
    "    file.write(b\"this is my buffer write\")\n",
    "    file.flush()"
   ]
  },
  {
   "cell_type": "code",
   "execution_count": 36,
   "metadata": {},
   "outputs": [
    {
     "name": "stdout",
     "output_type": "stream",
     "text": [
      "b' buffer wr'\n",
      "b's my buffe'\n",
      "b''\n"
     ]
    }
   ],
   "source": [
    "with open(\"test_buffer.txt\",'rb') as f:\n",
    "    file = io.BufferedReader(f)\n",
    "    data = file.read(10)\n",
    "    print(data)"
   ]
  },
  {
   "cell_type": "code",
   "execution_count": 30,
   "metadata": {},
   "outputs": [
    {
     "data": {
      "text/plain": [
       "b' buffer wr'"
      ]
     },
     "execution_count": 30,
     "metadata": {},
     "output_type": "execute_result"
    }
   ],
   "source": [
    "file.read(10)"
   ]
  },
  {
   "cell_type": "code",
   "execution_count": null,
   "metadata": {},
   "outputs": [],
   "source": []
  }
 ],
 "metadata": {
  "kernelspec": {
   "display_name": "Python 3",
   "language": "python",
   "name": "python3"
  },
  "language_info": {
   "codemirror_mode": {
    "name": "ipython",
    "version": 3
   },
   "file_extension": ".py",
   "mimetype": "text/x-python",
   "name": "python",
   "nbconvert_exporter": "python",
   "pygments_lexer": "ipython3",
   "version": "3.11.3"
  },
  "orig_nbformat": 4
 },
 "nbformat": 4,
 "nbformat_minor": 2
}
