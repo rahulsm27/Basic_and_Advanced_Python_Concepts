{
 "cells": [
  {
   "cell_type": "code",
   "execution_count": 1,
   "metadata": {},
   "outputs": [
    {
     "data": {
      "text/plain": [
       "['abc']"
      ]
     },
     "execution_count": 1,
     "metadata": {},
     "output_type": "execute_result"
    }
   ],
   "source": [
    "# 1. What is the name of the feature responsible for generating Regex objects?\n",
    "import re\n",
    "pattern = re.compile(\"abc\")\n",
    "string = 'test for finding abc in string'\n",
    "pattern.findall(string)\n",
    "\n",
    "\n",
    "\n"
   ]
  },
  {
   "cell_type": "code",
   "execution_count": 19,
   "metadata": {},
   "outputs": [
    {
     "name": "stdout",
     "output_type": "stream",
     "text": [
      "This\n"
     ]
    }
   ],
   "source": [
    "\n",
    "# 2. Why do raw strings often appear in Regex objects?\n",
    "# Python raw string treats the backslash character (\\) as a literal character. Raw string is useful when a string needs to contain a backslash\n",
    "\n",
    "\n",
    "# 3. What is the return value of the search() method?\n",
    "# returns a match object\n",
    "# match always searches at start of string\n",
    "# Search looks anwhere in the code\n",
    "\n",
    "\n",
    "pattern = r\"This\"\n",
    "string = \"This is a test this case\"\n",
    "find = re.search(pattern,string)\n",
    "print(find.group())\n",
    "\n",
    "\n",
    "# re.findall()\n",
    "# Return all non-overlapping matches of pattern in string, as a list of strings\n",
    "\n",
    "# string = \"\"\"Hello my Number is 123456789 and \n",
    "#              my friend's number is 987654321\"\"\"\n",
    "    \n",
    "# # A sample regular expression to find digits. \n",
    "# regex = '\\d+'             \n",
    "    \n",
    "# match = re.findall(regex, string) \n",
    "# print(match) \n"
   ]
  },
  {
   "cell_type": "code",
   "execution_count": 20,
   "metadata": {},
   "outputs": [
    {
     "data": {
      "text/plain": [
       "<re.Match object; span=(0, 4), match='This'>"
      ]
     },
     "execution_count": 20,
     "metadata": {},
     "output_type": "execute_result"
    }
   ],
   "source": [
    "find"
   ]
  },
  {
   "cell_type": "code",
   "execution_count": null,
   "metadata": {},
   "outputs": [],
   "source": []
  },
  {
   "cell_type": "code",
   "execution_count": 21,
   "metadata": {},
   "outputs": [
    {
     "name": "stdout",
     "output_type": "stream",
     "text": [
      "235-123-1234\n",
      "235\n",
      "123-1234\n"
     ]
    }
   ],
   "source": [
    "\n",
    "# 4. From a Match item, how do you get the actual strings that match the pattern?\n",
    "# Using group() method of match object\n",
    "\n",
    "# 5. In the regex which created from the r'(\\d\\d\\d)-(\\d\\d\\d-\\d\\d\\d\\d)', what does group zero cover? Group 2? Group 1?\n",
    "\n",
    "# Group 0 will return the whole pattern\n",
    "# Group 1 the first part\n",
    "# group 2 the second part\n",
    "\n",
    "pattern = r'(\\d\\d\\d)-(\\d\\d\\d-\\d\\d\\d\\d)'\n",
    "string = \"this is a test case for 235-123-1234 phone number\"\n",
    "x = re.search(pattern,string)\n",
    "print(x.group(0))\n",
    "print(x.group(1))\n",
    "print(x.group(2))\n",
    "\n"
   ]
  },
  {
   "cell_type": "code",
   "execution_count": 22,
   "metadata": {},
   "outputs": [],
   "source": [
    "# 6. In standard expression syntax, parentheses and intervals have distinct meanings. How can you tell a regex that you want it to fit real parentheses and periods?\n",
    "#Using blackslash \n",
    "\n",
    "# 7. The findall() method returns a string list or a list of string tuples. What causes it to return one of the two options?\n",
    "#If the regex has no groups, a list of strings is returned. If the regex has groups, a list of tuples of strings is\n",
    "\n",
    "\n",
    "\n",
    "# 8. In standard expressions, what does the | character mean?\n",
    "# It is called pipe. Its like an or conditon to match either expression\n",
    "\n",
    "# 9. In regular expressions, what does the character stand for?\n",
    "#The ? character can either mean “match zero or one of the preceding group”.\n",
    "\n",
    "# 10.In regular expressions, what is the difference between the + and * characters?\n",
    "# + 1 or more\n",
    "# * zeror or more\n",
    "\n",
    "# 11. What is the difference between {4} and {4,5} in regular expression?\n",
    "#{4} exactly 4 times\n",
    "#{4,5} match 4 or 5 times\n",
    "\n",
    "# 12. What do you mean by the \\d, \\w, and \\s shorthand character classes signify in regular expressions?\n",
    "#\\d is for matching digits 0-9\n",
    "#\\w, stands for single word, Any letter, numeric digit, or the underscore character. (Think of this as matching “word” characters.) \n",
    "# \\s stands for single space character, Any space, tab, or newline character. (Think of this as matching “space” characters.)\n",
    "\n",
    "\n",
    "\n",
    "\n",
    "# 13. What do means by \\D, \\W, and \\S shorthand character classes signify in regular expressions?\n",
    "\n",
    "# \\D - > Any character that is not a numeric digit from 0 to 9.\n",
    "\n",
    "# \\W - > Any character that is not a letter, numeric digit, or the underscore character.\n",
    "# \\S - > Any character that is not a space, tab, or newline.\n",
    "\n",
    "\n"
   ]
  },
  {
   "cell_type": "code",
   "execution_count": null,
   "metadata": {},
   "outputs": [],
   "source": [
    "# 14. What is the difference between .*? and .* ?\n",
    " # .*? is non greedy serach and .* is greedy serach\n",
    "\n",
    "\n",
    "# 15. What is the syntax for matching both numbers and lowercase letters with a character class?\n",
    "#[0-9a-z]\n",
    "\n",
    "\n",
    "# 16. What is the procedure for making a normal expression in regax case insensitive?\n",
    "\n",
    "#Passing re.I or re.IGNORECASE as the second argument to re.compile() will make the matching case insensitive\n",
    "\n",
    "\n",
    "\n",
    "# 17. What does the . character normally match? What does it match if re.DOTALL is passed as 2nd argument in re.compile()?\n",
    "\n",
    "#The . character normally matches any character except the newline character.\n",
    "\n",
    "#If re.DOTALL is passed as the second argument to re.compile(), then the dot will also match newline characters.\n",
    "\n"
   ]
  },
  {
   "cell_type": "code",
   "execution_count": 24,
   "metadata": {},
   "outputs": [
    {
     "data": {
      "text/plain": [
       "'X drummers, X pipers, five rings, X hen'"
      ]
     },
     "execution_count": 24,
     "metadata": {},
     "output_type": "execute_result"
    }
   ],
   "source": [
    "# 18. If numReg = re.compile(r'\\d+'), what will numRegex.sub('X', '11 drummers, 10 pipers, five rings, 4 hen') return?\n",
    "import re\n",
    "numRegex = re.compile(r'\\d+') \n",
    "numRegex.sub('X', '11 drummers, 10 pipers, five rings, 4 hen')\n",
    "\n",
    "# it will substiture digits with 'X'\n",
    "\n"
   ]
  },
  {
   "cell_type": "code",
   "execution_count": null,
   "metadata": {},
   "outputs": [],
   "source": [
    "\n",
    "\n",
    "# 19. What does passing re.VERBOSE as the 2nd argument to re.compile() allow to do?\n",
    "\n",
    "# This flag allows you to write regular expressions that look nicer and are more readable by allowing you to visually separate logical sections of the pattern and add comments.\n",
    "\n",
    "\n",
    "\n"
   ]
  },
  {
   "cell_type": "code",
   "execution_count": null,
   "metadata": {},
   "outputs": [],
   "source": [
    "# 20. How would you write a regex that match a number with comma for every three digits? It must match the given following:\n",
    "# '42'\n",
    "# '1,234'\n",
    "# '6,368,745'\n",
    "# but not the following:\n",
    "# '12,34,567' (which has only two digits between the commas)\n",
    "# '1234' (which lacks commas)\n",
    "\n",
    "pattern = r\"^\\d{1,3}(,\\d{3})*$\"\n"
   ]
  },
  {
   "cell_type": "code",
   "execution_count": 26,
   "metadata": {},
   "outputs": [
    {
     "data": {
      "text/plain": [
       "['Haruto Watanabe']"
      ]
     },
     "execution_count": 26,
     "metadata": {},
     "output_type": "execute_result"
    }
   ],
   "source": [
    "# 21. How would you write a regex that matches the full name of someone whose last name is Watanabe? You can assume that the first name that comes before it will always be one word that begins with a capital letter. The regex must match the following:\n",
    "# 'Haruto Watanabe'\n",
    "# 'Alice Watanabe'\n",
    "# 'RoboCop Watanabe'\n",
    "# but not the following:\n",
    "# 'haruto Watanabe' (where the first name is not capitalized)\n",
    "# 'Mr. Watanabe' (where the preceding word has a nonletter character)\n",
    "# 'Watanabe' (which has no first name)\n",
    "# 'Haruto watanabe' (where Watanabe is not capitalized)\n",
    "\n",
    "pattern = r'^[A-Z]+[a-z]* Watanabe'\n",
    "re.findall(pattern,\"Haruto Watanabe\")"
   ]
  },
  {
   "cell_type": "code",
   "execution_count": 28,
   "metadata": {},
   "outputs": [],
   "source": [
    "# 22. How would you write a regex that matches a sentence where the first word is either Alice, Bob, or Carol; the second word is either eats, pets, or throws; the third word is apples, cats, or baseballs; and the sentence ends with a period? This regex should be case-insensitive. It must match the following:\n",
    "# 'Alice eats apples.'\n",
    "# 'Bob pets cats.'\n",
    "# 'Carol throws baseballs.'\n",
    "# 'Alice throws Apples.'\n",
    "# 'BOB EATS CATS.'\n",
    "# but not the following:\n",
    "# 'RoboCop eats apples.'\n",
    "# 'ALICE THROWS FOOTBALLS.'\n",
    "# 'Carol eats 7 cats.'\n",
    "\n",
    "pattern = re.compile(r\"(Alice|Bob|Carol) (eats|petrs|throws) (apples|cats|baseballs)\\.\", re.I)"
   ]
  },
  {
   "cell_type": "code",
   "execution_count": null,
   "metadata": {},
   "outputs": [],
   "source": []
  }
 ],
 "metadata": {
  "kernelspec": {
   "display_name": "Python 3",
   "language": "python",
   "name": "python3"
  },
  "language_info": {
   "codemirror_mode": {
    "name": "ipython",
    "version": 3
   },
   "file_extension": ".py",
   "mimetype": "text/x-python",
   "name": "python",
   "nbconvert_exporter": "python",
   "pygments_lexer": "ipython3",
   "version": "3.11.3"
  }
 },
 "nbformat": 4,
 "nbformat_minor": 4
}
