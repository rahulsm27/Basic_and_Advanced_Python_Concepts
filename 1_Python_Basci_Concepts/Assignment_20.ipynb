{
 "cells": [
  {
   "cell_type": "code",
   "execution_count": 8,
   "metadata": {},
   "outputs": [],
   "source": [
    "# 1. Set the variable test1 to the string 'This is a test of the emergency text system,' and save test1 to a file named test.txt.\n",
    "test1 = \"This is a test of the emergency text system\"\n",
    "with open('test.txt','w') as file:\n",
    "    file.write(test1)\n"
   ]
  },
  {
   "cell_type": "code",
   "execution_count": 10,
   "metadata": {},
   "outputs": [
    {
     "name": "stdout",
     "output_type": "stream",
     "text": [
      "This is a test of the emergency text system\n"
     ]
    }
   ],
   "source": [
    " \n",
    "# 2. Read the contents of the file test.txt into the variable test2. Is there a difference between test 1 and test 2?\n",
    "\n",
    "with open('test.txt','r') as file:\n",
    "    test2 = file.read()\n",
    "print(test2)\n",
    "\n"
   ]
  },
  {
   "cell_type": "code",
   "execution_count": 18,
   "metadata": {},
   "outputs": [],
   "source": [
    "# 3. Create a CSV file called books.csv by using these lines:\n",
    "\n",
    "# title,author,year\n",
    "\n",
    "# The Weirdstone of Brisingamen,Alan Garner,1960\n",
    "\n",
    "# Perdido Street Station,China Miéville,2000\n",
    "\n",
    "# Thud!,Terry Pratchett,2005\n",
    "\n",
    "# The Spellman Files,Lisa Lutz,2007\n",
    "\n",
    "# Small Gods,Terry Pratchett,1992\n",
    "\n",
    "\n",
    "import csv\n",
    "rows =[ ['title','author','year'],\n",
    "    ['The Weirdstone of Brisingamen','Alan Garner',1960],\n",
    "    ['Perdido Street Station','China Miéville',2000],\n",
    "    ['Thud!','Terry Pratchett',2005],\n",
    "    ['The Spellman Files','Lisa Lutz',2007],\n",
    "    ['Small Gods','Terry Pratchett',1992]]\n",
    "with open('books.csv','w',newline='') as file:\n",
    "    writer = csv.writer(file)\n",
    "    writer.writerows(rows)\n"
   ]
  },
  {
   "cell_type": "code",
   "execution_count": 19,
   "metadata": {},
   "outputs": [],
   "source": [
    "\n",
    "# 4. Use the sqlite3 module to create a SQLite database called books.db, and a table called books with these fields: title (text), author (text), and year (integer).\n",
    "\n",
    "import sqlite3\n",
    "conn = sqlite3.connect(\"books.db\")\n",
    "\n",
    "c = conn.cursor()\n",
    "\n",
    "c.execute('create table books(title varchar(30), author varchar(30), year int)')\n",
    "conn.commit()\n",
    "\n"
   ]
  },
  {
   "cell_type": "code",
   "execution_count": 20,
   "metadata": {},
   "outputs": [
    {
     "data": {
      "text/plain": [
       "5"
      ]
     },
     "execution_count": 20,
     "metadata": {},
     "output_type": "execute_result"
    }
   ],
   "source": [
    "# 5. Read books.csv and insert its data into the book table.\n",
    "\n",
    "import pandas as pd\n",
    "books = pd.read_csv(\"books.csv\")\n",
    "books.to_sql('books', conn, if_exists='append', index=False)"
   ]
  },
  {
   "cell_type": "code",
   "execution_count": 21,
   "metadata": {},
   "outputs": [
    {
     "name": "stdout",
     "output_type": "stream",
     "text": [
      "[('Perdido Street Station',), ('Small Gods',), ('The Spellman Files',), ('The Weirdstone of Brisingamen',), ('Thud!',)]\n"
     ]
    }
   ],
   "source": [
    "# 6. Select and print the title column from the book table in alphabetical order.\n",
    "\n",
    "\n",
    "c.execute('select title from books order by title asc')\n",
    "print(c.fetchall())"
   ]
  },
  {
   "cell_type": "code",
   "execution_count": 22,
   "metadata": {},
   "outputs": [
    {
     "name": "stdout",
     "output_type": "stream",
     "text": [
      "[('The Weirdstone of Brisingamen', 'Alan Garner', 1960), ('Small Gods', 'Terry Pratchett', 1992), ('Perdido Street Station', 'China Miéville', 2000), ('Thud!', 'Terry Pratchett', 2005), ('The Spellman Files', 'Lisa Lutz', 2007)]\n"
     ]
    }
   ],
   "source": [
    "# 7. From the book table, select and print all columns in the order of publication.\n",
    "\n",
    "c.execute('select title, author,year from books order by year')\n",
    "\n",
    "print(c.fetchall())\n",
    "\n",
    "\n"
   ]
  },
  {
   "cell_type": "code",
   "execution_count": 30,
   "metadata": {},
   "outputs": [
    {
     "ename": "ArgumentError",
     "evalue": "Column expression, FROM clause, or other columns clause element expected, got                            title           author  year\n0  The Weirdstone of Brisingamen      Alan Garner  1960\n1         Perdido Street Station   China Miéville  2000\n2                          Thud!  Terry Pratchett  2005\n3             The Spellman Files        Lisa Lutz  2007\n4                     Small Gods  Terry Pratchett  1992.",
     "output_type": "error",
     "traceback": [
      "\u001b[0;31m---------------------------------------------------------------------------\u001b[0m",
      "\u001b[0;31mArgumentError\u001b[0m                             Traceback (most recent call last)",
      "Cell \u001b[0;32mIn[30], line 8\u001b[0m\n\u001b[1;32m      6\u001b[0m engine \u001b[39m=\u001b[39m sqlalchemy\u001b[39m.\u001b[39mcreate_engine(\u001b[39m\"\u001b[39m\u001b[39msqlite:///books.db\u001b[39m\u001b[39m\"\u001b[39m)\n\u001b[1;32m      7\u001b[0m conn \u001b[39m=\u001b[39mengine\u001b[39m.\u001b[39mconnect()\n\u001b[0;32m----> 8\u001b[0m s\u001b[39m=\u001b[39m select(books)\n\u001b[1;32m      9\u001b[0m rows \u001b[39m=\u001b[39m conn\u001b[39m.\u001b[39mexecute(s)\n\u001b[1;32m     10\u001b[0m \u001b[39mfor\u001b[39;00m i \u001b[39min\u001b[39;00m rows:\n",
      "File \u001b[0;32m/Library/Frameworks/Python.framework/Versions/3.11/lib/python3.11/site-packages/sqlalchemy/sql/_selectable_constructors.py:489\u001b[0m, in \u001b[0;36mselect\u001b[0;34m(*entities, **__kw)\u001b[0m\n\u001b[1;32m    487\u001b[0m \u001b[39mif\u001b[39;00m __kw:\n\u001b[1;32m    488\u001b[0m     \u001b[39mraise\u001b[39;00m _no_kw()\n\u001b[0;32m--> 489\u001b[0m \u001b[39mreturn\u001b[39;00m Select(\u001b[39m*\u001b[39;49mentities)\n",
      "File \u001b[0;32m/Library/Frameworks/Python.framework/Versions/3.11/lib/python3.11/site-packages/sqlalchemy/sql/selectable.py:5130\u001b[0m, in \u001b[0;36mSelect.__init__\u001b[0;34m(self, *entities)\u001b[0m\n\u001b[1;32m   5123\u001b[0m \u001b[39mdef\u001b[39;00m \u001b[39m__init__\u001b[39m(\u001b[39mself\u001b[39m, \u001b[39m*\u001b[39mentities: _ColumnsClauseArgument[Any]):\n\u001b[1;32m   5124\u001b[0m \u001b[39m    \u001b[39m\u001b[39mr\u001b[39m\u001b[39m\"\"\"Construct a new :class:`_expression.Select`.\u001b[39;00m\n\u001b[1;32m   5125\u001b[0m \n\u001b[1;32m   5126\u001b[0m \u001b[39m    The public constructor for :class:`_expression.Select` is the\u001b[39;00m\n\u001b[1;32m   5127\u001b[0m \u001b[39m    :func:`_sql.select` function.\u001b[39;00m\n\u001b[1;32m   5128\u001b[0m \n\u001b[1;32m   5129\u001b[0m \u001b[39m    \"\"\"\u001b[39;00m\n\u001b[0;32m-> 5130\u001b[0m     \u001b[39mself\u001b[39m\u001b[39m.\u001b[39m_raw_columns \u001b[39m=\u001b[39m [\n\u001b[1;32m   5131\u001b[0m         coercions\u001b[39m.\u001b[39;49mexpect(\n\u001b[1;32m   5132\u001b[0m             roles\u001b[39m.\u001b[39;49mColumnsClauseRole, ent, apply_propagate_attrs\u001b[39m=\u001b[39;49m\u001b[39mself\u001b[39;49m\n\u001b[1;32m   5133\u001b[0m         )\n\u001b[1;32m   5134\u001b[0m         \u001b[39mfor\u001b[39;49;00m ent \u001b[39min\u001b[39;49;00m entities\n\u001b[1;32m   5135\u001b[0m     ]\n\u001b[1;32m   5137\u001b[0m     GenerativeSelect\u001b[39m.\u001b[39m\u001b[39m__init__\u001b[39m(\u001b[39mself\u001b[39m)\n",
      "File \u001b[0;32m/Library/Frameworks/Python.framework/Versions/3.11/lib/python3.11/site-packages/sqlalchemy/sql/selectable.py:5131\u001b[0m, in \u001b[0;36m<listcomp>\u001b[0;34m(.0)\u001b[0m\n\u001b[1;32m   5123\u001b[0m \u001b[39mdef\u001b[39;00m \u001b[39m__init__\u001b[39m(\u001b[39mself\u001b[39m, \u001b[39m*\u001b[39mentities: _ColumnsClauseArgument[Any]):\n\u001b[1;32m   5124\u001b[0m \u001b[39m    \u001b[39m\u001b[39mr\u001b[39m\u001b[39m\"\"\"Construct a new :class:`_expression.Select`.\u001b[39;00m\n\u001b[1;32m   5125\u001b[0m \n\u001b[1;32m   5126\u001b[0m \u001b[39m    The public constructor for :class:`_expression.Select` is the\u001b[39;00m\n\u001b[1;32m   5127\u001b[0m \u001b[39m    :func:`_sql.select` function.\u001b[39;00m\n\u001b[1;32m   5128\u001b[0m \n\u001b[1;32m   5129\u001b[0m \u001b[39m    \"\"\"\u001b[39;00m\n\u001b[1;32m   5130\u001b[0m     \u001b[39mself\u001b[39m\u001b[39m.\u001b[39m_raw_columns \u001b[39m=\u001b[39m [\n\u001b[0;32m-> 5131\u001b[0m         coercions\u001b[39m.\u001b[39;49mexpect(\n\u001b[1;32m   5132\u001b[0m             roles\u001b[39m.\u001b[39;49mColumnsClauseRole, ent, apply_propagate_attrs\u001b[39m=\u001b[39;49m\u001b[39mself\u001b[39;49m\n\u001b[1;32m   5133\u001b[0m         )\n\u001b[1;32m   5134\u001b[0m         \u001b[39mfor\u001b[39;00m ent \u001b[39min\u001b[39;00m entities\n\u001b[1;32m   5135\u001b[0m     ]\n\u001b[1;32m   5137\u001b[0m     GenerativeSelect\u001b[39m.\u001b[39m\u001b[39m__init__\u001b[39m(\u001b[39mself\u001b[39m)\n",
      "File \u001b[0;32m/Library/Frameworks/Python.framework/Versions/3.11/lib/python3.11/site-packages/sqlalchemy/sql/coercions.py:413\u001b[0m, in \u001b[0;36mexpect\u001b[0;34m(role, element, apply_propagate_attrs, argname, post_inspect, disable_inspection, **kw)\u001b[0m\n\u001b[1;32m    410\u001b[0m                 impl\u001b[39m.\u001b[39m_raise_for_expected(original_element, argname)\n\u001b[1;32m    412\u001b[0m     \u001b[39mif\u001b[39;00m resolved \u001b[39mis\u001b[39;00m \u001b[39mNone\u001b[39;00m:\n\u001b[0;32m--> 413\u001b[0m         resolved \u001b[39m=\u001b[39m impl\u001b[39m.\u001b[39;49m_literal_coercion(\n\u001b[1;32m    414\u001b[0m             element, argname\u001b[39m=\u001b[39;49margname, \u001b[39m*\u001b[39;49m\u001b[39m*\u001b[39;49mkw\n\u001b[1;32m    415\u001b[0m         )\n\u001b[1;32m    416\u001b[0m \u001b[39melse\u001b[39;00m:\n\u001b[1;32m    417\u001b[0m     resolved \u001b[39m=\u001b[39m element\n",
      "File \u001b[0;32m/Library/Frameworks/Python.framework/Versions/3.11/lib/python3.11/site-packages/sqlalchemy/sql/coercions.py:651\u001b[0m, in \u001b[0;36m_CoerceLiterals._literal_coercion\u001b[0;34m(self, element, argname, **kw)\u001b[0m\n\u001b[1;32m    648\u001b[0m \u001b[39mif\u001b[39;00m \u001b[39mself\u001b[39m\u001b[39m.\u001b[39m_coerce_numerics \u001b[39mand\u001b[39;00m \u001b[39misinstance\u001b[39m(element, (numbers\u001b[39m.\u001b[39mNumber)):\n\u001b[1;32m    649\u001b[0m     \u001b[39mreturn\u001b[39;00m elements\u001b[39m.\u001b[39mColumnClause(\u001b[39mstr\u001b[39m(element), is_literal\u001b[39m=\u001b[39m\u001b[39mTrue\u001b[39;00m)\n\u001b[0;32m--> 651\u001b[0m \u001b[39mself\u001b[39;49m\u001b[39m.\u001b[39;49m_raise_for_expected(element, argname)\n",
      "File \u001b[0;32m/Library/Frameworks/Python.framework/Versions/3.11/lib/python3.11/site-packages/sqlalchemy/sql/coercions.py:1139\u001b[0m, in \u001b[0;36mColumnsClauseImpl._raise_for_expected\u001b[0;34m(self, element, argname, resolved, advice, **kw)\u001b[0m\n\u001b[1;32m   1133\u001b[0m \u001b[39mif\u001b[39;00m \u001b[39mnot\u001b[39;00m advice \u001b[39mand\u001b[39;00m \u001b[39misinstance\u001b[39m(element, \u001b[39mlist\u001b[39m):\n\u001b[1;32m   1134\u001b[0m     advice \u001b[39m=\u001b[39m (\n\u001b[1;32m   1135\u001b[0m         \u001b[39mf\u001b[39m\u001b[39m\"\u001b[39m\u001b[39mDid you mean to say select(\u001b[39m\u001b[39m\"\u001b[39m\n\u001b[1;32m   1136\u001b[0m         \u001b[39mf\u001b[39m\u001b[39m\"\u001b[39m\u001b[39m{\u001b[39;00m\u001b[39m'\u001b[39m\u001b[39m, \u001b[39m\u001b[39m'\u001b[39m\u001b[39m.\u001b[39mjoin(\u001b[39mrepr\u001b[39m(e)\u001b[39m \u001b[39m\u001b[39mfor\u001b[39;00m\u001b[39m \u001b[39me\u001b[39m \u001b[39m\u001b[39min\u001b[39;00m\u001b[39m \u001b[39melement)\u001b[39m}\u001b[39;00m\u001b[39m)?\u001b[39m\u001b[39m\"\u001b[39m\n\u001b[1;32m   1137\u001b[0m     )\n\u001b[0;32m-> 1139\u001b[0m \u001b[39mreturn\u001b[39;00m \u001b[39msuper\u001b[39;49m()\u001b[39m.\u001b[39;49m_raise_for_expected(\n\u001b[1;32m   1140\u001b[0m     element, argname\u001b[39m=\u001b[39;49margname, resolved\u001b[39m=\u001b[39;49mresolved, advice\u001b[39m=\u001b[39;49madvice, \u001b[39m*\u001b[39;49m\u001b[39m*\u001b[39;49mkw\n\u001b[1;32m   1141\u001b[0m )\n",
      "File \u001b[0;32m/Library/Frameworks/Python.framework/Versions/3.11/lib/python3.11/site-packages/sqlalchemy/sql/coercions.py:710\u001b[0m, in \u001b[0;36m_SelectIsNotFrom._raise_for_expected\u001b[0;34m(self, element, argname, resolved, advice, code, err, **kw)\u001b[0m\n\u001b[1;32m    707\u001b[0m \u001b[39melse\u001b[39;00m:\n\u001b[1;32m    708\u001b[0m     code \u001b[39m=\u001b[39m \u001b[39mNone\u001b[39;00m\n\u001b[0;32m--> 710\u001b[0m \u001b[39msuper\u001b[39;49m()\u001b[39m.\u001b[39;49m_raise_for_expected(\n\u001b[1;32m    711\u001b[0m     element,\n\u001b[1;32m    712\u001b[0m     argname\u001b[39m=\u001b[39;49margname,\n\u001b[1;32m    713\u001b[0m     resolved\u001b[39m=\u001b[39;49mresolved,\n\u001b[1;32m    714\u001b[0m     advice\u001b[39m=\u001b[39;49madvice,\n\u001b[1;32m    715\u001b[0m     code\u001b[39m=\u001b[39;49mcode,\n\u001b[1;32m    716\u001b[0m     err\u001b[39m=\u001b[39;49merr,\n\u001b[1;32m    717\u001b[0m     \u001b[39m*\u001b[39;49m\u001b[39m*\u001b[39;49mkw,\n\u001b[1;32m    718\u001b[0m )\n\u001b[1;32m    719\u001b[0m \u001b[39m# never reached\u001b[39;00m\n\u001b[1;32m    720\u001b[0m \u001b[39massert\u001b[39;00m \u001b[39mFalse\u001b[39;00m\n",
      "File \u001b[0;32m/Library/Frameworks/Python.framework/Versions/3.11/lib/python3.11/site-packages/sqlalchemy/sql/coercions.py:535\u001b[0m, in \u001b[0;36mRoleImpl._raise_for_expected\u001b[0;34m(self, element, argname, resolved, advice, code, err, **kw)\u001b[0m\n\u001b[1;32m    532\u001b[0m \u001b[39mif\u001b[39;00m advice:\n\u001b[1;32m    533\u001b[0m     msg \u001b[39m+\u001b[39m\u001b[39m=\u001b[39m \u001b[39m\"\u001b[39m\u001b[39m \u001b[39m\u001b[39m\"\u001b[39m \u001b[39m+\u001b[39m advice\n\u001b[0;32m--> 535\u001b[0m \u001b[39mraise\u001b[39;00m exc\u001b[39m.\u001b[39mArgumentError(msg, code\u001b[39m=\u001b[39mcode) \u001b[39mfrom\u001b[39;00m \u001b[39merr\u001b[39;00m\n",
      "\u001b[0;31mArgumentError\u001b[0m: Column expression, FROM clause, or other columns clause element expected, got                            title           author  year\n0  The Weirdstone of Brisingamen      Alan Garner  1960\n1         Perdido Street Station   China Miéville  2000\n2                          Thud!  Terry Pratchett  2005\n3             The Spellman Files        Lisa Lutz  2007\n4                     Small Gods  Terry Pratchett  1992."
     ]
    }
   ],
   "source": [
    "# 8. Use the sqlalchemy module to connect to the sqlite3 database books.db that you just made in exercise 6.\n",
    "\n",
    "\n",
    "import sqlalchemy \n",
    "from sqlalchemy.sql import select\n",
    "engine = sqlalchemy.create_engine(\"sqlite:///books.db\")\n",
    "conn =engine.connect()\n",
    "s= select(books)\n",
    "rows = conn.execute(s)\n",
    "for i in rows:\n",
    "    print(i)"
   ]
  },
  {
   "cell_type": "code",
   "execution_count": 32,
   "metadata": {},
   "outputs": [
    {
     "name": "stderr",
     "output_type": "stream",
     "text": [
      "/var/folders/qj/rbyl_gdj7xn3ycgcxjpvn5080000gn/T/ipykernel_38707/2994995268.py:7: DeprecationWarning: Redis.hmset() is deprecated. Use Redis.hset() instead.\n",
      "  conn.hmset('test', {'count': 1, 'name': 'Fester Bestertester'})\n"
     ]
    },
    {
     "data": {
      "text/plain": [
       "{b'count': b'1', b'name': b'Fester Bestertester'}"
      ]
     },
     "execution_count": 32,
     "metadata": {},
     "output_type": "execute_result"
    }
   ],
   "source": [
    "\n",
    "# 9. Install the Redis server and the Python redis library (pip install redis) on your computer. Create a Redis hash called test with the fields count (1) and name ('Fester Bestertester'). Print all the fields for test.\n",
    "\n",
    "#!pip3 install redis\n",
    "import redis\n",
    "conn = redis.Redis()\n",
    "conn.delete('test')\n",
    "conn.hmset('test', {'count': 1, 'name': 'Fester Bestertester'})\n",
    "conn.hgetall('test')\n",
    "     \n"
   ]
  },
  {
   "cell_type": "code",
   "execution_count": 33,
   "metadata": {},
   "outputs": [
    {
     "data": {
      "text/plain": [
       "4"
      ]
     },
     "execution_count": 33,
     "metadata": {},
     "output_type": "execute_result"
    }
   ],
   "source": [
    "# 10. Increment the count field of test and print it\n",
    "\n",
    "conn.hincrby('test','count', 3)"
   ]
  },
  {
   "cell_type": "code",
   "execution_count": null,
   "metadata": {},
   "outputs": [],
   "source": []
  },
  {
   "cell_type": "code",
   "execution_count": null,
   "metadata": {},
   "outputs": [],
   "source": []
  },
  {
   "cell_type": "code",
   "execution_count": null,
   "metadata": {},
   "outputs": [],
   "source": []
  }
 ],
 "metadata": {
  "kernelspec": {
   "display_name": "Python 3",
   "language": "python",
   "name": "python3"
  },
  "language_info": {
   "codemirror_mode": {
    "name": "ipython",
    "version": 3
   },
   "file_extension": ".py",
   "mimetype": "text/x-python",
   "name": "python",
   "nbconvert_exporter": "python",
   "pygments_lexer": "ipython3",
   "version": "3.11.3"
  },
  "orig_nbformat": 4
 },
 "nbformat": 4,
 "nbformat_minor": 2
}
