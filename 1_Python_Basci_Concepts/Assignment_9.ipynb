{
 "cells": [
  {
   "cell_type": "code",
   "execution_count": 6,
   "metadata": {},
   "outputs": [
    {
     "data": {
      "text/plain": [
       "'Assignment_9.ipynb'"
      ]
     },
     "execution_count": 6,
     "metadata": {},
     "output_type": "execute_result"
    }
   ],
   "source": [
    "# 1. To what does a relative path refer?\n",
    "# Relative path refers to acces a give fiel or directory strating from current working direcory\n",
    "# It is refered by lak of a leading forward slash\n",
    "\n",
    "# 2. What does an absolute path start with your operating system?\n",
    "# Absolute path bgings from teh absolute start of hard drive\n",
    "\n",
    "\n",
    "\n",
    "# 3. What do the functions os.getcwd() and os.chdir() do?\n",
    "# os.getcwd() gives current working directory\n",
    "# os.chdir() is used to change the current workign directory\n",
    "\n",
    "# 4. What are the . and .. folders?\n",
    "#The . folder represents the current directory or folder . \n",
    "# The .. represents the parent directory fo the current directory\n",
    "\n",
    "\n",
    "\n",
    "\n",
    "# 5. In C:\\bacon\\eggs\\spam.txt, which part is the dir name, and which part is the base name?\n",
    "# spam.txt\n",
    "import os\n",
    "from pathlib import Path\n",
    "path_file = '/Users/rahulmahajan/Desktop/Projects/DS/2. Tech Neuron/Tech Neuron Assignments/1. Python Basics/Assignment_9.ipynb'\n",
    "os.path.basename(path_file)\n",
    "\n",
    "\n"
   ]
  },
  {
   "cell_type": "code",
   "execution_count": 8,
   "metadata": {},
   "outputs": [
    {
     "name": "stdout",
     "output_type": "stream",
     "text": [
      "Name: Rahul\n",
      "Age: 23\n"
     ]
    }
   ],
   "source": [
    "\n",
    "# 6. What are the three “mode” arguments that can be passed to the open() function?\n",
    "# r read\n",
    "# w write\n",
    "# a append\n",
    "\n",
    "# 7. What happens if an existing file is opened in write mode?\n",
    "# It will overwrite the contents\n",
    "\n",
    "\n",
    "# 8. How do you tell the difference between read() and readlines()?\n",
    "# read() will read the entire text of the document read() returns the entire content of the file as a single string\n",
    "# readlines() returns a list of strings, where each string represents a line in the file.\n",
    "\n",
    "# 9. What data structure does a shelf value resemble?\n",
    "\n",
    "# Shelves provide key-value storage similar to dictionaries, with the main difference being that the data is stored in a file on the disk, making it suitable for cases where data needs to be preserved across different program executions.\n",
    "\n",
    "\n",
    "import shelve\n",
    "\n",
    "# Open a shelf\n",
    "with shelve.open('mydata') as shelf:\n",
    "    shelf['name'] = 'Rahul'\n",
    "    shelf['age'] = 23\n",
    " \n",
    "# Reopen the shelf to retrieve data\n",
    "with shelve.open('mydata') as shelf:\n",
    "    print(\"Name:\", shelf['name'])\n",
    "    print(\"Age:\", shelf['age'])\n",
    " "
   ]
  },
  {
   "cell_type": "code",
   "execution_count": null,
   "metadata": {},
   "outputs": [],
   "source": []
  }
 ],
 "metadata": {
  "kernelspec": {
   "display_name": "Python 3",
   "language": "python",
   "name": "python3"
  },
  "language_info": {
   "codemirror_mode": {
    "name": "ipython",
    "version": 3
   },
   "file_extension": ".py",
   "mimetype": "text/x-python",
   "name": "python",
   "nbconvert_exporter": "python",
   "pygments_lexer": "ipython3",
   "version": "3.11.3"
  }
 },
 "nbformat": 4,
 "nbformat_minor": 4
}
