{
 "cells": [
  {
   "cell_type": "code",
   "execution_count": 6,
   "metadata": {},
   "outputs": [
    {
     "name": "stdout",
     "output_type": "stream",
     "text": [
      "\u0007a\n"
     ]
    }
   ],
   "source": [
    "# 1. What are escape characters, and how do you use them?\n",
    "\n",
    "# An escape sequence is a sequence of characters that, when used inside a character or string, does not represent itself but is converted into another character or series of characters that may be difficult or impossible to express directly, like newline (\\n), tab (\\t), and so on.\n",
    "\n",
    "# In the escape sequence, a character is preceded by a backslash (\\) followed by the character you want to represent for the new line. We have something like this \\\\\\n."
   ]
  },
  {
   "cell_type": "code",
   "execution_count": 7,
   "metadata": {},
   "outputs": [
    {
     "name": "stdout",
     "output_type": "stream",
     "text": [
      "test\\blackslash\n"
     ]
    }
   ],
   "source": [
    "# 2. What do the escape characters n and t stand for?\n",
    "\n",
    "# n - For new line\n",
    "# t - For tab\n",
    "\n",
    "# 3. What is the way to include backslash characters in a string?\n",
    "# using another backslah\n",
    "print(\"test\\\\blackslash\")\n",
    "\n",
    "\n",
    "\n"
   ]
  },
  {
   "cell_type": "code",
   "execution_count": null,
   "metadata": {},
   "outputs": [],
   "source": [
    "# 4. The string \"Howl's Moving Castle\" is a correct value. Why isn't the single quote character in the word Howl's not escaped a problem?\n",
    "# because we have used double quotes\n",
    "\n",
    "\n",
    "# 5. How do you write a string of newlines if you don't want to use the n character?\n",
    "\n",
    "\n",
    "\n",
    "# 6. What are the values of the given expressions?\n",
    "# 'Hello, world!'[1]\n",
    "# 'Hello, world!'[0:5]\n",
    "# 'Hello, world!'[:5]\n",
    "# 'Hello, world!'[3:]\n",
    "\n",
    "#e\n",
    "#Hello\n",
    "#Hello\n",
    "#lo, world!\n"
   ]
  },
  {
   "cell_type": "code",
   "execution_count": null,
   "metadata": {},
   "outputs": [],
   "source": [
    "\n",
    "# 7. What are the values of the following expressions?\n",
    "# 'Hello'.upper()\n",
    "# 'Hello'.upper().isupper()\n",
    "# 'Hello'.upper().lower()\n",
    "\n",
    "#HELLO\n",
    "#True\n",
    "#hello\n"
   ]
  },
  {
   "cell_type": "code",
   "execution_count": 8,
   "metadata": {},
   "outputs": [
    {
     "name": "stdout",
     "output_type": "stream",
     "text": [
      "['Remember,', 'remember,', 'the', 'fifth', 'of', 'July.']\n",
      "There-can-only-one.\n"
     ]
    }
   ],
   "source": [
    "\n",
    "# 8. What are the values of the following expressions?\n",
    "# 'Remember, remember, the fifth of July.'.split()\n",
    "# '-'.join('There can only one.'.split())\n",
    "\n",
    "print('Remember, remember, the fifth of July.'.split())\n",
    "print('-'.join('There can only one.'.split()))\n",
    "\n",
    "\n"
   ]
  },
  {
   "cell_type": "code",
   "execution_count": 14,
   "metadata": {},
   "outputs": [
    {
     "name": "stdout",
     "output_type": "stream",
     "text": [
      "example---------------------------------\n",
      "---------------------------------example\n",
      "----------------example-----------------\n"
     ]
    }
   ],
   "source": [
    "# 9. What are the methods for right-justifying, left-justifying, and centering a string?\n",
    "text = 'example'\n",
    "print(text.ljust(40,\"-\"))\n",
    "\n",
    "print(text.rjust(40,\"-\"))\n",
    "\n",
    "print(text.center(40,\"-\"))"
   ]
  },
  {
   "cell_type": "code",
   "execution_count": 15,
   "metadata": {},
   "outputs": [
    {
     "data": {
      "text/plain": [
       "'k dsfsadf sadf     sdfklsadf'"
      ]
     },
     "execution_count": 15,
     "metadata": {},
     "output_type": "execute_result"
    }
   ],
   "source": [
    "\n",
    "# 10. What is the best way to remove whitespace characters from the start or end?\n",
    "\n",
    "example = ' k dsfsadf sadf     sdfklsadf   '\n",
    "example.strip()"
   ]
  },
  {
   "cell_type": "code",
   "execution_count": null,
   "metadata": {},
   "outputs": [],
   "source": []
  }
 ],
 "metadata": {
  "kernelspec": {
   "display_name": "Python 3",
   "language": "python",
   "name": "python3"
  },
  "language_info": {
   "codemirror_mode": {
    "name": "ipython",
    "version": 3
   },
   "file_extension": ".py",
   "mimetype": "text/x-python",
   "name": "python",
   "nbconvert_exporter": "python",
   "pygments_lexer": "ipython3",
   "version": "3.11.3"
  }
 },
 "nbformat": 4,
 "nbformat_minor": 4
}
