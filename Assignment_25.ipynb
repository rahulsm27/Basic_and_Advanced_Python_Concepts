{
 "cells": [
  {
   "cell_type": "code",
   "execution_count": 2,
   "metadata": {},
   "outputs": [],
   "source": [
    "# 1) . What is the difference between enclosing a list comprehension in square brackets and parentheses?\n",
    "#List Comprehension with square brackets produces list.\n",
    "#List Comprehension with parentheses creates generators\n",
    "\n",
    "# 2) What is the relationship between generators and iterators?\n",
    "\n",
    "# An iterator is an object which contains a countable number of values and it is used to iterate over iterable objects like list, tuples etc\n",
    "#iter() keyword is used to create an iterator containing an iterable object.\n",
    "#next() keyword is used to call the next element in the iterable object.\n",
    "iter_list = iter(['Geeks', 'For', 'Geeks'])\n",
    "print(next(iter_list))\n",
    "print(next(iter_list))\n",
    "\n",
    "# Generator\n",
    "# It is another way of creating iterators in a simple way where it uses the keyword “yield” instead of returning it in a defined function Generators are implemented using a function\n",
    "\n",
    "# 3) What are the signs that a function is a generator function?\n",
    "# If a function contains at least one yield statement (it may contain other yield or return statements), it becomes a generator function. \n",
    "\n",
    "\n",
    "\n",
    "# 4) What is the purpose of a yield statement?\n",
    "# A yield statement looks much like a return statement, except that instead of stopping execution of the function and\n",
    "# returning, yield instead provides a value to the code looping over the generator and pauses execution of the generator function\n",
    "\n",
    "\n",
    "\n",
    "\n",
    "# 5) What is the relationship between map calls and list comprehensions? Make a comparison and contrast between the two.\n",
    "#map() function returns a map object(which is an iterator) of the results after applying the given function to each item of a given iterable (list, tuple etc.)\n",
    "# Map - The returned value from map() (map object) then can be passed to functions like list() (to create a list), set() (to create a set)\n",
    "\n",
    "#The return value of a list comprehension is a new list containing the modified elements that satisfy the given criteria.\n",
    "\n",
    "# Python List comprehension provides a much more short syntax for creating a new list based on the values of an existing list."
   ]
  },
  {
   "cell_type": "code",
   "execution_count": null,
   "metadata": {},
   "outputs": [],
   "source": []
  },
  {
   "cell_type": "code",
   "execution_count": null,
   "metadata": {},
   "outputs": [],
   "source": []
  },
  {
   "cell_type": "code",
   "execution_count": null,
   "metadata": {},
   "outputs": [],
   "source": []
  },
  {
   "cell_type": "code",
   "execution_count": null,
   "metadata": {},
   "outputs": [],
   "source": []
  },
  {
   "cell_type": "code",
   "execution_count": null,
   "metadata": {},
   "outputs": [],
   "source": []
  },
  {
   "cell_type": "code",
   "execution_count": null,
   "metadata": {},
   "outputs": [],
   "source": []
  },
  {
   "cell_type": "code",
   "execution_count": null,
   "metadata": {},
   "outputs": [],
   "source": []
  },
  {
   "cell_type": "code",
   "execution_count": null,
   "metadata": {},
   "outputs": [],
   "source": []
  }
 ],
 "metadata": {
  "kernelspec": {
   "display_name": "Python 3",
   "language": "python",
   "name": "python3"
  },
  "language_info": {
   "codemirror_mode": {
    "name": "ipython",
    "version": 3
   },
   "file_extension": ".py",
   "mimetype": "text/x-python",
   "name": "python",
   "nbconvert_exporter": "python",
   "pygments_lexer": "ipython3",
   "version": "3.11.3"
  },
  "orig_nbformat": 4
 },
 "nbformat": 4,
 "nbformat_minor": 2
}
