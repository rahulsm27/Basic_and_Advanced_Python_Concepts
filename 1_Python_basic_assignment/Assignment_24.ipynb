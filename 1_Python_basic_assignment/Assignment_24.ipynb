{
 "cells": [
  {
   "cell_type": "code",
   "execution_count": 3,
   "metadata": {},
   "outputs": [],
   "source": [
    "# 1. What is the relationship between def statements and lambda expressions ?\n",
    "# def is a keyword used to define a function\n",
    "# lambda is used to define anonymous func in one line\n",
    "\n",
    "\n",
    "\n",
    "# 2. What is the benefit of lambda?\n",
    "# Inline function and execute faster\n",
    "\n",
    "\n",
    "\n",
    "# 3. Compare and contrast map, filter, and reduce.\n",
    "# The map() function iterates through all items in the given iterable and executes the function we passed as an argument on each of them. Syntax : map(function, iterable(s))\n",
    "\n",
    "# filter accumulates only elements matching a condition.\n",
    "# filter() forms a new list that contains only elements that satisfy a certain condition, i.e. the function we passed returns True Syntax : filter(function, iterable(s))\n",
    "\n",
    "# reduce accumulates all elements to a single value, by using immutable values\n",
    "# reduce() works by calling the function we passed for the first two items in the sequence. The result returned by the function is used in another call to function alongside with the next (third in this case), element Syntax : reduce(function, sequence[, initial])\n",
    "\n",
    "\n",
    "\n",
    "\n",
    "# 4. What are function annotations, and how are they used?\n",
    "# Function annotation is the standard way to access the metadata with the arguments and the return value of the function.\n",
    "# These are nothing but some random and optional Python expressions that get allied to different parts of the function. They get evaluated only during the compile-time and have no significance during the run-time of the code. They do not have any significance or meaning associated with them until accessed by some third-party libraries. They are used to type check the functions by declaring the type of the parameters and the return value for the functions. The string-based annotations help us to improve the help messages.\n",
    "# #Python supports dynamic typing and hence no module is provided for type checking. Annotations like\n",
    "# [def foo(a:”int”, b:”float”=5.0)  -> ”int”]\n",
    "# (syntax described in detail in the next section) can be used to collect information about the type of the parameters and the return type of the function to keep track of the type change occurring in the function. ‘mypy’ is one such library.\n",
    "\n",
    "# String based annotations can be used by the libraries to provide better help messages at compile time regarding the functionalities of various methods, classes and modules.\n",
    "\n",
    "\n",
    "# 5. What are recursive functions, and how are they used?\n",
    "# # A recursive function is a function that calls itself during its execution.\n",
    "# This means that the function will continue to call itself and repeat its behavior until some condition is met to return a result\n",
    "\n",
    "\n",
    "\n",
    "# 6. What are some general design guidelines for coding functions?\n",
    "# Use 4-space indentation and no tabs.\n",
    "# Use docstrings\n",
    "# Wrap linethat they don’t exceed 79 characters\n",
    "# Use of regular and updated comments are valuable to both the coders and users\n",
    "# Use of trailing commas : in case of tuple -> ('good',)\n",
    "# Use Python’s default UTF-8 or ASCII encodings and not any fancy encodings\n",
    "# Naming Conventions\n",
    "# Characters that should not be used for identifiers : ‘l’ (lowercase letter el), ‘O’ (uppercase letter oh), ‘I’ (uppercase letter eye) as single character variable names as these are similar to the numerals one and zero. \n",
    "#Don’t use non-ASCII characters in identifiers \n",
    "# Name your classes and functions consistently \n",
    "# While naming of function of methods always use self for the first argument\n",
    "\n",
    "\n",
    "\n",
    "# 7. Name three or more ways that functions can communicate results to a caller.\n",
    "# Return single/multiple values\n",
    "# Return function\n",
    "# Return calss object"
   ]
  },
  {
   "cell_type": "code",
   "execution_count": null,
   "metadata": {},
   "outputs": [],
   "source": []
  },
  {
   "cell_type": "code",
   "execution_count": null,
   "metadata": {},
   "outputs": [],
   "source": []
  },
  {
   "cell_type": "code",
   "execution_count": null,
   "metadata": {},
   "outputs": [],
   "source": []
  },
  {
   "cell_type": "code",
   "execution_count": null,
   "metadata": {},
   "outputs": [],
   "source": []
  },
  {
   "cell_type": "code",
   "execution_count": null,
   "metadata": {},
   "outputs": [],
   "source": []
  },
  {
   "cell_type": "code",
   "execution_count": null,
   "metadata": {},
   "outputs": [],
   "source": []
  },
  {
   "cell_type": "code",
   "execution_count": null,
   "metadata": {},
   "outputs": [],
   "source": []
  },
  {
   "cell_type": "code",
   "execution_count": null,
   "metadata": {},
   "outputs": [],
   "source": []
  }
 ],
 "metadata": {
  "kernelspec": {
   "display_name": "Python 3",
   "language": "python",
   "name": "python3"
  },
  "language_info": {
   "codemirror_mode": {
    "name": "ipython",
    "version": 3
   },
   "file_extension": ".py",
   "mimetype": "text/x-python",
   "name": "python",
   "nbconvert_exporter": "python",
   "pygments_lexer": "ipython3",
   "version": "3.11.3"
  },
  "orig_nbformat": 4
 },
 "nbformat": 4,
 "nbformat_minor": 2
}
