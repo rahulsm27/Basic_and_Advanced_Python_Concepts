{
 "cells": [
  {
   "cell_type": "code",
   "execution_count": 5,
   "metadata": {},
   "outputs": [
    {
     "name": "stdout",
     "output_type": "stream",
     "text": [
      "<class 'dict'>\n",
      "<class 'dict'>\n"
     ]
    }
   ],
   "source": [
    "# 1. What does an empty dictionary's code look like?\n",
    "ex1 = {}\n",
    "ex2 = dict()\n",
    "print(type(ex1))\n",
    "print(type(ex2))"
   ]
  },
  {
   "cell_type": "code",
   "execution_count": null,
   "metadata": {},
   "outputs": [],
   "source": [
    "# 2. What is the value of a dictionary value with the key 'foo' and the value 42?\n",
    "d = {'foo':'42'}\n",
    "#value is 42\n",
    "\n",
    "# 3. What is the most significant distinction between a dictionary and a list?\n",
    "# List are ordered . No keys . Index and value\n",
    "# Dictionary are not ordered and conatin key value pair. No index.\n",
    "\n"
   ]
  },
  {
   "cell_type": "code",
   "execution_count": null,
   "metadata": {},
   "outputs": [],
   "source": [
    "# 4. What happens if you try to access spam['foo'] if spam is {'bar': 100}?\n",
    "# Key error\n",
    "\n",
    "# 5. If a dictionary is stored in spam, what is the difference between the expressions 'cat' in spam and 'cat' in spam.keys()?\n",
    "# No difference both will check in keys\n",
    "\n",
    "\n"
   ]
  },
  {
   "cell_type": "code",
   "execution_count": null,
   "metadata": {},
   "outputs": [],
   "source": [
    "# 6. If a dictionary is stored in spam, what is the difference between the expressions 'cat' in spam and 'cat' in spam.values()?\n",
    "# 'cat' in spam will check iterate over all keys and check if cat is present o not\n",
    "# 'cat' in spam.values() will iterate over all the values and check if cat is present or not\n",
    "\n",
    "\n",
    "# 7. What is a shortcut for the following code?\n",
    "# if 'color' not in spam:\n",
    "# spam['color'] = 'black'\n",
    "\n",
    "# If the key exist, this parameter has no effect.\n",
    "# If the key does not exist, this value becomes the key's value\n",
    "# Default value None\n",
    "spam.setdefault('color','black')\n",
    "\n"
   ]
  },
  {
   "cell_type": "code",
   "execution_count": 8,
   "metadata": {},
   "outputs": [
    {
     "name": "stdout",
     "output_type": "stream",
     "text": [
      "[{'Age': '23', 'Name': 'Rahul'},\n",
      " {'Age': '32', 'Name': 'XYZ'},\n",
      " {'Age': '23', 'Name': 'Rahul'},\n",
      " {'Age': '32', 'Name': 'XYZ'},\n",
      " {'Age': '23', 'Name': 'Rahul'},\n",
      " {'Age': '32', 'Name': 'XYZ'},\n",
      " {'Age': '23', 'Name': 'Rahul'},\n",
      " {'Age': '32', 'Name': 'XYZ'}]\n",
      "[{'Name': 'Rahul', 'Age': '23'}, {'Name': 'XYZ', 'Age': '32'}, {'Name': 'Rahul', 'Age': '23'}, {'Name': 'XYZ', 'Age': '32'}, {'Name': 'Rahul', 'Age': '23'}, {'Name': 'XYZ', 'Age': '32'}, {'Name': 'Rahul', 'Age': '23'}, {'Name': 'XYZ', 'Age': '32'}]\n"
     ]
    }
   ],
   "source": [
    "# 8. How do you \"pretty print\" dictionary values using which module and function?\n",
    "\n",
    "import pprint\n",
    "dct = [{'Name': 'Rahul', 'Age':'23'},{'Name': 'XYZ', 'Age':'32'},{'Name': 'Rahul', 'Age':'23'},{'Name': 'XYZ', 'Age':'32'},{'Name': 'Rahul', 'Age':'23'},{'Name': 'XYZ', 'Age':'32'},{'Name': 'Rahul', 'Age':'23'},{'Name': 'XYZ', 'Age':'32'}]\n",
    "pprint.pprint(dct)\n",
    "print(dct)"
   ]
  },
  {
   "cell_type": "code",
   "execution_count": null,
   "metadata": {},
   "outputs": [],
   "source": []
  }
 ],
 "metadata": {
  "kernelspec": {
   "display_name": "Python 3",
   "language": "python",
   "name": "python3"
  },
  "language_info": {
   "codemirror_mode": {
    "name": "ipython",
    "version": 3
   },
   "file_extension": ".py",
   "mimetype": "text/x-python",
   "name": "python",
   "nbconvert_exporter": "python",
   "pygments_lexer": "ipython3",
   "version": "3.11.3"
  }
 },
 "nbformat": 4,
 "nbformat_minor": 4
}
