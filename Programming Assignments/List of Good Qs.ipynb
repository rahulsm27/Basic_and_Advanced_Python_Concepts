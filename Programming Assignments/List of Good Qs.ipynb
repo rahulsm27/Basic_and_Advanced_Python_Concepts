{
 "cells": [
  {
   "cell_type": "code",
   "execution_count": null,
   "metadata": {},
   "outputs": [],
   "source": [
    "# Programming asssignment 2\n",
    "# Task 3\n",
    "\n",
    "import calendar\n",
    "\n",
    "year= int(input(\"Give year : \"))\n",
    "month = int (input(\"Give month : \"))\n",
    "\n",
    "print(calendar.month(year,month))"
   ]
  },
  {
   "cell_type": "code",
   "execution_count": null,
   "metadata": {},
   "outputs": [],
   "source": [
    "# Task 4\n",
    "#ax2 + bx + c = 0\n",
    "\n",
    "a = int(input(\"Enter a : \"))\n",
    "b = int(input(\"Enter b : \"))\n",
    "c = int(input(\"Enter c : \"))\n",
    "\n",
    "# calculate the discriminant\n",
    "d = (b**2) - (4*a*c)\n",
    "\n",
    "sol1 = (-b+d**.5)/(2*a)\n",
    "sol2 = (-b+d**.5)/(2*a)\n",
    "\n",
    "print(f\"Solution to the equations are {sol1} and {sol2}\")"
   ]
  },
  {
   "cell_type": "code",
   "execution_count": null,
   "metadata": {},
   "outputs": [],
   "source": [
    "# Programming asssignment 3\n",
    "# Task 3:\n",
    "\n",
    "year = int(input (\"enter year: \"))\n",
    "\n",
    "def isleap(year):\n",
    "    if year % 4 == 0:\n",
    "        if year % 100 == 0:\n",
    "            if year % 400 == 0:\n",
    "                return True\n",
    "            else:\n",
    "                return False\n",
    "        else:\n",
    "            return True\n",
    "    else :\n",
    "        return False\n",
    "\n",
    "if isleap(year):\n",
    "    print (\"It is a leap year !\")\n",
    "else :\n",
    "    print (\"It is not a leap year\")"
   ]
  },
  {
   "cell_type": "code",
   "execution_count": null,
   "metadata": {},
   "outputs": [],
   "source": [
    "# 4.\tWrite a Python Program to Check Prime Number?\n",
    "# 5.\tWrite a Python Program to find prime numbers upto n?\n",
    "\n",
    "# Covered in Geeks for Geeks"
   ]
  },
  {
   "cell_type": "code",
   "execution_count": null,
   "metadata": {},
   "outputs": [],
   "source": [
    "# Programming Assignment 4"
   ]
  },
  {
   "cell_type": "code",
   "execution_count": null,
   "metadata": {},
   "outputs": [],
   "source": [
    "# 3\n",
    "\n",
    "def fib(n):\n",
    "    if n == 0 or n == 1:\n",
    "        return n\n",
    "    else:\n",
    "        return fib(n-1) + fib(n-2)\n",
    "\n",
    "a = int(input(\"Enter number : \"))\n",
    "ans = fib(a)\n",
    "print (f\"Fibonacci series of  {a} is {ans} \")"
   ]
  },
  {
   "cell_type": "code",
   "execution_count": null,
   "metadata": {},
   "outputs": [],
   "source": [
    "# Programming assignment 5\n",
    "# Convert to binary, hexa, octa\n",
    "# Task 3:\n",
    "\n",
    "d ={0:0,1:1,2:2,3:3,4:4,5:5,6:6,7:7,8:8,9:9,10:'A',11:'B',12:'C',13:'D',14:'E',15:'F'}\n",
    "#Binary\n",
    "\n",
    "a = int(input (\"Enter number : \"))\n",
    "ans = ''\n",
    "\n",
    "def convert(a,base):\n",
    "    ans =''\n",
    "    if a<base:\n",
    "        ans = str(a)\n",
    "    else :\n",
    "        while (a//base != 0):\n",
    "            ans = ans + str(d[a%base])\n",
    "            a = a//base\n",
    "        else:\n",
    "            \n",
    "            ans = ans + str(a)\n",
    "    return ans[::-1]\n",
    "    \n",
    "binary = convert(a,2)\n",
    "octa = convert(a,8)\n",
    "hexa = convert(a,16)\n",
    "\n",
    "\n",
    "print(f\"The number {a} in binary is {binary}, in octa is {octa} and hexa is {hexa}\")"
   ]
  },
  {
   "cell_type": "code",
   "execution_count": null,
   "metadata": {},
   "outputs": [],
   "source": [
    "# Task 5\n",
    "# 5.\tWrite a Python Program to Remove Punctuation From a String?\n",
    "input_string = \"Hi this is!a ! a test for , removing punctuation\"\n",
    "re.sub('[!@#$%;^,&*()]','' ,input_string)"
   ]
  },
  {
   "cell_type": "code",
   "execution_count": null,
   "metadata": {},
   "outputs": [],
   "source": []
  },
  {
   "cell_type": "code",
   "execution_count": null,
   "metadata": {},
   "outputs": [],
   "source": []
  },
  {
   "cell_type": "code",
   "execution_count": null,
   "metadata": {},
   "outputs": [],
   "source": []
  },
  {
   "cell_type": "code",
   "execution_count": null,
   "metadata": {},
   "outputs": [],
   "source": []
  },
  {
   "cell_type": "code",
   "execution_count": null,
   "metadata": {},
   "outputs": [],
   "source": [
    "# PROG assignment 12"
   ]
  },
  {
   "cell_type": "code",
   "execution_count": 1,
   "metadata": {},
   "outputs": [
    {
     "data": {
      "text/plain": [
       "[1, 2, 3, 4, 5, 6, 7, 8, 10, 12]"
      ]
     },
     "execution_count": 1,
     "metadata": {},
     "output_type": "execute_result"
    }
   ],
   "source": [
    "# 1.\tWrite a Python program to Extract Unique values dictionary values?\n",
    "d1 = {'A' : [1, 3, 5, 4],'B' : [4, 6, 8, 10],'C' : [6, 12, 4 ,8],'D' : [5, 7, 2]}\n",
    "\n",
    "list(set(elements for values in d1.values() for elements in values ))\n",
    "\n"
   ]
  },
  {
   "cell_type": "code",
   "execution_count": null,
   "metadata": {},
   "outputs": [],
   "source": [
    "# 2.\t Write a Python program to find the sum of all items in a dictionary?\n",
    "#2\n",
    "d2 = {\"A\" : 200, \"B\" : 400, \"C\" : 1000}\n",
    "\n",
    "sum([values for values in d2.values()])\n"
   ]
  },
  {
   "cell_type": "code",
   "execution_count": null,
   "metadata": {},
   "outputs": [],
   "source": [
    "# 3.\tWrite a Python program to Merging two Dictionaries?\n",
    "\n",
    "dict_1 = {1: 'a', 2: 'b'}\n",
    "dict_2 = {2: 'c', 4: 'd'}\n",
    "\n",
    "ans = {**dict_1,**dict_2}\n",
    "print(ans)"
   ]
  },
  {
   "cell_type": "code",
   "execution_count": null,
   "metadata": {},
   "outputs": [],
   "source": [
    "# 4.\tWrite a Python program to convert key-values list to flat dictionary?\n",
    "\n",
    "#4\n",
    "d1 = {'month' :['Jan','Feb','March'], 'index' :[1,2,3]}\n",
    "\n",
    "s = dict(zip(d1['month'],d1['index']))"
   ]
  },
  {
   "cell_type": "code",
   "execution_count": null,
   "metadata": {},
   "outputs": [],
   "source": [
    "# 7.\tWrite a Python program to sort Python Dictionaries by Key or Value?\n",
    "\n",
    "\n",
    "#7\n",
    " #using values\n",
    "    \n",
    "    \n",
    "d1 ={\"A\":20,\"B\":10,\"C\":30,\"D\":5,\"F\":70,}\n",
    "key = [x for x in d1.values()]\n",
    "dict (sorted(d1.items(), key = lambda x : x[1]))\n",
    "\n",
    "#using keys\n",
    "\n",
    "d2 ={\"AB\":20,\"DBA\":10,\"AC\":30,\"ED\":5,\"AF\":70,}\n",
    "key = [x for x in d1.values()]\n",
    "dict (sorted(d2.items(), key = lambda x : x[0]))"
   ]
  }
 ],
 "metadata": {
  "kernelspec": {
   "display_name": "Python 3",
   "language": "python",
   "name": "python3"
  },
  "language_info": {
   "codemirror_mode": {
    "name": "ipython",
    "version": 3
   },
   "file_extension": ".py",
   "mimetype": "text/x-python",
   "name": "python",
   "nbconvert_exporter": "python",
   "pygments_lexer": "ipython3",
   "version": "3.7.6"
  }
 },
 "nbformat": 4,
 "nbformat_minor": 4
}
