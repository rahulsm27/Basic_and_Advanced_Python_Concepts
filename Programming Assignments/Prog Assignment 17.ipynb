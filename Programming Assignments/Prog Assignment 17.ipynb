{
 "cells": [
  {
   "cell_type": "code",
   "execution_count": 1,
   "metadata": {},
   "outputs": [
    {
     "name": "stdout",
     "output_type": "stream",
     "text": [
      "18\n"
     ]
    }
   ],
   "source": [
    "# Question1. \n",
    "# Create a function that takes three arguments a, b, c and returns the sum of the\n",
    "# numbers that are evenly divided by c from the range a, b inclusive.\n",
    "# Examples\n",
    "# evenly_divisible(1, 10, 20) ➞ 0\n",
    "# # No number between 1 and 10 can be evenly divided by 20.\n",
    "# evenly_divisible(1, 10, 2) ➞ 30\n",
    "# # 2 + 4 + 6 + 8 + 10 = 30\n",
    "# evenly_divisible(1, 10, 3) ➞ 18\n",
    "# # 3 + 6 + 9 = 18\n",
    "\n",
    "def sumDiv(a, b, c):     \n",
    "    sum = 0\n",
    "    for i in range(a, b + 1): \n",
    "        if (i % c == 0):\n",
    "            sum += i \n",
    "    return sum\n",
    "a = int(input('Enter a : '))\n",
    "b = int(input('Enter b : '))\n",
    "c = int(input('Enter c : '))\n",
    "print(sumDiv(a, b, c))"
   ]
  },
  {
   "cell_type": "code",
   "execution_count": 5,
   "metadata": {},
   "outputs": [
    {
     "data": {
      "text/plain": [
       "False"
      ]
     },
     "execution_count": 5,
     "metadata": {},
     "output_type": "execute_result"
    }
   ],
   "source": [
    "#Question 2\n",
    "# Create a function that returns True if a given inequality expression is correct and\n",
    "# False otherwise.\n",
    "# Examples\n",
    "# correct_signs(\"3 > 7 < 11\") ➞ True\n",
    "# correct_signs(\"13 > 44 > 33 > 1\") ➞ False\n",
    "# correct_signs(\"1 < 2 < 6 < 9 > 3\") ➞ True\n",
    "\n",
    "def check(text):\n",
    "    return eval(text)\n",
    "\n",
    "text = \"3 > 7 < 11\"\n",
    "check(text)\n"
   ]
  },
  {
   "cell_type": "code",
   "execution_count": 7,
   "metadata": {},
   "outputs": [
    {
     "name": "stdout",
     "output_type": "stream",
     "text": [
      "Afer replacing vowels with the specified character: sdfds@ sd@f sd fs s@d\n"
     ]
    }
   ],
   "source": [
    "# Question3.\n",
    "# Create a function that replaces all the vowels in a string with a specified character.\n",
    "# Examples\n",
    "# replace_vowels('the aardvark, '#') ➞ 'th# ##rdv#rk'\n",
    "# replace_vowels('minnie mouse', '?') ➞ 'm?nn?? m??s?'\n",
    "# replace_vowels('shakespeare', '*') ➞ 'sh*k*sp**r*'\n",
    "\n",
    "def replace_vowels(str, s):\n",
    "    vowels = 'AEIOUaeiou'\n",
    "    for ele in vowels:  \n",
    "        str = str.replace(ele, s)  \n",
    "    return str\n",
    "  \n",
    "input_str = input(\"enter a string : \")\n",
    "s = input(\"enter a vowel replacing string : \")\n",
    "print(\"Afer replacing vowels with the specified character:\",replace_vowels(input_str, s))\n"
   ]
  },
  {
   "cell_type": "code",
   "execution_count": 10,
   "metadata": {},
   "outputs": [
    {
     "data": {
      "text/plain": [
       "120"
      ]
     },
     "execution_count": 10,
     "metadata": {},
     "output_type": "execute_result"
    }
   ],
   "source": [
    "# Question4.\n",
    "# Write a function that calculates the factorial of a number recursively.\n",
    "# Examples\n",
    "# factorial(5) ➞ 120\n",
    "# factorial(3) ➞ 6\n",
    "# factorial(1) ➞ 1\n",
    "# factorial(0) ➞ 1\n",
    "\n",
    "def factorial(n):     \n",
    "    if n == 0:\n",
    "        return 1    \n",
    "    return n * factorial(n-1)\n",
    "\n",
    "factorial(5)"
   ]
  },
  {
   "cell_type": "code",
   "execution_count": 15,
   "metadata": {},
   "outputs": [
    {
     "name": "stdout",
     "output_type": "stream",
     "text": [
      "6\n"
     ]
    }
   ],
   "source": [
    "# Question 5\n",
    "# Hamming distance is the number of characters that differ between two strings.\n",
    "# To illustrate:\n",
    "# String1: 'abcbba'\n",
    "# String2: 'abcbda'\n",
    "# Hamming Distance: 1 - 'b' vs. 'd' is the only difference.\n",
    "# Create a function that computes the hamming distance between two strings.\n",
    "# Examples\n",
    "# hamming_distance('abcde', 'bcdef') ➞ 5\n",
    "# hamming_distance('abcde', 'abcde') ➞ 0\n",
    "\n",
    "def hamming_distance(str1, str2):\n",
    "    i = 0\n",
    "    count = 0\n",
    "\n",
    "    if len(str1)<len(str2):\n",
    " \n",
    "        while(i < len(str1)):\n",
    "            if(str1[i] != str2[i]):\n",
    "                count += 1\n",
    "            i += 1\n",
    "        return count + len(str2) - len(str1)\n",
    "\n",
    "    elif len(str1)>len(str2):\n",
    " \n",
    "        while(i < len(str2)):\n",
    "            if(str1[i] != str2[i]):\n",
    "                count += 1\n",
    "            i += 1\n",
    "        return count + len(str1) - len(str2)\n",
    "    \n",
    "    else:\n",
    "        while(i < len(str2)):\n",
    "            if(str1[i] != str2[i]):\n",
    "                count += 1\n",
    "            i += 1\n",
    "        return count \n",
    "    \n",
    "\n",
    "    \n",
    "# Driver code \n",
    "str1 = \"abcde\"\n",
    "str2 = \"bcdefa\"\n",
    " \n",
    "# function call\n",
    "print(hamming_distance(str1, str2))\n"
   ]
  },
  {
   "cell_type": "code",
   "execution_count": null,
   "metadata": {},
   "outputs": [],
   "source": []
  }
 ],
 "metadata": {
  "kernelspec": {
   "display_name": "Python 3",
   "language": "python",
   "name": "python3"
  },
  "language_info": {
   "codemirror_mode": {
    "name": "ipython",
    "version": 3
   },
   "file_extension": ".py",
   "mimetype": "text/x-python",
   "name": "python",
   "nbconvert_exporter": "python",
   "pygments_lexer": "ipython3",
   "version": "3.11.3"
  },
  "orig_nbformat": 4
 },
 "nbformat": 4,
 "nbformat_minor": 2
}
