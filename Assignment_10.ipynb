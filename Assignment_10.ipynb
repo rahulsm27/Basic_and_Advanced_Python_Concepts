{
 "cells": [
  {
   "cell_type": "code",
   "execution_count": null,
   "metadata": {},
   "outputs": [],
   "source": [
    "# 1. How do you distinguish between shutil.copy() and shutil.copytree()?\n",
    "# import shutil\n",
    "# shutil.copy(srcfile,destfile)\n",
    "# shutil.copytree(src=,dst=)\n",
    "\n",
    "# shutil. copy() will copy a single file\n",
    "# shutil.copytree() will copy an entire folder and every folder and file contained in it.\n",
    "\n",
    "# 2. What function is used to rename files??\n",
    "#os.rename function is used\n",
    "\n",
    "\n",
    "# 3. What is the difference between the delete functions in the send2trash and shutil modules?\n",
    "# Send2trash will move a file or folder to recycle bin\n",
    "# Shutil function will permanently delte files and folders\n",
    "\n",
    "\n",
    "# 4.ZipFile objects have a close() method just like File objects’ close() method. What ZipFile method is equivalent to File objects’ open() method?\n",
    "\n",
    "# zipfile.ZipFile is equivalent to open method\n",
    "with zipfile.ZIpFIle('text.zip','r') as zip_file:\n",
    "    pass\n",
    "\n",
    "\n"
   ]
  },
  {
   "cell_type": "code",
   "execution_count": 39,
   "metadata": {},
   "outputs": [],
   "source": [
    "# 5. Create a programme that searches a folder tree for files with a certain file extension (such as .pdf or .jpg). Copy these files from whatever location they are in to a new folder.\n",
    "import os\n",
    "import shutil\n",
    "from pathlib import Path\n",
    "\n",
    "copy_file_path = []\n",
    "\n",
    "path_src = '/Users/rahulmahajan/Desktop/Projects/DS/7 Machine Learning Codes/2. Clustering/'\n",
    "for (dir_path,dir_names,file_names) in os.walk(top = path_src):\n",
    "    for files in file_names:\n",
    "        (_,ext) = os.path.splitext(files)\n",
    "        if ext == '.pdf':\n",
    "            path = Path(os.path.join(dir_path,files))\n",
    "            copy_file_path.append(path)\n",
    "\n",
    "src_path = '/Users/rahulmahajan/Desktop/Projects/DS/7 Machine Learning Codes/2. Clustering/TEST/'\n",
    "\n",
    "for files in copy_file_path:\n",
    "    shutil.copy(files,src_path)\n",
    "\n"
   ]
  },
  {
   "cell_type": "code",
   "execution_count": null,
   "metadata": {},
   "outputs": [],
   "source": []
  }
 ],
 "metadata": {
  "kernelspec": {
   "display_name": "Python 3",
   "language": "python",
   "name": "python3"
  },
  "language_info": {
   "codemirror_mode": {
    "name": "ipython",
    "version": 3
   },
   "file_extension": ".py",
   "mimetype": "text/x-python",
   "name": "python",
   "nbconvert_exporter": "python",
   "pygments_lexer": "ipython3",
   "version": "3.11.3"
  }
 },
 "nbformat": 4,
 "nbformat_minor": 4
}
