{
 "cells": [
  {
   "cell_type": "code",
   "execution_count": null,
   "metadata": {},
   "outputs": [],
   "source": [
    "# 1. Why are functions advantageous to have in your programs?\n",
    "\n",
    "# Eliminates the need for duplicate code. Helps to make programme simpler and easy to read\n",
    "\n",
    "# 2. When does the code in a function run: when it's specified or when it's called?\n",
    "# Function code runs when its called\n",
    "\n",
    "\n",
    "\n",
    "# 3. What statement creates a function?\n",
    "# def\n",
    "\n",
    "# 4. What is the difference between a function and a function call?\n",
    "# A function consists of the def statement and the code in its def clause.\n",
    "\n",
    "#A function call is what moves the program execution into the function, and the function call evaluates to the function's return value\n",
    "\n",
    "# 5. How many global scopes are there in a Python program? How many local scopes?\n",
    "# Only one global scope\n",
    "# Local scopes is created whenever a function/class is called\n",
    "\n",
    "\n",
    "# 6. What happens to variables in a local scope when the function call returns?\n",
    "# Varialbes in local scope are destrubed after function call\n",
    "\n",
    "\n",
    "# 7. What is the concept of a return value? Is it possible to have a return value in an expression?\n",
    "# Function call evaluates to return value\n",
    "# Yes it is possible to have a return value in an expression\n",
    "\n",
    "# 8. If a function does not have a return statement, what is the return value of a call to that function?\n",
    "# It will not return anyting\n",
    "\n",
    "# 9. How do you make a function variable refer to the global variable?\n",
    "# By using the global keyword\n",
    "\n",
    "\n",
    "# 10. What is the data type of None?\n",
    "#NoneType\n",
    "\n",
    "\n",
    "# 11. What does the sentence import areallyourpetsnamederic do?\n",
    "# That import statement imports a module named areallyourpetsnamederic\n",
    "\n",
    "# 12. If you had a bacon() feature in a spam module, what would you call it after importing spam?\n",
    "# import spam\n",
    "# spam.bacon()\n",
    "\n",
    "\n",
    "# 13. What can you do to save a programme from crashing if it encounters an error?\n",
    " # try except clause\n",
    "\n",
    "\n",
    "# 14. What is the purpose of the try clause? What is the purpose of the except clause?\n",
    "# try will attempt to execute the code written under the block\n",
    "# except will catch any error in the try block if any and handle it.\n",
    "\n"
   ]
  },
  {
   "cell_type": "code",
   "execution_count": null,
   "metadata": {},
   "outputs": [],
   "source": []
  }
 ],
 "metadata": {
  "kernelspec": {
   "display_name": "Python 3",
   "language": "python",
   "name": "python3"
  },
  "language_info": {
   "codemirror_mode": {
    "name": "ipython",
    "version": 3
   },
   "file_extension": ".py",
   "mimetype": "text/x-python",
   "name": "python",
   "nbconvert_exporter": "python",
   "pygments_lexer": "ipython3",
   "version": "3.8.0"
  }
 },
 "nbformat": 4,
 "nbformat_minor": 4
}
