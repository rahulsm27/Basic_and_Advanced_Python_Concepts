{
 "cells": [
  {
   "cell_type": "code",
   "execution_count": 10,
   "metadata": {},
   "outputs": [
    {
     "ename": "AssertionError",
     "evalue": " Variable is negative",
     "output_type": "error",
     "traceback": [
      "\u001b[0;31m---------------------------------------------------------------------------\u001b[0m",
      "\u001b[0;31mAssertionError\u001b[0m                            Traceback (most recent call last)",
      "Cell \u001b[0;32mIn[10], line 3\u001b[0m\n\u001b[1;32m      1\u001b[0m \u001b[39m# 1. Create an assert statement that throws an AssertionError if the variable spam is a negative integer.\u001b[39;00m\n\u001b[1;32m      2\u001b[0m spam \u001b[39m=\u001b[39m \u001b[39m-\u001b[39m\u001b[39m2\u001b[39m\n\u001b[0;32m----> 3\u001b[0m \u001b[39massert\u001b[39;00m spam\u001b[39m>\u001b[39m\u001b[39m0\u001b[39m, \u001b[39m'\u001b[39m\u001b[39m Variable is negative\u001b[39m\u001b[39m'\u001b[39m\n",
      "\u001b[0;31mAssertionError\u001b[0m:  Variable is negative"
     ]
    }
   ],
   "source": [
    "# 1. Create an assert statement that throws an AssertionError if the variable spam is a negative integer.\n",
    "spam = -2\n",
    "assert spam>0, ' Variable is negative'\n"
   ]
  },
  {
   "cell_type": "code",
   "execution_count": 11,
   "metadata": {},
   "outputs": [
    {
     "ename": "AssertionError",
     "evalue": " String are same ",
     "output_type": "error",
     "traceback": [
      "\u001b[0;31m---------------------------------------------------------------------------\u001b[0m",
      "\u001b[0;31mAssertionError\u001b[0m                            Traceback (most recent call last)",
      "Cell \u001b[0;32mIn[11], line 4\u001b[0m\n\u001b[1;32m      2\u001b[0m eggs \u001b[39m=\u001b[39m \u001b[39m'\u001b[39m\u001b[39mHello\u001b[39m\u001b[39m'\u001b[39m\n\u001b[1;32m      3\u001b[0m bacon \u001b[39m=\u001b[39m \u001b[39m'\u001b[39m\u001b[39mhello\u001b[39m\u001b[39m'\u001b[39m\n\u001b[0;32m----> 4\u001b[0m \u001b[39massert\u001b[39;00m eggs\u001b[39m.\u001b[39mlower() \u001b[39m!=\u001b[39m bacon\u001b[39m.\u001b[39mlower(), \u001b[39m\"\u001b[39m\u001b[39m String are same \u001b[39m\u001b[39m\"\u001b[39m\n\u001b[1;32m      7\u001b[0m \u001b[39m# 3. Create an assert statement that throws an AssertionError every time.\u001b[39;00m\n\u001b[1;32m      8\u001b[0m \n\u001b[1;32m      9\u001b[0m \u001b[39m# 4. What are the two lines that must be present in your software in order to call logging.debug()?\u001b[39;00m\n\u001b[0;32m   (...)\u001b[0m\n\u001b[1;32m     22\u001b[0m \n\u001b[1;32m     23\u001b[0m \u001b[39m# 11. What is the concept of a breakpoint?\u001b[39;00m\n",
      "\u001b[0;31mAssertionError\u001b[0m:  String are same "
     ]
    }
   ],
   "source": [
    "\n",
    "# 2. Write an assert statement that triggers an AssertionError if the variables eggs and bacon contain strings that are the same as each other, even if their cases are different (that is, 'hello' and 'hello' are considered the same, and 'goodbye' and 'GOODbye' are also considered the same).\n",
    "eggs = 'Hello'\n",
    "bacon = 'hello'\n",
    "assert eggs.lower() != bacon.lower(), \" String are same \"\n"
   ]
  },
  {
   "cell_type": "code",
   "execution_count": 13,
   "metadata": {},
   "outputs": [
    {
     "ename": "AssertionError",
     "evalue": "gives error everytime",
     "output_type": "error",
     "traceback": [
      "\u001b[0;31m---------------------------------------------------------------------------\u001b[0m",
      "\u001b[0;31mAssertionError\u001b[0m                            Traceback (most recent call last)",
      "Cell \u001b[0;32mIn[13], line 3\u001b[0m\n\u001b[1;32m      1\u001b[0m \u001b[39m# 3. Create an assert statement that throws an AssertionError every time.\u001b[39;00m\n\u001b[0;32m----> 3\u001b[0m \u001b[39massert\u001b[39;00m \u001b[39mTrue\u001b[39;00m \u001b[39m==\u001b[39m \u001b[39mFalse\u001b[39;00m , \u001b[39m\"\u001b[39m\u001b[39mgives error everytime\u001b[39m\u001b[39m\"\u001b[39m\n",
      "\u001b[0;31mAssertionError\u001b[0m: gives error everytime"
     ]
    }
   ],
   "source": [
    "\n",
    "\n",
    "# 3. Create an assert statement that throws an AssertionError every time.\n",
    "\n",
    "assert True == False , \"gives error everytime\"\n",
    "\n"
   ]
  },
  {
   "cell_type": "code",
   "execution_count": 15,
   "metadata": {},
   "outputs": [],
   "source": [
    "# 4. What are the two lines that must be present in your software in order to call logging.debug()?\n",
    "import logging\n",
    "logging.basicConfig(level=logging.DEBUG)\n",
    "\n"
   ]
  },
  {
   "cell_type": "code",
   "execution_count": 16,
   "metadata": {},
   "outputs": [],
   "source": [
    "\n",
    "# 5. What are the two lines that your program must have in order to have logging.debug() send a logging message to a file named programLog.txt?\n",
    "\n",
    "import logging\n",
    "logging.basicConfig(filename=\"programLog.txt\",level=logging.DEBUG)\n"
   ]
  },
  {
   "cell_type": "code",
   "execution_count": 18,
   "metadata": {},
   "outputs": [],
   "source": [
    "\n",
    "# 6. What are the five levels of logging?\n",
    "# DEBUG, INFO, WARNING, ERROR and CRITICAL\n",
    "\n",
    "# 7. What line of code would you add to your software to disable all logging messages?\n",
    "import logging\n",
    "logging.disable(logging.CRITICAL)\n",
    "\n"
   ]
  },
  {
   "cell_type": "code",
   "execution_count": null,
   "metadata": {},
   "outputs": [],
   "source": [
    "\n",
    "# 8.Why is using logging messages better than using print() to display the same message?\n",
    "# Classificaiton of messages as per severity level\n",
    "# Timestemps available\n",
    "# Disable and enable functionality\n",
    "# Useful for programmers to check errors after user has executed the input\n",
    "\n",
    "\n",
    "\n",
    "\n",
    "# 9. What are the differences between the Step Over, Step In, and Step Out buttons in the debugger?\n",
    "\n",
    "# The Step in button will move the debugger into a function call.\n",
    "\n",
    "# The Over button will quickly execute the function call without stepping into it.\n",
    "\n",
    "# The Out button will quickly execute the rest of the code until it steps out of the function it currently is in.\n",
    "\n",
    "\n",
    "\n",
    "# 10.After you click Continue, when will the debugger stop ?\n",
    "\n",
    "# At next breakpoint if any . Otherwise the whole code gets executed\n",
    "\n",
    "\n",
    "\n",
    "\n",
    "# 11. What is the concept of a breakpoint?\n",
    "# A point till where programme will get executed and get paused in debug mode for further analysis by programmer"
   ]
  },
  {
   "cell_type": "code",
   "execution_count": null,
   "metadata": {},
   "outputs": [],
   "source": []
  },
  {
   "cell_type": "code",
   "execution_count": null,
   "metadata": {},
   "outputs": [],
   "source": []
  }
 ],
 "metadata": {
  "kernelspec": {
   "display_name": "Python 3",
   "language": "python",
   "name": "python3"
  },
  "language_info": {
   "codemirror_mode": {
    "name": "ipython",
    "version": 3
   },
   "file_extension": ".py",
   "mimetype": "text/x-python",
   "name": "python",
   "nbconvert_exporter": "python",
   "pygments_lexer": "ipython3",
   "version": "3.11.3"
  },
  "orig_nbformat": 4
 },
 "nbformat": 4,
 "nbformat_minor": 2
}
