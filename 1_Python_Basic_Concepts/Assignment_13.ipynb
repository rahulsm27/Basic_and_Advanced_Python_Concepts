{
 "cells": [
  {
   "cell_type": "code",
   "execution_count": 30,
   "metadata": {},
   "outputs": [
    {
     "data": {
      "text/plain": [
       "13"
      ]
     },
     "execution_count": 30,
     "metadata": {},
     "output_type": "execute_result"
    }
   ],
   "source": [
    "# 1. What advantages do Excel spreadsheets have over CSV spreadsheets?\n",
    "# Advantages of Excel spreadsheets\n",
    "# Allows to format and customized data\n",
    "# Provides functions for data validation\n",
    "# Supports multiple sheets and gives metadata for structuring data\n",
    "\n",
    "# 2.What do you pass to csv.reader() and csv.writer() to create reader and writer objects?\n",
    "# We pass file object in csv.reader() and csv.writter ()\n",
    "import csv\n",
    "file_csv = open('test.csv','w')\n",
    "filewriter = csv.writer(file_csv)\n",
    "\n",
    "# file_csv = open('test.csv','r')\n",
    "# filereader = csv.reader(file_csv)\n",
    "\n",
    "# 3. What modes do File objects for reader and writer objects need to be opened in?\n",
    "# r/rb mode for reader objects\n",
    "# w/wb mode for writter objecs\n",
    "\n",
    "# 4. What method takes a list argument and writes it to a CSV file?\n",
    "filewriter.writerow(['test1','test2'])\n",
    "\n",
    "# 5. What do the keyword arguments delimiter and line terminator do?\n",
    "#The delimiter is the character that appears between cells on a row. By default, the delimiter for a CSV file is a comma. The line terminator is the character that comes at the end of a row. By default, the line terminator is a newline. You can change characters to different values by using the delimiter and lineterminator keyword arguments with csv.writer()\n",
    "\n"
   ]
  },
  {
   "cell_type": "code",
   "execution_count": 31,
   "metadata": {},
   "outputs": [
    {
     "name": "stdout",
     "output_type": "stream",
     "text": [
      "{'age': '32', 'name': 'rahul'}\n"
     ]
    }
   ],
   "source": [
    "# 6. What function takes a string of JSON data and returns a Python data structure?\n",
    "import json\n",
    "x = json.loads('{\"age\": \"32\", \"name\": \"rahul\"}')\n",
    "print(x)\n"
   ]
  },
  {
   "cell_type": "code",
   "execution_count": 32,
   "metadata": {},
   "outputs": [
    {
     "data": {
      "text/plain": [
       "str"
      ]
     },
     "execution_count": 32,
     "metadata": {},
     "output_type": "execute_result"
    }
   ],
   "source": [
    "\n",
    "# 7. What function takes a Python data structure and returns a string of JSON data?\n",
    "data = {\n",
    "  \"age\": \"32\",\n",
    "  \"name\": \"rahul\"\n",
    "}\n",
    "y = json.dumps(data)\n",
    "type(y)"
   ]
  },
  {
   "cell_type": "code",
   "execution_count": null,
   "metadata": {},
   "outputs": [],
   "source": []
  }
 ],
 "metadata": {
  "kernelspec": {
   "display_name": "Python 3",
   "language": "python",
   "name": "python3"
  },
  "language_info": {
   "codemirror_mode": {
    "name": "ipython",
    "version": 3
   },
   "file_extension": ".py",
   "mimetype": "text/x-python",
   "name": "python",
   "nbconvert_exporter": "python",
   "pygments_lexer": "ipython3",
   "version": "3.11.3"
  },
  "orig_nbformat": 4
 },
 "nbformat": 4,
 "nbformat_minor": 2
}
