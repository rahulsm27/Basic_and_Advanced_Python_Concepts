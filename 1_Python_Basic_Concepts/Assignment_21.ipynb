{
 "cells": [
  {
   "cell_type": "code",
   "execution_count": 6,
   "metadata": {},
   "outputs": [],
   "source": [
    "# 1. Add the current date to the text file today.txt as a string.\n",
    "import datetime\n",
    "today = str(datetime.date.today())\n",
    "with open('today.txt','w') as file:\n",
    "    file.write(today)\n"
   ]
  },
  {
   "cell_type": "code",
   "execution_count": 9,
   "metadata": {},
   "outputs": [
    {
     "name": "stdout",
     "output_type": "stream",
     "text": [
      "2023-08-19\n"
     ]
    }
   ],
   "source": [
    "\n",
    "# 2. Read the text file today.txt into the string today_string\n",
    "with open('today.txt','r') as file:\n",
    "    today_string = file.read()\n",
    "print(today_string)\n",
    "\n"
   ]
  },
  {
   "cell_type": "code",
   "execution_count": 10,
   "metadata": {},
   "outputs": [
    {
     "data": {
      "text/plain": [
       "datetime.datetime(2023, 8, 19, 0, 0)"
      ]
     },
     "execution_count": 10,
     "metadata": {},
     "output_type": "execute_result"
    }
   ],
   "source": [
    "# 3. Parse the date from today_string.\n",
    "format= '%Y-%m-%d'\n",
    "datetime.datetime.strptime(today_string,format)\n",
    "\n",
    "\n"
   ]
  },
  {
   "cell_type": "code",
   "execution_count": 15,
   "metadata": {},
   "outputs": [
    {
     "data": {
      "text/plain": [
       "['.DS_Store', '1. Python Basics', 'Old Python', '2. Python Advanced']"
      ]
     },
     "execution_count": 15,
     "metadata": {},
     "output_type": "execute_result"
    }
   ],
   "source": [
    "# 4. List the files in your current directory\n",
    "\n",
    "import os\n",
    "os.listdir()\n",
    "\n"
   ]
  },
  {
   "cell_type": "code",
   "execution_count": null,
   "metadata": {},
   "outputs": [],
   "source": [
    "# 5. Create a list of all of the files in your parent directory (minimum five files should be available).\n",
    "os.listdir('..')\n"
   ]
  },
  {
   "cell_type": "code",
   "execution_count": 29,
   "metadata": {},
   "outputs": [
    {
     "name": "stderr",
     "output_type": "stream",
     "text": [
      "Traceback (most recent call last):\n",
      "  File \"<string>\", line 1, in <module>\n",
      "  File \"/Library/Frameworks/Python.framework/Versions/3.11/lib/python3.11/multiprocessing/spawn.py\", line 120, in spawn_main\n",
      "Traceback (most recent call last):\n",
      "  File \"<string>\", line 1, in <module>\n",
      "  File \"/Library/Frameworks/Python.framework/Versions/3.11/lib/python3.11/multiprocessing/spawn.py\", line 120, in spawn_main\n",
      "    exitcode = _main(fd, parent_sentinel)\n",
      "               ^^^^^^^^^^^^^^^^^    ^^exitcode = _main(fd, parent_sentinel)^^^^^^^\n",
      "\n",
      "  File \"/Library/Frameworks/Python.framework/Versions/3.11/lib/python3.11/multiprocessing/spawn.py\", line 130, in _main\n",
      "               ^^^^^^^^^^^^^^^Traceback (most recent call last):\n",
      "^^^^^^^^  File \"<string>\", line 1, in <module>\n",
      "^^^\n",
      "  File \"/Library/Frameworks/Python.framework/Versions/3.11/lib/python3.11/multiprocessing/spawn.py\", line 120, in spawn_main\n",
      "  File \"/Library/Frameworks/Python.framework/Versions/3.11/lib/python3.11/multiprocessing/spawn.py\", line 130, in _main\n",
      "    self = reduction.pickle.load(from_parent)\n",
      "               ^^^exitcode = _main(fd, parent_sentinel)^    ^\n",
      "^^^^^self = reduction.pickle.load(from_parent)^^\n",
      "^^^^^^^^^^^^^ ^ ^^                   ^^^^^^^^^^^^^^\n",
      "^^^^^^AttributeError^: ^Can't get attribute 'printsec' on <module '__main__' (built-in)>^\n",
      "^^^^^^^^^\n",
      "  File \"/Library/Frameworks/Python.framework/Versions/3.11/lib/python3.11/multiprocessing/spawn.py\", line 130, in _main\n",
      "     ^    self = reduction.pickle.load(from_parent)\n",
      "^^^^^   ^ ^^^^^^^^^^^^^^^^^^^^^^^^^^       ^^^^^^^^^^^^^^^^^^^^^^^^^\n",
      "AttributeError: Can't get attribute 'printsec' on <module '__main__' (built-in)>\n",
      "^^^^^^^^^^\n",
      "AttributeError: Can't get attribute 'printsec' on <module '__main__' (built-in)>\n"
     ]
    }
   ],
   "source": [
    "\n",
    "# 6. Use multiprocessing to create three separate processes. Make each one wait a random number of seconds between one and five, print the current time, and then exit.\n",
    "\n",
    "\n",
    "import multiprocessing\n",
    "import random\n",
    "from datetime import datetime\n",
    "from time import sleep\n",
    "    \n",
    "\n",
    "def printsec(seconds):\n",
    "    sleep(seconds)\n",
    "    print('wait', seconds, 'seconds, time is', datetime.cnow())\n",
    "    \n",
    "if __name__ == '__main__':\n",
    "    seconds = random.randint(1,5)\n",
    "    p1 = multiprocessing.Process(target=printsec, args=(seconds,))\n",
    "    p2 = multiprocessing.Process(target=printsec, args=(seconds,))\n",
    "    p3 = multiprocessing.Process(target=printsec, args=(seconds,))\n",
    "    \n",
    "    p1.start()\n",
    "    p2.start()\n",
    "    p3.start()\n",
    "   "
   ]
  },
  {
   "cell_type": "code",
   "execution_count": 19,
   "metadata": {},
   "outputs": [],
   "source": [
    "\n",
    "# 7. Create a date object of your day of birth.\n",
    "from datetime import date\n",
    "my_birthday = date(1989,2,27)\n",
    "\n"
   ]
  },
  {
   "cell_type": "code",
   "execution_count": 22,
   "metadata": {},
   "outputs": [
    {
     "data": {
      "text/plain": [
       "'Monday'"
      ]
     },
     "execution_count": 22,
     "metadata": {},
     "output_type": "execute_result"
    }
   ],
   "source": [
    "# 8. What day of the week was your day of birth?\n",
    "my_birthday.strftime('%A')\n"
   ]
  },
  {
   "cell_type": "code",
   "execution_count": 24,
   "metadata": {},
   "outputs": [
    {
     "name": "stdout",
     "output_type": "stream",
     "text": [
      "2016-07-15\n"
     ]
    }
   ],
   "source": [
    "# 9. When will you be (or when were you) 10,000 days old?\n",
    "from datetime import timedelta\n",
    "date_10k = my_birthday + timedelta(days=10000)\n",
    "print(date_10k)"
   ]
  },
  {
   "cell_type": "code",
   "execution_count": null,
   "metadata": {},
   "outputs": [],
   "source": []
  }
 ],
 "metadata": {
  "kernelspec": {
   "display_name": "Python 3",
   "language": "python",
   "name": "python3"
  },
  "language_info": {
   "codemirror_mode": {
    "name": "ipython",
    "version": 3
   },
   "file_extension": ".py",
   "mimetype": "text/x-python",
   "name": "python",
   "nbconvert_exporter": "python",
   "pygments_lexer": "ipython3",
   "version": "3.11.3"
  },
  "orig_nbformat": 4
 },
 "nbformat": 4,
 "nbformat_minor": 2
}
