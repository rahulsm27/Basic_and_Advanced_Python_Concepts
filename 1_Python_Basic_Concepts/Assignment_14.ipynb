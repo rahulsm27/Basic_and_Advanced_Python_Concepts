{
 "cells": [
  {
   "cell_type": "code",
   "execution_count": 12,
   "metadata": {},
   "outputs": [],
   "source": [
    "# 1. What does RGBA stand for?\n",
    "# RGBA stand for Red Green Blue and Aplha \n",
    "# Each image is pixel is made up of four value ranging between 0 to 255\n",
    "\n",
    "# 2. From the Pillow module, how do you get the RGBA value of any images?\n",
    "from PIL import ImageColor\n",
    "ImageColor.getcolor('green', 'RGBA')\n",
    "\n",
    "# 3. What is a box tuple, and how does it work?\n",
    "# A box tuple contains 4 values for X cordiante, Y  cordinate , width and Hgeight\n",
    "# it can be used to crop image\n",
    "\n",
    "\n",
    "\n",
    "# 4. Use your image and load in notebook then, How can you find out the width and height of an Image object?\n",
    "from PIL import Image\n",
    "im = Image.open('test.jpg')\n",
    "im.size\n",
    "\n",
    "# 5. What method would you call to get Image object for a 100×100 image, excluding the lower-left quarter of it?\n",
    "img2= im.crop(box = (0,0,50,50))\n",
    "\n",
    "\n",
    "# 6. After making changes to an Image object, how could you save it as an image file?\n",
    "img2.save('myimage_cropped.jpg')\n",
    "img2.show()\n",
    "\n",
    "# 7. What module contains Pillow’s shape-drawing code?\n",
    "# Image draw module\n",
    "\n",
    "# 8. Image objects do not have drawing methods. What kind of object does? How do you get this kind of object?\n",
    "# Image draw module\n",
    "#from PIL import ImageDraw, ImageFont\n",
    "#draw = ImageDraw.Draw(image)\n",
    "\n"
   ]
  },
  {
   "cell_type": "code",
   "execution_count": null,
   "metadata": {},
   "outputs": [],
   "source": []
  }
 ],
 "metadata": {
  "kernelspec": {
   "display_name": "Python 3",
   "language": "python",
   "name": "python3"
  },
  "language_info": {
   "codemirror_mode": {
    "name": "ipython",
    "version": 3
   },
   "file_extension": ".py",
   "mimetype": "text/x-python",
   "name": "python",
   "nbconvert_exporter": "python",
   "pygments_lexer": "ipython3",
   "version": "3.11.3"
  },
  "orig_nbformat": 4
 },
 "nbformat": 4,
 "nbformat_minor": 2
}
