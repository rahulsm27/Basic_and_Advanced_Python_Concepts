{
 "cells": [
  {
   "cell_type": "code",
   "execution_count": null,
   "metadata": {},
   "outputs": [],
   "source": [
    "# Q1. What is the purpose of Python&#39;s OOP?\n",
    "# In Python, object-oriented Programming (OOPs) is a programming paradigm that uses objects and classes in programming. It aims for code reuse —   minimize redundancy and program by customizing what already exists instead of changing code in place or starting from scratch.\n",
    "\n",
    "# Q2. Where does an inheritance search look for an attribute?\n",
    "# An inheritance search looks for an attribute first in the instance object, then in the class the instance was created from, then in all higher superclasses, progressing from left to right (by default). The search stops at the first place the attribute is found.\n",
    "\n",
    "# Q3. How do you distinguish between a class object and an instance object?\n",
    "\n",
    "# Classes are a kind of factory for creating multiple instances. Classes also support operator overloading methods, which instances inherit, and treat any functions nested in the class as methods for processing instances.\n",
    "\n",
    "# Q4. What makes the first argument in a class’s method function special?\n",
    "# It always receives the instance object that is the implied subject of the method call. It’s usually called ‘self’ by convention.\n",
    "\n",
    "\n",
    "\n",
    "# # Q5. What is the purpose of the __init__ method?\n",
    "# Python calls it automatically each time an instance of that class is created.\n",
    "\n",
    "# # Q6. What is the process for creating a class instance?\n",
    "#  Define a class first then create the functions after the class is made then create the object for calling the functions as per requirements. Example:\n",
    "\n",
    "# Q7. What is the process for creating a class?\n",
    "# class MyClass: #create class using class keyword\n",
    "#   x = 5\n",
    "\n",
    "# p1 = MyClass()\n",
    "# print(p1.x)\n",
    "\n",
    "# Q8. How would you define the superclasses of a class?\n",
    "# They are classes which are used to inherit from."
   ]
  },
  {
   "cell_type": "code",
   "execution_count": null,
   "metadata": {},
   "outputs": [],
   "source": []
  }
 ],
 "metadata": {
  "kernelspec": {
   "display_name": "Python 3",
   "language": "python",
   "name": "python3"
  },
  "language_info": {
   "codemirror_mode": {
    "name": "ipython",
    "version": 3
   },
   "file_extension": ".py",
   "mimetype": "text/x-python",
   "name": "python",
   "nbconvert_exporter": "python",
   "pygments_lexer": "ipython3",
   "version": "3.11.3"
  }
 },
 "nbformat": 4,
 "nbformat_minor": 4
}
