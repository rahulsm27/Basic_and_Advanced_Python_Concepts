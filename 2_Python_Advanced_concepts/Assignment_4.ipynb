{
 "cells": [
  {
   "cell_type": "code",
   "execution_count": 2,
   "metadata": {},
   "outputs": [
    {
     "name": "stdout",
     "output_type": "stream",
     "text": [
      "5\n",
      "6\n",
      "7\n",
      "8\n",
      "9\n",
      "10\n",
      "11\n",
      "12\n",
      "13\n",
      "14\n",
      "15\n"
     ]
    }
   ],
   "source": [
    "# Q1. Which two operator overloading methods can you use in your classes to support iteration?\n",
    "\n",
    "# iter and init\n",
    "\n",
    "class Counter:\n",
    "    def __init__(self, low, high):\n",
    "        self.current = low\n",
    "        self.high = high\n",
    " \n",
    "    def __iter__(self):\n",
    "        return self\n",
    " \n",
    "    def __next__(self):\n",
    "        if self.current > self.high:\n",
    "            raise StopIteration\n",
    "        else:\n",
    "            self.current += 1\n",
    "            return self.current - 1\n",
    " \n",
    " \n",
    "for num in Counter(5, 15):\n",
    "    print(num)\n",
    "\n",
    "# Q2. In what contexts do the two operator overloading methods manage printing?\n",
    "# In cases where the str() method is not defined, Python uses the repr() method to print the object, as well as to represent the object when str() is called on it.\n",
    "\n"
   ]
  },
  {
   "cell_type": "code",
   "execution_count": 6,
   "metadata": {},
   "outputs": [
    {
     "name": "stdout",
     "output_type": "stream",
     "text": [
      "ab\n",
      "ab\n",
      "1\n",
      "(1, 2)\n",
      "(1, 2, 3, 4)\n",
      "slice(1, 2, None)\n"
     ]
    }
   ],
   "source": [
    "# Q3. In a class, how do you intercept slice operations?\n",
    "# The __getitem__ method is used for accessing list items, array elements, dictionary entries etc. slice is a constructor in Python that creates slice object to represent set of indices that the range(start, stop, step) specifies. __getitem__ method can be implement in a class, and the behavior of slicing can be defined inside it.\n",
    "\n",
    "sliced ='abcde'.__getitem__(slice(0, 2, 1)) \n",
    "print(sliced)\n",
    "s = 'abcde'\n",
    "print(s[0:2])\n",
    "\n",
    "# using get item we can implement class slicing..here we are just print \n",
    "\n",
    "class Demo:\n",
    "\tdef __getitem__(self, key):\n",
    "\t\t\n",
    "\t\t# print a[1], a[1, 2],\n",
    "\t\t# a[1, 2, 3]\n",
    "\t\tprint(key)\n",
    "\t\t\n",
    "\t\t#return key\n",
    "a = Demo()\n",
    "\n",
    "# => slice 1\n",
    "a[1]\n",
    "\n",
    "# => slice(1, 2)\n",
    "a[1, 2]\n",
    "\n",
    "# => (1, 2, 3,4)\n",
    "a[1, 2, 3,4]\n",
    "\n",
    "a[1:2]\n",
    "\n"
   ]
  },
  {
   "cell_type": "code",
   "execution_count": null,
   "metadata": {},
   "outputs": [],
   "source": [
    "\n",
    "# Q4. In a class, how do you capture in-place addition?\n",
    "# You can set up the in-place addition behavior for your own class by overriding the magic “dunder” method __iadd__(self, other) in your class definition.\n",
    "\n",
    "class Data:\n",
    "    def __init__(self, data):\n",
    "        self.data = data\n",
    "    def __iadd__(self, other):\n",
    "        self.data += other.data\n",
    "        return self\n",
    "x = Data(40)\n",
    "y = Data(2)\n",
    "x += y\n",
    "print(x.data)\n"
   ]
  },
  {
   "cell_type": "code",
   "execution_count": null,
   "metadata": {},
   "outputs": [],
   "source": [
    "\n",
    "\n",
    "\n",
    "\n",
    "\n",
    "# Q5. When is it appropriate to use operator overloading?\n",
    "\n",
    "# The operator overloading in Python means provide extended meaning beyond their predefined operational meaning. Such as, we use the \"+\" operator for adding two integers as well as joining two strings or merging two lists. We can achieve this as the \"+\" operator by declaring __add__ method"
   ]
  }
 ],
 "metadata": {
  "kernelspec": {
   "display_name": "Python 3",
   "language": "python",
   "name": "python3"
  },
  "language_info": {
   "codemirror_mode": {
    "name": "ipython",
    "version": 3
   },
   "file_extension": ".py",
   "mimetype": "text/x-python",
   "name": "python",
   "nbconvert_exporter": "python",
   "pygments_lexer": "ipython3",
   "version": "3.11.3"
  }
 },
 "nbformat": 4,
 "nbformat_minor": 4
}
