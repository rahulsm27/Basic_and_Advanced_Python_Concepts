{
 "cells": [
  {
   "cell_type": "code",
   "execution_count": null,
   "metadata": {},
   "outputs": [],
   "source": [
    "# Q1. What is the meaning of multiple inheritance?\n",
    "#Multiple inheritance means that a subclass can inherit from two or more superclasses.\n",
    "\n",
    "# Q2. What is the concept of delegation?\n",
    "# Delegation is a design pattern in which an object, called the delegate, is responsible for performing certain tasks on behalf of another object, called the delegator. This can be done by the delegator forwarding method calls and attribute access to the delegate. In its most basic form, delegation can be implemented using the following approach: the delegator passes requests for certain actions to the delegate, which then performs the actions on behalf of the delegator.\n",
    "class A:\n",
    "  def spam(self, x):\n",
    "    pass\n",
    "  def foo(self):\n",
    "    pass\n",
    "class B:\n",
    "  def __init__(self):\n",
    "    self._a = A()\n",
    "  def spam(self, x):\n",
    "    # Delegate to the internal self._a instance\n",
    "    return self._a.spam(x)\n",
    "  def foo(self):\n",
    "    # Delegate to the internal self._a instance\n",
    "    return self._a.foo()\n",
    "  def bar(self):\n",
    "    pass\n",
    "\n"
   ]
  },
  {
   "cell_type": "code",
   "execution_count": null,
   "metadata": {},
   "outputs": [],
   "source": [
    "# However, if there are many methods to delegate, an alternative approach\n",
    "# is to define the __getattr__() method, like this:\n",
    "\n",
    "\n",
    "class A:\n",
    "  def spam(self, x):\n",
    "    pass\n",
    "  def foo(self):\n",
    "    pass\n",
    "class B:\n",
    "  def __init__(self):\n",
    "    self._a = A()\n",
    "  def bar(self):\n",
    "    pass\n",
    "    # Expose all of the methods defined on class A\n",
    "  def __getattr__(self, name):\n",
    "    return getattr(self._a, name)\n",
    "\n"
   ]
  },
  {
   "cell_type": "code",
   "execution_count": null,
   "metadata": {},
   "outputs": [],
   "source": [
    "# Q3. What is the concept of composition?\n",
    "# It is one of the fundamental concepts of Object-Oriented Programming. In this concept, we will describe a class that references to one or more objects of other classes as an Instance variable. Here, by using the class name or by creating the object we can access the members of one class inside another class. It enables creating complex types by combining objects of different classes. It means that a class Composite can contain an object of another class Component\n",
    "class Component:\n",
    "\n",
    "# composite class constructor\n",
    "\tdef __init__(self):\n",
    "\t\tprint('Component class object created...')\n",
    "\n",
    "\t# composite class instance method\n",
    "\tdef m1(self):\n",
    "\t\tprint('Component class m1() method executed...')\n",
    "\n",
    "\n",
    "class Composite:\n",
    "\n",
    "\t# composite class constructor\n",
    "\tdef __init__(self):\n",
    "\n",
    "\t\t# creating object of component class\n",
    "\t\tself.obj1 = Component()\n",
    "\t\t\n",
    "\t\tprint('Composite class object also created...')\n",
    "\n",
    "\t# composite class instance method\n",
    "\tdef m2(self):\n",
    "\t\t\n",
    "\t\tprint('Composite class m2() method executed...')\n",
    "\n",
    "\t\t# calling m1() method of component class\n",
    "\t\tself.obj1.m1()\n",
    "\n",
    "\n",
    "# creating object of composite class\n",
    "obj2 = Composite()\n",
    "\n",
    "# calling m2() method of composite class\n",
    "obj2.m2()\n",
    "\n"
   ]
  },
  {
   "cell_type": "code",
   "execution_count": null,
   "metadata": {},
   "outputs": [],
   "source": [
    "# Q4. What are bound methods and how do we use them?\n",
    "\n",
    "# A bound method is the one which is dependent on the instance of the class as the first argument. It passes the instance as the first argument which is used to access the variables and functions. In Python 3 and newer versions of python, all functions in the class are by default bound methods.\n",
    "\n",
    "# using self in methods.\n",
    "\n"
   ]
  },
  {
   "cell_type": "code",
   "execution_count": null,
   "metadata": {},
   "outputs": [],
   "source": [
    "# Q5. What is the purpose of pseudoprivate attributes?\n",
    "#protected..cannot be accessed outside class..declare with _\n",
    "\n"
   ]
  }
 ],
 "metadata": {
  "kernelspec": {
   "display_name": "Python 3",
   "language": "python",
   "name": "python3"
  },
  "language_info": {
   "codemirror_mode": {
    "name": "ipython",
    "version": 3
   },
   "file_extension": ".py",
   "mimetype": "text/x-python",
   "name": "python",
   "nbconvert_exporter": "python",
   "pygments_lexer": "ipython3",
   "version": "3.11.3"
  }
 },
 "nbformat": 4,
 "nbformat_minor": 4
}
