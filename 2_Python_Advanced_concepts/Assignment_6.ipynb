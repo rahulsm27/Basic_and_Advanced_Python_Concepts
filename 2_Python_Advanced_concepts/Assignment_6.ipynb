{
 "cells": [
  {
   "cell_type": "code",
   "execution_count": 6,
   "metadata": {},
   "outputs": [],
   "source": [
    "# Q1. Describe three applications for exception processing.\n",
    "\n",
    "# # n Python, there are several built-in exceptions that can be raised when an error occurs during the execution of a program. Here are some of the most common types of exceptions in Python:\n",
    "\n",
    "# 1.Try except  - to capture exception\n",
    "# 2. raise statement - to raise perticule exception\n",
    "\n",
    "# Q2. What happens if you don&#39;t do something extra to treat an exception?\n",
    "colors = [2,3]\n",
    "try:\n",
    "    colors[10]\n",
    "except IndexError:\n",
    "    colors *2\n",
    "\n",
    "    # If your code raises an exception in a function but doesn’t handle it there, then the exception propagates to where you called function. If your code doesn’t handle it there either, then it continues propagating until it reaches the main program. If there’s no exception handler there, then the program halts with an exception traceback.\n",
    "\n",
    "# Q3. What are your options for recovering from an exception in your script?\n",
    "# Exception handling and logging the exceptions are basic ideas that a programmer should follow. Also writing the code in modular fashion helps in easily fidong the errors in end products and logging make it easier for deelopers to resolve the issue at their end.\n",
    "\n",
    "\n",
    "# Q4. Describe two methods for triggering exceptions in your script.\n",
    "# 1.Try except  - to capture exception\n",
    "# 2. raise statement - to raise perticule exception\n",
    "\n",
    "# Q5. Identify two methods for specifying actions to be executed at termination time, regardless of\n",
    "# whether or not an exception exists.\n",
    "# These methods are finally and else"
   ]
  },
  {
   "cell_type": "code",
   "execution_count": null,
   "metadata": {},
   "outputs": [],
   "source": []
  }
 ],
 "metadata": {
  "kernelspec": {
   "display_name": "Python 3",
   "language": "python",
   "name": "python3"
  },
  "language_info": {
   "codemirror_mode": {
    "name": "ipython",
    "version": 3
   },
   "file_extension": ".py",
   "mimetype": "text/x-python",
   "name": "python",
   "nbconvert_exporter": "python",
   "pygments_lexer": "ipython3",
   "version": "3.11.3"
  }
 },
 "nbformat": 4,
 "nbformat_minor": 4
}
