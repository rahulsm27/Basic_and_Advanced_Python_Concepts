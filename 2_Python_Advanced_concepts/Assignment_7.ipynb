{
 "cells": [
  {
   "cell_type": "code",
   "execution_count": null,
   "metadata": {},
   "outputs": [],
   "source": [
    "# Q1. What is the purpose of the try statement?\n",
    "# try:\n",
    "#     # Some Code\n",
    "# except:\n",
    "#     # Executed if error in the\n",
    "#     # try block\n",
    "# else:\n",
    "#     # execute if no exception\n",
    "# finally:\n",
    "#     # Some code .....(always executed)\n",
    "\n",
    "\n",
    "\n",
    "\n",
    "\n",
    "# # Q2. What are the two most popular try statement variations?\n",
    "# Variation 1:\n",
    "\n",
    "# try: # Some Code except: # Executed if error in the # try block\n",
    "\n",
    "# Variation 2:\n",
    "\n",
    "# try: # Some Code except: # Executed if error in the # try block else: # execute if no exception\n",
    "\n",
    "\n",
    "\n",
    "\n",
    "\n",
    "# # Q3. What is the purpose of the raise statement?\n",
    "# Answer: The raise keyword is used to raise an exception. We can define what kind of error to raise, and the text to print to the user.\n",
    "\n",
    "\n",
    "\n"
   ]
  },
  {
   "cell_type": "code",
   "execution_count": null,
   "metadata": {},
   "outputs": [],
   "source": [
    "\n",
    "\n",
    "# Q4. What does the assert statement do, and what other statement is it like?\n",
    "# An assert statement checks whether a condition is true. If a condition evaluates to True, a program will keep running. If a condition is false, the program will return an AssertionError. At this point, the program will stop executing. Assertion is like raise statement.\n",
    "\n",
    "# Q5. What is the purpose of the with/as argument, and what other statement is it like?.# using with statement\n",
    "# with statement is used in exception handling to make the code cleaner and much more readable.\n",
    "# The with statement itself ensures proper acquisition and release of resources.\n",
    "# with open('file_path', 'w') as file:\n",
    "#     file.write('hello world !')"
   ]
  }
 ],
 "metadata": {
  "kernelspec": {
   "display_name": "Python 3",
   "language": "python",
   "name": "python3"
  },
  "language_info": {
   "codemirror_mode": {
    "name": "ipython",
    "version": 3
   },
   "file_extension": ".py",
   "mimetype": "text/x-python",
   "name": "python",
   "nbconvert_exporter": "python",
   "pygments_lexer": "ipython3",
   "version": "3.11.3"
  }
 },
 "nbformat": 4,
 "nbformat_minor": 4
}
